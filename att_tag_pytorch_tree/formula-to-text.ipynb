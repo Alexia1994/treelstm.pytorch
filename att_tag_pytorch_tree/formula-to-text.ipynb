{
 "cells": [
  {
   "cell_type": "code",
   "execution_count": null,
   "metadata": {},
   "outputs": [
    {
     "name": "stdout",
     "output_type": "stream",
     "text": [
      "{'text': 'One number is 3 less than a second number . Twice the second number is 12 less than 5 times the first . Find the two numbers .', 'equations': 'equ : x + 3 = y equ : 2 * y + 12 = 5 * x', 'ans': '6 ; 9', 'flag': 0, 'id': 'yahoo.answers.20091227181039aazhen8'}\n",
      "14\n",
      "45\n",
      "[['equ : x + 3 = y equ : 2 * y + 12 = 5 * x', 'one number is 3 less than a second number . twice the second number is 12 less than 5 times the first . find the two numbers .'], ['equ : x = y - 12 equ : x + y = 28', 'a number is 12 less than another . the sum of the numbers is 28 . find the numbers .'], ['equ : x + y = 91 equ : x = 1 + 4 * y', 'the sum of two numbers is 91 . the larger number is 1 more than 4 times the smaller number . find the numbers .'], ['equ : 6 * x - 5 = 8 * x - 9', '5 less than 6 times a whole number is 9 less than 8 times that number . find the number .'], ['equ : x + y = 125 equ : 5 * x - 3 * y = 41', 'the sum of two numbers is 125 . five times one number minus three times the other is 41 . find the numbers .'], ['equ : 1 / 3 * x = 1 / 2 * x - 5', '1 / 3 of a number is 5 less than half of the same number . what is the number ?'], ['equ : 8 * x - 66 = 2 * x', 'i think of a number multiply it by 8 then subtract 66 . the result is twice the number that i was thinking .'], ['equ : 8 * x = 24 + 2 * x', 'eight times a number equals 24 more than two times the number . what is the number ?'], ['equ : x + y = 574 equ : x = 6 * y', 'the sum of two numbers is 574 . one number is six times the other . find the larger number .'], ['equ : 120 = 100 ( x / 10 )', '120 = 100 ( m / 10 ) , what is the value of m ?'], ['equ : ( 2 * x - 1 ) ( 2 * x + 1 ) = 143', 'the product of two consecutive odd numbers is 143 . find the numbers .'], ['equ : x = 12 + 1 / 3 * ( x + 2 )', 'find two consecutive odd integers such that the smaller one is 12 more than one - third the larger'], ['equ : 9 + 4 * x = 2 * x - 1', 'nine more than four times a number is the same as one less than twice the number . find the number .'], ['equ : x y = 64 equ : x = 4 * y equ : x > 0 equ : y > 0', 'the product of two positive integers is 64 . determine the two integers if one number is 4 times the other .'], ['equ : x = 2 * y equ : x - 10 = y + 2', 'one number is twice another number . when the larger is diminished by 10 , the result is 2 greater than the smaller . find the numbers .'], ['equ : 2 * x + 1 = 8 + 3 ( 2 * x - 1 )', 'the greater of two consecutive odd integers is eight more than three times the smaller . find the two odd integers .'], ['equ : x + y = 56 equ : x - y = 22', 'the sum of two numbers is 56 . their difference is 22 . find the larger number .'], ['equ : x + 2 ( x + 2 ) + 3 ( x + 4 ) = 124', '3 consecutive even integers are given by x , x + 2 , and x + 4 . find these three numbers such that the sum of the first , two times the second , and three times the third is 124 .'], ['equ : x ^ 2 - 6 * x = 40', 'six times a number subtracted from the number squared is 40 . find the number .'], ['equ : 5 * x + 2 * x = 10', 'when 5 times a number is added to twice the number , the result is 10 . find the number .'], ['equ : x - y = 9 equ : 2 * x + 3 * y = 33', 'the difference between two numbers is 9 . the sum of twice the larger number and three times the smaller number is 33 . find the two numbers .'], ['equ : x = y - 6 equ : 2 * y = 48 + 5 * x', 'one number is 6 less than a second number . twice the second number is 48 more than 5 times the first . find the 2 numbers ?'], ['equ : 5 * x + 3 * y = 47 equ : 10 * x - 4 * y = 54', 'if 5 times the first number plus three times the second number equals 47 , and 10 times the first number minus 4 times the second number equals 54 , what are the numbers ?'], ['equ : z = 10 * x + y equ : x + y = 9 equ : 10 * y + x = 45 + z', 'the sum of the digits of a two digit number is 9 . if the digits are reversed , the number is increased by 45 . find the original number .'], ['equ : z = 10 * x + y equ : z = 2 ( x + y ) equ : is _ digit ( x ) equ : is _ digit ( y ) equ : z > 0', 'there is only one positive integer which is exactly twice the sum of its digits . what is the two - digit number ?'], ['equ : 4 * ( x - 6 ) = 2 * x', 'four times the difference of a number and six is equal to twice the number . find the number .'], ['equ : x / 2 + 1 / x = 51 / x', 'the sum of half a number and its reciprocal is the same as 51 divided by the number . find the number .'], ['equ : 5 * x - 60 = x', 'i think of a number . i multiply the number by 5 and minus 60 . i end up with the number i started with . what is my number ?'], ['equ : 6 * x = 45 + x', 'find a number whose product with 6 is the same as its sum with 45 .'], ['equ : x + 6 = 3 * x', 'six more than a number is 3 times the number . what is the number ?'], ['equ : s = ( 99 + 3 ) x / 2 equ : 3 + 3 ( x - 1 ) = 99', 'find the sum of all the multiples of three between 1 and 100 .'], ['equ : y ^ 2 + z ^ 2 + w ^ 2 = 99 equ : y z + z w + y w = 35 equ : x = y + z + w', 'if a ^ 2 + b ^ 2 + c ^ 2 = 99 , and a b + b c + a c = 35 , find the value of a + b + c .'], ['equ : x - y = y - 3 equ : y - 3 = 6', 'if a - b = b - 3 = 6 , what is the value of a ?'], ['equ : x + y = 10 equ : x ^ 2 - y ^ 2 = 40', 'given that a + b = 10 and a ^ 2 - b ^ 2 = 40 , find the value of a - b .'], ['equ : x / ( - 7 ) - 2 = 10', 'the quotient of a number and - 7 , decreased by 2 , is 10 . find the number .'], ['equ : x / 3 - 9 = 18', 'nine less than the quotient of a number and 3 is 18 . find the number .'], ['equ : x = 1 / 9 + 2 / 3 + 5 / 18', 'the sum of 1 / 9 , 2 / 3 , and 5 / 18 is ?'], ['equ : x = 27 + 2 ( - 1 * x )', 'find the number that is 27 greater than twice the opposite of itself .'], ['equ : x + y = - 1 equ : x ^ 2 + y ^ 2 = 61', 'find two integers such that their sum is - 1 and the sum of their squares is 61 .'], ['equ : x = 10 * y + z equ : y + z = 13 equ : x = 4 + 5 * z', 'the sum of the digits of a two digit number is 13 . the number is 4 more than 5 times the unit digit . find the number .'], ['equ : 5 * ( 2.5 * 2.5 ) = x equ : y * ( 9 * 9 ) = x', 'if y varies inversely as the square of x and y = 5 when x = 2.5 , what is the value of y when x = 9 ?'], ['equ : 5 ( x + 2 ) = 2 * x + ( 7 + ( x + 1 ) )', 'find three consecutive integers such that five times the third integer equals twice the first integer plus seven more than the second integer .'], ['equ : y = z + log ( x )', 'if log 28 = log 4 + log x , what is the value of x ?'], ['equ : ( 1 + 0.4 ) * x = 42', 'a number when increased by 40% becomes 42 . what is the number ?'], ['equ : 6 * x + 4 = - 30', 'the sum of 6 times a number ( n ) and ( 4 ) is - 30 . what is the number ?'], ['equ : x + 3 * y = 12 equ : 2 / 3 * x - y = 5', 'if x + 3 y = 12 and 2 / 3 x - y = 5 , what is the value of x ?'], ['equ : ( x + 5 * x + 6 * x ) / 3 = 8', 'if the average ( arithmetic mean ) of x , 5 x , and 6 x is 8 , what is the value of x ?'], ['equ : 6 ( 1 / x ) = 2 ( 1 / 4 )', 'six times the reciprocal of a number equals 2 times the reciprocal of 4 . find the number ?'], ['equ : x = 4 equ : y = 100 * x + 10 * z + w equ : w = z + 3 equ : x + z + w = 13', 'i am a number between 400 and 500 . my ones digit is 3 more than my tens digit . the sum of my digits is 13 . what number am i ?'], ['equ : z = 10 * x + y equ : x + y = 10 equ : 10 * y + x = z - 18', 'the sum of the digits of a 2 - digit is 10 . if the digits are reversed the new is 18 less than the original . what is the answer ?'], ['equ : 1 / 2 * ( x + 2 ) = 1 / 3 * ( 3 * x - 6 )', 'one half the sum of a number and 2 is equal to one third of the difference of three times the number and six . what is the number ?'], ['equ : x + 2 = y equ : y + 2 = z equ : z + 2 = w equ : x + w = x + y + z + w', 'find four consecutive odd integers so that the sum of smallest integer and the largest integer is the same as the sum of the four integers ?'], ['equ : 2 * ( x + y ) = x * y equ : y = 9 * x', 'find two numbers so that twice their sum equals their product and one number is 9 times the other number . enter the smaller number first .'], ['equ : x = ( 3 + 2 / 3 ) * ( 14 + 2 / 5 )', 'what is the product of 3 + 2 / 3 and 14 + 2 / 5 ?'], ['equ : x = ( 1 / 3 + 1 / 2 ) - 1 / 3 * 1 / 2', 'when the product of 1 / 3 and 1 / 2 is subtracted from the sum of 1 / 3 and 1 / 2 , what is the difference ?'], ['equ : 2 + x / 7 = 20 / 7', 'what is the number x in 2 + x / 7 = 20 / 7 ?'], ['equ : x + y = 4 equ : x + z = 9', 'if x + y = 4 , and x + z = 9 , what is the value of ( y - z ) ?'], ['equ : x = 9 * 9 * 9 - 1', 'how many positive integers less than 1 , 000 do not have 7 as any digit ?'], ['equ : 2 - 1 / ( 4 * x ) = 2 / x', 'when the reciprocal of 4 times a number is subtracted from 2 , the result is twice the reciprocal of the number . find the number .'], ['equ : z % 2 = 1 equ : z + 2 = w equ : w + 2 = x equ : x + 2 = y equ : z + w + x + y = 3 + 5 * z', 'the sum of 4 consecutive odd integers is 3 more than 5 times the least of the integers . find the integers .'], ['equ : ( 17 - x ) / ( 25 - x ) = 3 / 5', 'what number can be subtracted from both the numerator and the denominator of 17 / 25 to form a fraction equal to 3 / 5 ?'], ['equ : 1 / x - 1 / ( 3 * x ) = 1 / 6', 'when the reciprocal of three times a number is subtracted from the reciprocal of the number , the result is one sixth . find the number .'], ['equ : 5 x / 60 = 20 / 1000', 'a car travels 20 meters in 5 mins . what was its speed ?'], ['equ : x ^ 2 + y ^ 2 = 121 equ : x > 0 equ : y > 0', 'use pythagorean theorem in triangle . a and b are equal . c square is 121 , so whats a and b ?'], ['equ : 0.7 / x = 5.5 / 100 equ : 0.7 * 100 = 5.5 * x', 'if your given that a biscuit has 0.7 grams of protein and that 100 grams of the same biscuit has 5.5 grams of protein .. how do you find out the weight of the biscuit ? ?'], ['equ : x = 57 - 13 equ : y = ( 13 + 57 + 23 + 42 + 15 ) / 5', 'what is the range and mean for this group of numbers 13 , 57 , 23 , 42 , 15 ?'], ['equ : ( 1 + 2 x - 1 ) * x / 2 = 400', 'the sum of the first n odd numbers is 400 . whats is the value of n ?'], ['equ : x = 1 / ( 3 * ( - 2 ) - 2 )', 'g ( t ) = 3 t - 2 , find g ^ - 1 ( - 2 ) .'], ['equ : x = 1 / 2 + 1 / 5 + 3 / 10', 'three letters weigh 1 / 2 o z 1 / 5 and 3 / 10 o z . what is the total weight of the letters ?'], ['equ : x = 180 - 60', 'if an angle has the measure of 60 degrees , what is the measure of the supplement . ?'], ['equ : x + y = 24 equ : z = 0.25 * x + 0.5 * y equ : z + 2 = 2 * 0.5 * y + 0.25 * x / 2', 'jeremy has 24 quarters and half dollars . if he had twice as many half dollars and half as many quarters , he would have $ 2 more . how much money does he have ?'], ['equ : 3 * x = u equ : ( x - 1 ) * ( u + 3 ) = 72', 'the length of a rectangle is three times the width . if the width is diminished by 1 meter and the length is increased by 3 meter , the area will be 72 sq cm . find the dimensions of the original rectangle .'], ['equ : x + y = 39 equ : x - y = 11', 'which two numbers have a sum of 39 and a difference of 11 ?'], ['equ : x = 20 * 15', 'find the area of a playground that is 20 m long and 15 m wide .'], ['equ : x + y + z = 40 equ : z = x + 5 equ : y + 3 = z', 'an apple , an orange and a pear cost $ 40 . a pear costs $ 5 more than an apple , while an orange costs $ 3 less than a pear . how much is the cost of each fruit ?'], ['equ : ( 20 + 3 / 4 ( 12 - x ) ) = ( 2 / 3 x - 10 )', '( 20 plus 3 / 4 ( 12 - y ) ) = ( 2 / 3 y - 10 ) ? solve this equation .'], ['equ : x = 36 * 15 + 7 * 15 * ( 1 + 1 / 2 )', \"rochelle earns $ 15 per hour , and she earns time and a half for overtime , last week , rochelle worked 36 regular hours and 7 overtime hours . what was rochelle ' s total pay last week ?\"], ['equ : x = 25 * 2 / 5', 'a store has 25 bikes . 2 / 5 of them are red . how many bikes are red ?'], ['equ : x * x = 400 equ : u = 4 * x', 'the area of a square is 400 m squared . ? what is the length of one of its sides ? what is the perimeter ?'], ['equ : y = 3 * y + 2 equ : 2 * y + 3 * y = 13', 'find the coordinates of the points where the graphs of these two lines meet : y = 3 x + 2 and 2 y + 3 x = 13'], ['equ : x + y = 77 equ : x - y = 23', 'the sum of two numbers is 77 . their difference is 23 , what are the two numbers ?'], ['equ : x = 48 / 80', 'at the track meet , 80 students won ribbons . 48 of the ribbons were 1 s t place . what percent of the ribbons were 1 s t place ?'], ['equ : x = 2 y + 3 equ : x y = 10 equ : x > 0 equ : y > 0', 'the length of a rectangle exceeds twice its width by 3 inches . if the area is 10 square inches , find the dimensions of the rectangle . round to the nearest tenth of an inch .'], ['equ : x = 10 y + z equ : x = 3 y z equ : is _ digit ( y ) equ : is _ digit ( z ) equ : y > 0', 'find a 2 - digit number that is equal to three times the product of its digits ?'], ['equ : x + x ^ 2 = 72', 'the sum of a number and its square is 72 . what is this number ?'], ['equ : x = ( 100 + 90 + 82 + 96 + 78 + 100 ) / 6', 'your test scores are 100 , 90 , 82 , 96 , and 78 . you have only one more test to take . after you complete the last test , what is your highest possible average ?'], ['equ : z = ( 10 z ^ 4 z ^ 2 ) * ( 3 z z ^ 3 )', 'what is the product of 10 x ^ 4 y ^ 2 and 3 x y ^ 3 ?'], ['equ : 1 * 1 * x = ( 40 / 4 ) ^ 2', 'the perimeter of a square is 40 inches . how many square tiles with sides 1 inch long are needed to cover its area ?'], ['equ : sin ( ? ? ) = 3 / 5 equ : 90 ? ? < ? ? < 180 ? ?', 'find cos ( theta ) if sin ( theta ) = 3 / 5 and 90 degrees < theta < 180 degrees ?'], ['equ : x - 12 = - 10', 'the difference of a number and 12 is - 10 . what is the number ?'], ['equ : p = 3 * 30 equ : 30 = 2 o equ : x = p - o', 'peter has three times as many videos as japhet . japhet has twice as many videos as joyce . japhet has 30 videos . how many more videos does peter have than joyce ?'], ['equ : x + y + o = 78 equ : x + 1 = y equ : y + 1 = o', 'the sum of three consecutive numbers is 78 . what are the numbers ?'], ['equ : x * sin ( 60 ) = 8.3', 'in a 30 - 60 degree right triangle , the length of the side opposite the 60 degree angle is 8.3 m . how long is the hypotenuse ?'], ['equ : x = 3 / 6 * 5 / 6', 'a number cube is rolled twice . what is the probability of getting a number less than 4 on the first roll and less than 6 on the second roll ?'], ['equ : 36 ^ 2 + 15 ^ 2 = x ^ 2 equ : x > 0', 'a rectangular desk measures 36 inches by 15 inches . what is the measure of a diagonal of the desk , to the nearest tenth of an inch .'], ['equ : x = - 1 - ( - 5 ) equ : - 5 + ( y - 1 ) * x = 147', 'for the sequence - 5 , - 1 , 3 , 7 , .... , which term is 147 ?'], ['equ : x + y = 36 equ : y = x + 8', 'the total given no of students including boys and girls is 36 . there are 8 more girls than the number of boys . so what are the number of boys and girls present .'], ['equ : 2 * 3.14 * 4 ^ 2 + 2 * 3.14 * 4 * x = 56 * 3.14', 'the total surface area of a cylinder of radius 4 cm is 56 ? ? cm2 , the height , in cm , of the cylinder is ?'], ['equ : - 3 ( 4 + x ) + 7 ( - 3 x ) = 72', 'solve for x . - 3 ( 4 + x ) + 7 ( - 3 x ) = 72'], ['equ : x = 320 / ( 320 + 180 ) equ : y = 180 / ( 320 + 180 )', 'a school has 320 girls and 180 boys . what percentage are girls ? what percentage are boys ?'], ['equ : 3 / 4 * ( x - 2 ) + 2 * ( 3 x + 1 / 4 ) = - 11', '3 / 4 ( x - 2 ) + 2 ( 3 x + 1 / 4 ) = - 11 find x as a fraction'], ['equ : x / 2 = 350 / 25', 'the ratio of teachers to students in a middle school is 2 to 25 , there are 350 students in the school , find the number of teachers .'], ['equ : x = 6.8 / 2 * 22', 'if 2 centimeters on a map represents 22 miles , which is the best estimate of the number of miles represented by 6.8 cm . on the map ? a . ) 88 b . ) 77 c . ) 66 d . ) 55'], ['equ : x = _ cm ( 6 4 ) * _ cm ( 8 6 ) + _ cm ( 6 5 ) * _ cm ( 8 5 ) + _ cm ( 6 6 ) * _ cm ( 8 4 )', 'in how many ways can a group of 10 people be chosen from 6 adults and 8 children if the group must contain a t least 4 adults ?'], ['equ : ( ( x ^ 2 + 1 ) / ( x - 1 ) ) + 1 + ( ( 1 + 3 x ) / ( 2 - 2 x ) ) = 0', '[ ( x ^ 2 + 1 ) / ( x - 1 ) ] + 1 + [ ( 1 + 3 x ) / ( 2 - 2 x ) ] = 0 solve for x .'], ['equ : x = 3000 * ( 1 + 0.055 )', 'a bank pays 5.5% simple interest per yr . find the total amount a t the end of one yr on a principal of $ 3 , 000 .'], ['equ : 3.14 * x * ( 13 / 2 ) ^ 2 = 1000', 'a cylinder has a volume of 1000 cm ^ 3 and a diameter of 13 cm . what is the height of the cylinder ?'], ['equ : x = ( 10 + 15 ) / 2', 'what is the median of these four numbers : 5 , 10 , 15 , 20'], ['equ : x = 2 * 3.14 * 1 * 2 equ : y = 2 * 3.14 * 1 ^ 2 + 2 * 3.14 * 1 * 2', 'there is a cylinder that has its radius as 1 cm and the height as 2 cm . can you help me find the volume and surface area of this cylinder ?'], ['equ : 5 x - 20 = 3 x - 2', 'if u have a pair of vertical angles , and one angle equals 5 x - 20 and the other angle equals 3 x - 2 , find the measure of each angle .'], ['equ : x = 5 / 6 + 1 / 8', \"what ' s the sum of 5 / 6 + 1 / 8 ?\"], ['equ : x - 1 / x = 45 / 14', 'the difference between a number and its reciprocal is 45 / 14 . find all possible values for this number .'], ['equ : x + 2 = y equ : y + 2 = o equ : x + y + o = 180', 'the sum of three consecutive even integers is 180 . find the integers ?'], ['equ : x = 95 / 100 * 0.400 + 73 / 100 * 0.400 + 96 / 100 * 0.100 + 70 / 100 * 0.100', 'what is my final grade ? 95 points out of 100 worth 40% of total grade 73 out of 100 worth 40% 96 out of 100 worth 10% 70 out of 100 worth 10%'], ['equ : x = ( 9 / 4 ) / 2 equ : y = ( 2 / 3 ) / 2', 'what is 2 1 / 4 divided by 2 ? what is 2 / 3 divided by 2 ?'], ['equ : ( 17 / 2 ) * x = 5', 'by what fraction would you multiply 8 1 / 2 so that the product is about 5 ?'], ['equ : x / 50 = 1 / 2 / 10 equ : y / 80 = 1 / 2 / 10', 'a barn is 50 feet wide by 80 feet long . the scale of a drawing of the barn is 1 / 2 in = 10 ft . find the dimensions of he barn on the scale drawing .'], ['equ : x = 1 / 2 * ( 20 * 6 * 8 )', 'volume for a triangular prism , the height is 8 cm , the length is 20 cm , and width is 6 cm . what would be the volume and how ?'], ['equ : x + 5 * x - 4 = 26', 'one number is 4 less than 5 times another . if the sum of the numbers is 26 , what are the two numbers ?'], ['equ : ( 136 - 3 ) / 19 = x', 'if the first term in an arithmetic series is 3 , the last term is 136 , and the sum is 1 , 390 , what are the first three term ?'], ['equ : x = 72 / 9', 'a trapezoid has an area of 72 and height of 9 . what is its median'], ['equ : x = 40 * ( 1 - 0.2 )', 'if i want to buy something for 40 dollars and i have a coupon to get get 20% off , how much will it cost me ?'], ['equ : x + y + z = 15 equ : 2 * y = x equ : x - 5 = z', 'the sum of 3 numbers is 15 , second number is double the the first , the 3 r d number is 5 less than the first . how do i write this as an equation ?'], ['equ : x = 210 / ( 8 / 3 )', \"ann drives the 210 k m in 2 hours 40 minutes , work out ann ' s average speed .\"], ['equ : 15 / x = 7 / 175', 'a car can go 175 miles on 7 gallons of gas . how far could it go on 15 gallons ?'], ['equ : 42 = ( 3 + 4 ) x / 2', 'the base of the trapezoid are 3 feet and 4 feet , the area is 42 square feet . find the height .'], ['equ : 2 ( x + 2 x ) = 72', 'the perimeter of rectangle abcd is 72 . the ratio of the lengths of the sides is 1 : 2 . what are the lengths of the sides ?'], ['equ : x = 2 ( 3 * 3 + 3 * 2 + 3 * 2 )', 'if the box measure 3 feet by 3 feet by 2 feet , what is the surface area of the box that will need to be covered'], ['equ : 12 x - 7 x = 275', 'find two numbers in the ratio of 7 : 12 so that the greater number exceeds the smaller by 275 .'], ['equ : x + y = 7 equ : 10 y + x = ( 10 x + y ) * 4 - 3', 'the sum of the digits of a 2 digit number is 7 . if the digits are reversed , the new number is 3 less than 4 times the original number . find the number .'], ['equ : x ^ 2 + 15 x - 450 = 0', 'x to the 2 n d power plus 15 x minus 450 equals 0'], ['equ : x = 2 * ( 12 + 18 + 8 * 4 )', 'a fence needs to be placed around a pool that measures 12 feet by 18 feet . around the entire pool is an 8 feet wide deck . how many feet of fencing will be needed ?'], ['equ : x + ( x + 45 ) = ( 6 * x - 11 ) equ : y = x + 45', 'the difference between 2 nos . is 45 and their sum is 6 times the smaller no . decreased by 11 . what are the nos ?'], ['equ : 7 * x = 5 * y equ : ( x + 9 ) = 2 * ( y - 9 )', 'the present ages of parul and sonia are in the ratio 5 : 7 . if parul was 9 years older and sonia 9 years younger , the age of parul would have been twice the age of sonia . find their ages .'], ['equ : 4 * x + 4 * x + x = 30', 'find the measure of the triangle if the perimeter is 30 feet , the triangle has 2 equal sides which are both 4 x feet and a shorter side that is x feet .'], ['equ : x = 20 - 9 - 5', 'there are 20 pencils in a box , a mixture of green , red and blue . if there are 9 red and 5 blue . how many green ones are there ?'], ['equ : 2 * x + 5 = 8 * x - 7', '5 more than 2 times a whole number is 7 less than 8 times that number . find the number ?'], ['equ : x = 4 * tan ( 60 )', 'in a 30 ° , 60 ° , 90 ° . right triangle , the shorter leg has a length of 4 . what is the length of the longer leg ?'], ['equ : x = 280 / 4 * 6', '. if 2000 were invested in an account for 4 years , the interest is earned is 280 $ , how much would be earned in 6 years .'], ['equ : x = 6 * 4 / 2', 'find the area and perimeter of triangle abc with vertices a ( - 1 , 3 ) , b ( 2 , 7 ) , c ( 5 , 3 ) ?'], ['equ : x = ( 15 + 3 / 8 ) - ( 11 + 1 / 5 )', 'subtract : 15 3 / 8 - 11 1 / 5 . write the answer in simplest form ?'], ['equ : 3 * x - 20 = 20 - 5 * x', 'the first three terms of an arithmetic series are 5 x , 20 and 3 x . what is the value of x ?'], ['equ : 8 / ( x - 3 ) = 14 / ( x + 3 )', 'the speed of a stream is 3 mph . a boat travels 8 miles upstream in the same time it takes to travel 14 miles downstream . what is the speed of the boat in still water ?'], ['equ : x = 120 / 0.600 * 0.400', 'in a certain school , 40% of all students are 8 years old or younger . the number of the remaining students is 120 . how many students are 8 years old or younger ?'], ['equ : x = 144', \"the measure of an angle is four times it ' s supplement . what ' s the measure of the angle ? a . 72 degrees b . 18 c . 144 d . 36\"], ['equ : x = ( 2 / 5 ) / ( 4 / 15 )', 'find the common ratio of the following geometric sequence ? 4 / 15 , 2 / 5 , 3 / 5 , 9 / 10 , 27 / 20 .'], ['equ : x + y + z = 20 equ : y = 4 * x equ : x + z = 8', 'the sum of 3 numbers is 20 . the second number is 4 times the first and the sum of the first and third is 8 . what are the 3 numbers ?'], ['equ : 3 * x + 4 * x + 5 * x = 30', 'the sides of a triangle are in the ratio 3 : 4 : 5 . what is the length of each side if the perimeter is 30 c m ?'], ['equ : 7 * x = 4 * 6', 'if it takes 4 men 6 hours to repair a road , how long will it take 7 men to do the job if they work a t the same rate ?'], ['equ : x = ( - 2 - 6 ) / ( 5 - 3 )', 'find the slope of the line that passes through points ( 3 , 6 ) and ( 5 , - 2 ) ?'], ['equ : ( x + 85 + 73 + 92 + 66 ) / 5 = 82', \"nick ' s average score for the 5 tests was 82 . on four of the tests his scores were 85 , 73 , 92 and 66 . what was his score on the other test ?\"], ['equ : 8 ( 2 x - 1 ) - 3 = 3 ( 2 x + 3 )', 'find 3 consecutive odd numbers that 8 times the 1 s t number is 3 more than 3 times the third .'], ['equ : x = 25 * ( 24 + 3.5 * 10 )', 'find the sum of the first 25 terms of an arithmetic series whose third term is 24 and is common difference 3.5'], ['equ : x = 8 * 7 / 2', 'a girl has to make pizza with different toppings . there are 8 different toppings . in how many ways can she make pizzas with 2 different toppings .'], ['equ : x = 5 * 5 ! / 2', 'the numbers are : 2 , 5 , 8 , 9 , 9 , 0 how many numbers can you make from the digit above ?'], ['equ : x * y = 300 equ : x = 2 y + 10', 'the area of a rectangular wall of a barn is 300 square feet . its length is 10 feet longer than twice its width . find the length and width of the wall of the barn .'], ['equ : x = ( 6 + 8 ) ( 8 - 3 ) / ( 9 + 3 - 2 ) ^ 2', 'the problem is ( 6 + 8 ) ( 8 - 3 ) divided by ( 9 + 3 - 2 ) to the second power'], ['equ : y ^ 2 + y ^ 2 = 12 ^ 2 equ : x = y ^ 2', 'what would be the area of a square if its diagonal is 12 ? a . 72 sq . units b . 108 sq . units c . 144 sq . units d 288 sq . units'], ['equ : 20 * y = 5 equ : y * 2 = y', 'an object is traveling around a circle with a radius of 2 meters . if in 20 seconds the object travels 5 meters , what is its angular speed ? what is its linear speed ?'], ['equ : 30 / ( 15 + x ) + 30 / ( 15 - x ) = ( 4 + 1 / 2 )', 'the speed of a boat in still water is 15 km / hr . it can go 30 km upstream and return downstream in 4 1 / 2 hrs . find speed of the stream'], ['equ : x = 2 / 6', 'a 6 sided die is rolled . find p ( 3 or 5 ) ?'], ['equ : x = ( 12 - 4 ) / ( 9 - 8 )', 'find the slope of the line passing through the points ( 9 , 12 ) and ( 8 , 4 ) .'], ['equ : ( 40 + 48 + 32 ) / x = 40 / 80 + 48 / 72 + 32 / 96', 'drive a t 80 km / hr for 40 km , 72 km / hr for 48 km , 96 km / hr for 32 km . what is the average rate of speed over entire trip ?'], ['equ : x = 0.5 ^ 5', 'a family has 5 children . the probability of having a girl is 1 / 2 . what is the probability of having no girls ?'], ['equ : ( 2 * x + 17 ) / ( x + 16 ) = 7 / 6', \"eight years ago charles was 1 year older than twice david ' s age . in eight years , charles will be 7 / 6 as old as david will be then . what is david ' s age now ?\"], ['equ : 3 * x = x / 5 - 5', 'the product of a number and 3 is 5 less than the quotient of a number and 5 . find the number ?'], ['equ : 12 * 6 x = 576', 'the volume of a rectangular prism is 576 cubic meters . the length is 12 meters and the width is 6 meters . what is the height of the prism ?'], ['equ : x = ( 8 - 7 ) / ( - 3 + 2 )', 'find the slope of the line passing through the points ( - 2 , 7 ) and ( - 3 , 8 ) .'], ['equ : x = ( 10 - 1 ) / ( - 6 + 3 )', 'find the slope of the line passing through the points ( - 3 , 1 ) and ( - 6 , 10 ) .'], ['equ : 70 / ( 1 / 10 ) = x / 3.5', 'a train travels 70 feet in 1 / 10 second . a t this same speed , how many feet will it travel in 3 1 / 2 seconds ?'], ['equ : 4 x + 5 x = 180', 'two angles have a total degree measure of 180 . if their measures is 4 : 5 , what is the measure of each angle ?'], ['equ : x = ( 34 * 6 + 66 * 6 ) * 33 / 2', 'find the sum of all integers between 200 and 400 that are divisible by 6 .'], ['equ : x = 6 * 5 / 2 * ( 1 / 6 ) ^ 2 * ( 5 / 6 ) ^ 4', 'i have 6 dice ( 6 sided ) . if i roll them all , what is the probability that i will roll exactly two \" 1 \" s ?'], ['equ : ( x + 1 ) / ( x + 5 ) = 3 / 4', 'if you have five skittles and one is red , how many red skittles do you add to get 3 / 4 ?'], ['equ : x ( 1 + 0.120 ) ^ 3 = 1500', 'how much would an initial bank deposit need to be in order to earn $ 1500 a t 12% for 3 years ?'], ['equ : x = 2 * 5 * 6', 'find the volume of a rectangle 2 c m , 5 c m , and 6 c m .'], ['equ : x = ( - 7 + 1 ) / ( 0 - 8 )', 'find the slope of the line passing through points p ( 8 , - 1 ) , q ( 0 , - 7 ) .'], ['equ : 5 ( x + y ) = 300 equ : 10 ( y - x ) = 500', 'a boat went upstream 500 ft in 10 minutes and then downstream 300 ft in 5 minutes . find the speed of the current and find the speed of the boat in still water .'], ['equ : x - y = 6 equ : 2 * x - 9 = y', 'the difference of two numbers is 6 . the second number is 9 less than 2 times the first . what are the two numbers ?'], ['equ : y = 6 equ : x = 70 + 3 * ( y - 1 )', 'what is the next term in the number pattern ? 40 , 43 , 49 , 58 , 70 , . . . . . please help ?'], ['equ : x = ( - 3 - 3 ) / ( 0 + 3 )', 'finding a slope of a line ? that passes through points ( - 3 , 3 ) and ( 0 , - 3 )'], ['equ : x / ( 2 / 5 ) = 16', 'what is x when the equation is x divided by 2 over 5 ( as a fraction ) equals 16 ?'], ['equ : x / y = 4 / 5 equ : x + y = 81', 'the ratio of boys to girls is 4 to 5 . if there are 81 students , how many are girls ?'], ['equ : x / 7 = 100 / 2', 'a car traveled 100 miles in 2 hours . how many miles will it travel in 7 hours going a t the same rate ?'], ['equ : x = 13 + 6 + 2 + 4', 'from a group of 13 boys , 6 girls , 2 men , and 4 women , in how many ways can a person be selected ?'], ['equ : 0.8 * 0.4 * 0.5 * x = 80', '80% of 40% of 50% of a number is 80 . what is the number ?'], ['equ : x y + 90 = ( y + 1 ) ( x + 1 ) equ : x y + 72 = ( y - 5 ) ( x + 1 )', 'if ryan gets a 90 on his next test , his average will increase by 1 . if he gets a 72 his average will decrease by 5 . how many tests has ryan already taken ?'], ['equ : 30 / ( 1 / 2 ) = x equ : x + 10 = y', 'divide 30 by 1 / 2 and add 10 . what is the answer ?'], ['equ : ( x - 8 ) * 8 = ( x - 6 ) * 6', 'after a certain number is diminished by 8 , the amount remaining is multiplied by 8 ; the result is the same as if the number were diminished by 6 and the amount remaining multiplied by 6 . what is the number ?'], ['equ : 3 * x + 1 = 5 * x - 15', 'one more than 3 times a number is the same as 5 times the number , decreased by 15 . find the number ?'], ['equ : x + 25 = y equ : 356 / y = 256 / x', \"pat ' s average driving speed is 25 k m / hr faster than kelly ' s . in the same time pat drives 356 k m and kelly 256 k m . what is pat ' s average driving speed ?\"], ['equ : 1999 ^ 2000 = x equ : x = 2000 ^ 1999', 'which is greater ? ( 1999 ) ^ 2000 or ( 2000 ) ^ 1999 ?'], ['equ : x = 4 * ( 20 + y ) equ : 80 + 4 * y = 5 * y - 100', 'an airplane flew for 4 hours with a 20 km / hour tailwind . the return flight against the same wind took 5 hours . find the speed of the plane in still air .'], ['equ : x - y = 16 equ : 2 * y - x = 9', 'the difference of two numbers is 16 . the second is 9 less than 2 times the first . what are the two numbers ?'], ['equ : ( 1 / 256 ) * ( 1 * 1 + 4 * 4 + 6 * 6 + 4 * 4 + 1 * 1 ) = x', 'a fair coin tossed 8 times find the probability first 4 tosses & the last 4 tosses result in same number of heads'], ['equ : x = 9 / 2 equ : y = 5 / 2', 'which is greater ? 4 1 / 2 or 2 2 / 4 ?'], ['equ : x / y = 2 / 5 equ : x + y = 21', 'there are 2 boys for every 5 girls . there are 21 students . how many are boys ?'], ['equ : 29 * 24 = x * 8', 'it takes 29 days for 24 students who are all working together a t the same rate to build a fence , how long would it take 8 students to build a fence ?'], ['equ : x + y = 24 equ : 7 * x = 5 * y', 'the sum of 2 numbers is 24 . 7 times the smaller number is the same as 5 times the larger number . find the smaller number .'], ['equ : 6 / 2 + 10 + 11 = x', '24 math game - - - whats this answer ? numbers are : 10 , 11 , 6 , 2'], ['equ : 3 * x + 2 * y = 22 equ : 2 * x + 3 * y = 23 equ : z = x + y', '3 blue cubes and 2 green cubes weigh 22 ounces . 2 blue cubes and 3 green cubes weigh 23 ounces . what is the combined weight of one blue cube and one green cube ?'], ['equ : 2 * 100 = x', \"i went pass the 200 pages ( exactly 200 pages ) to the end . approximately 4 , 000 questions ! ! ! let ' s create a math problem with it . what is two times a hundred ?\"], ['equ : x + y = 60 equ : 0.2 * x + 0.5 * y = 0.3 * 60', 'one solution contains 20% nitric acid & a second solution contains 50% nitric acid . how many oz of each solution should be mixed in order to have 60 o z of a 30% nitric solution .'], ['equ : x * y = 1296 equ : x = 16 * y', 'the product of two numbers is 1296 . if one number is 16 times greater than the other , , find the other number . ?'], ['equ : 80 * x = 100 * ( x - 10 / 60 ) equ : x * 80 = y', 'increasing the average speed from 80 km / h to 100 km / h saves 10 mins on a certain trip . how long is the trip ?'], ['equ : x + y + 115 = 180 equ : y = 3 * x + 5', 'the sum of the angles in any triangle is 180 . suppose one of the angles of a triangle is 5 more than three times another . the third angle is 115 . find the two angles .'], ['equ : 11 - 1 = x', 'what is the range of 1 , 2 , 3 , 4 , 5 , 6 , 7 , 8 , 9 , 10 , 11'], ['equ : x - 11 = y equ : 2 * ( x + x - 11 ) = 94', 'the problem is the width of a rectangle is 11 meters less than the third side the perimeter is 94 meters find the dimensions of the rectangle'], ['equ : 12 / 24 = x equ : ( 1 / 2 ) * ( 11 / 23 ) = y', 'there are 12 red pieces & 12 black pieces in a box , what is the probability the first 2 pieces are red ?'], ['equ : 3 + 5 + 7 = x equ : y = 7 / x * 180', 'in a triangle , the sides measure 3 , 5 , and 7 . what is the measure , in degrees , of the largest angle ?'], ['equ : x + y + z = 30 equ : y = x + 8 equ : z = y - 1', 'a triangle has a perimeter of 30 cm . the shortest side is x cm long and the longest side is 8 cm longer than the shortest side . the third side is 1 cm shorter than the longest side .'], ['equ : 256 * ( 3 / 10 ) = x', 'how can i find the fraction for this question : 30% of 256 ?'], ['equ : 3 - 1 = x', 'how do you find the height of a triangle with coordinates : x : ( 2 , 1 ) y : ( 5 , 3 ) z : ( 7 , 1 )'], ['equ : x + 4 = 3 * ( y + 4 ) equ : z + 4 = 2 * ( y + 4 ) equ : x + y + z = 54', 'in 4 years , c will be 3 x as old as b while a will be twice as old as b . combined age now is 54 . age of a now ?'], ['equ : 150 = 6.7 * x', 'a 150 - pound person uses 6.7 calories per minute when walking a t a speed of 4 mph . how long must a person walk a t this speed to use a t least 150 calories ?'], ['equ : 9 + 17 = x', 'what is the missing number in the series 4 , 3 , 5 , 9 , 12 , 17 . ?'], ['equ : 720 * ( 5 - 3 ) / ( 5 + 3 + 12 ) = x', 'a 720 ml can holds mix of red , yellow and white paint in a 5 : 3 : 12 ratio . how much red than yellow is present ?'], ['equ : 20 / 50 * 7 = x', 'if 7 men can complete a job in 20 days how long will 50 men complete the same job ? is it right to solve it this way ? 7 : 20 = 50 : n ?'], ['equ : 6 * 6 = x equ : 4 / x * 5 / x = y', 'find the probability of getting a sum of 5 on the first toss of two number cubes and a sum of 6 on the second toss . .'], ['equ : ( 14 - 8 ) / 2 = x equ : 1 / 2 * ( 8 + 14 ) * ( x ) = y', 'an isosceles trapezoid has base angles of 45 and bases of lengths 8 and 14 . the area of the trapezoid is ?'], ['equ : 47 + 18 = x', 'the next number in the series 2 , 5 , 11 , 20 , 32 , 47 . what the next number in the series ?'], ['equ : x ^ 2 = ( 0 - 5 ) ^ 2 + ( 2 - ( - 4 ) ) ^ 2', 'find the distance between ( 0 , 2 ) and ( 5 , - 4 ) ?'], ['equ : 8 * 6 = x equ : 1 * 1 = y equ : z = x / y', 'the drawing represents a porch that is 8 ft long and 6 ft wide the floor of the porch will be made of 1 by 1 square tiles , how many tiles will be needed to cover the porch'], ['equ : x + 21 + 86 = 180', 'two angles of a triangle measure 21 degrees and 86 degrees . what is the measure of the third angle ?'], ['equ : ( 9 - 7 ) / ( - 4 - 3 ) = x equ : ( 7 - 1 ) / ( 3 - y ) = x', 'a line passes through a ( 3 , 7 ) and b ( - 4 , 9 ) . find the value of a if c ( a , 1 ) is on the line .'], ['equ : ( 200 - 160 ) / 60 = x', \"1 i t took chris 200 seconds to solve a puzzle . if it took kim 160 seconds to solve the same puzzle , by what fraction of a minute was chris ' s time longer than kim ' s ?\"], ['equ : x - 5 = y equ : 5 / ( x - 5 ) = 15 / ( x + 5 )', 'the speed of a stream is 5 mph . a boat travels 5 miles upstream in the same time it takes to travel 15 miles downstream . what is the speed of the boat in still water ?'], ['equ : 132 + 140 + 145 + 128 = x equ : x / 4 = y', '132 , 140 , 145 and 128 . what is the average score ?'], ['equ : x = ( - 3 - 3 ) / ( 10 - 4 )', 'find the slope ( 4 , 3 ) and ( 10 , - 3 ) .'], ['equ : 1 / ( 1 / 4 + 1 / 6 ) = x', 'if sally can paint a house in 4 hours , and john can paint the same house in 6 hours , how long will it take for both of them to paint the house together ?'], ['equ : 9 * x - 11 = 5 * x + 13', '11 less than 9 times a whole number is 13 more than 5 times that number . find the number .'], ['equ : 2 * 2 * 2 * 5 = y equ : 3 / 4 = z equ : 3 / 8 = x equ : 1 / 5 = w', 'find the least common denominator , 3 / 4 , 3 / 8 , 1 / 5 ?'], ['equ : x = 30 * 8.25 equ : 3 * 30 = y equ : z = 30 * ( 8.25 ) / 90', 'a car going a t a speed of 30 km / hr takes 8 1 / 4 hours to go from one city to another . how long does it take if the car goes 3 times faster ?'], ['equ : x + y = 2 * x - 6 equ : x - y = 4 * y - 10', 'the sum of two numbers is 6 less than twice the first number . their difference is 10 less than four times the second number . find each of the numbers .'], ['equ : 5 * x - 6 = x ^ 2 equ : 5 * 3 - 6 = y equ : 5 * 2 - 6 = z', 'five times a number decreased by 6 is equal to the number squared . what is the number ?'], ['equ : 10000 + 40 * x = 100000', 'how many 5 digit numbers are there which are multiples of 5 and 8 ?'], ['equ : 400 = 55 * x + 45 * x', 'two cars started traveling from the same place . one truck traveled west going 45 mph and the other car traveled east going 55 mph . how long will it take them to be 400 miles apart ?'], ['equ : x * y = 252 equ : x + y = 32', 'what two numbers multiply to get 252 and the same those numbers add to 32 ?'], ['equ : 30 = 5 - 5 * x', \"30 is 5 minus the product of 5 and a number . what ' s the number please ?\"], ['equ : ( 22 + 9 ) - ( 18 / 2 ) = x equ : x - 9 = y', 'subtract the quotient of 18 and 2 from the sum of 22 and 9 ?'], ['equ : x = 18 * 18 equ : x / 24 = y', 'i have an 18 in x 18 in sheet of paper . i need to cut 24 equal squares . what size should the square be ?'], ['equ : 4 + 1 = x equ : 5 + 2 = y equ : 7 - 3 = z equ : 4 + 4 = w equ : 8 + 5 = o equ : 7 + 7 = p', 'the next number in the series is : 4 5 7 4 8 13 7 ?'], ['equ : x = 1 / 3', 'what is the ratio of the length of a side of an equilateral triangle to the triangles perimeter ? a . 1 : 1 b . 1 : 2 c . 1 : 3 d . 3 : 1'], ['equ : 2 * 1 = x equ : 32 ^ y = 64', 'how do i find the answer to log ( base 8 ) 64 and log ( base 32 ) 64 without using a calculator ?'], ['equ : x = 3 * 2', \"what ' s 3 square root of 2 times square root of 2 ?\"], ['equ : 150 = x * ( 2.5 )', 'use the distance formula to find the rate if a car travels 150 miles in 2 1 / 2 hours ?'], ['equ : 20 * x = 12 * 25', 'a pole that is 12 feet tall casts a 20 - foot shadow . at the same time , another pole cast a 25 - foot shadow ? how tall is the second pole ?'], ['equ : 30 + 15 = x', 'how many hours long is 7 : 45 am to 2 : 30 pm .'], ['equ : ( 2 * x ) ^ 2 - 5 * x = 3 * ( x ^ 2 ) + 6', 'let x be an unknown positive number .. when double its value is squared and 5 times its value removed , then it is equal to 3 times the square of the original number plus 6 . find x ..'], ['equ : 4 / 16 = x equ : 28 * x = y', 'if 4 hours are required to type 16 pages , how many hours would be required to type 28 pages ?'], ['equ : 10 * ( 45.36 / 8 ) = x equ : x * 45.36 / 4 = y', 'if 8 quarters weigh 45.36 grams , how much do 10 quarters weigh ?'], ['equ : x = ( - 7 - ( - 10 ) ) / ( - 7 - 4 )', 'find the slope of the line that goes through the given points ( 4 , - 10 ) ( - 7 , - 7 ) ?'], ['equ : 2 * 2 * 4 = x', 'a box 24 \" x 24 \" x 48 \" - - how many cubic feet is it ?'], ['equ : 1 + 6 = x equ : 6 + 7 = y equ : 7 + 13 = z equ : 13 + 20 = w', 'what kind of sequence is the pattern 1 , 6 , 7 , 13 , 20 , ?'], ['equ : x = 1 / 6 * ( 25 + x ) equ : 25 + 5 = y', 'the difference between 2 numbers is 25 . the smaller number is 1 / 6 t h of the larger number . what is the value of the smaller number ?'], ['equ : ( 6 + 4 ) / ( 6 + 6 + 4 ) = x', 'a bag contains 6 red marbles , 6 white marbles and 4 blue . find p ( red or blue ) ? a . 2 / 3 b . 3 / 2 c . 5 / 8 d . 3 / 4'], ['equ : 28 * x + 36 * 36 = 64 * 64', 'the mean of a sequence of 64 numbers is 64 . the mean of the first 36 numbers is 36 . what is the mean of the last 28 numbers ?'], ['equ : ( - 2 - 3 ) / 2 = x equ : ( - 5 + 0 ) / 2 = y', 'find the midpoint of the points ( 2 , - 5 ) and ( - 3 , 0 ) .'], ['equ : x + y = 30 equ : x = 3 * y + 2', 'the sum of two numbers is 30 . the larger number is 2 more than 3 times the smaller number . what are the two numbers ?'], ['equ : 2 * 0.02 * 0.02 + 2 * 0.1 * 0.02 + 2 * 0.1 * 0.02 = x equ : 5 * x = 0.22 * y', 'five boxes ( each measuring 10 cm x 2 cm x 2 cm ) were made from a 0.22 m long cardboard . how wide is the cardboard ?'], ['equ : ( 4 / 5 ) * ( 3 / 4 ) = x', '4 / 5 of the members are female , 3.4 of them are over 20 years old , what fraction of the club are female over 20 years old ?'], ['equ : 3 / 12 * 2 / 11 = x', '3 of 12 marbles are blue . if 2 marbles are chosen a t random , what is the probability that both are blue ?'], ['equ : x + y = 30 equ : 3 * ( 1 / 2 ) * x = 3 * x / 2 equ : x + 3 * x / 2 = 30', 'a 30 ft board is cut into 2 parts such that the shorter piece is 3 times more than 1 / 2 of the longer piece . how long of each piece board is ?'], ['equ : 20 + 20 + 80 = x', 'find the area of a trapezoid with bases of 8 and 16 and a height of 10 ?'], ['equ : 21 / 3 = x equ : x * 1 = y equ : x * 3 = z', 'how do i work out fractions of a number , such as 1 / 3 of 21 , 3 / 5 of 35 ?'], ['equ : x = ( 10 - 0 ) / ( 0 - 3 )', 'find the slope of the line that goes through the given points ? ( 3 , 0 ) , ( 0 , 10 )'], ['equ : 9 / 5 * 5 / 3 = x', 'what is the answer for 1 4 / 5 divided by 3 / 5 ?'], ['equ : 5 * 4 = x equ : 3 * 4 = y equ : 4 * 4 = z equ : 2 * ( x + y + z ) = w', \"the length is 5 ft , the width 3 ft , and the height 4 ft . what ' s the perimeter ?\"], ['equ : 2 * 1 / 6 = x', 'if 3 men can paint a box in 2 days , what part of the job can be completed by 2 men in 1 day ?'], ['equ : x = 27 / 3 equ : 9 * 2 = y', \"a dog and cat together weigh 27 kg . if the dog ' s weight is an odd number , and if he weighs twice as much as she does , how much does each weigh ?\"], ['equ : 20 / 16 * 150 = x', 'a car travels 150 k m on 16 l of fuel . how far will it travel on 20 l ?'], ['equ : 2 * 2 * 3 * 5 * 7 = x', 'finding the least common multiple ( lcm ) ? 12 , 20 , and 35'], ['equ : x + y + z = 45 * 3 equ : x + y = 40 * 2 equ : y + z = 43 * 2', 'the average weight of a , b and c is 45 kg . if the average weight of a and b is 40 kg and that of b and c is 43 kg , the weight of b is ?'], ['equ : 1 * x + y = 55 equ : 4 * x + y = 230 equ : z = 3 * x + y', 'there are 55 blades of grass in a 1 inch square of lawn . there are 230 blades of grass in a four inch square of lawn . how many blades of grass are in a 3 inch square inch of lawn ?'], ['equ : 15 / ( 3 + 3 / 4 ) = 4 * x equ : 4 * x = y / ( 1 + 1 / 6 )', 'a woman walks 15 k m in 3 3 / 4 hours . how many kilometer does she walk in 1 / 2 of an hour ? how many kilometer does she walk in 1 1 / 6 hours ?'], ['equ : x = 7000 - y equ : 0.06 * x + 0.08 * y = 520', 'you invested $ 7000 in two accounts paying 6% and 8% annual interest , respectively . if the total interest earned for the year was $ 520 , how much was invested a t each rate ?'], ['equ : 25 / 100 = x', 'which fraction is equivalent to 25% ? 5 / 6 ? 1 / 4 ? 3 / 4 ? 1 / 3 ?'], ['equ : 24 / 10 = x', 'compare in feet : 8 yards to 10 feet ? a . 5 / 4 b . 4 / 5 c . 5 / 12 d . 12 / 5'], ['equ : x = 3 / 2', 'if θ is an acute angle and sin θ = 12 , then cos θ ='], ['equ : y + 4 * x = 7 equ : y + 5 * x = 10', 'if the 5 t h and 6 t h terms of an arithmetic sequence are 7 and 10 , what would the 1 s t term be ?'], ['equ : x = 24 / 8', 'if 8 people eat 1 pie and the pie is divided into 24 pieces how many pieces does each person eat ?'], ['equ : 4 * x + 5 * y = 3.56 equ : 3 * x + 4 * y = 2.76 equ : 1 * x + 1 * y = z', \"4 oranges & 5 apples cost $ 3.56 . 3 oranges & 4 apples cost $ 2.76 . what ' s the cost of an orange & an apple .\"], ['equ : 4.5 * 50 = x equ : 3 * 50 = y equ : x * y = z', 'on a plan , a piece of land is represented by an area of dimensions 4 1 / 2 cm by 3 cm . if the scale is 2 cm to 100 m , what is the actual area of the land ?'], ['equ : 28 / 30 * 60 / 1 = x', 'a car traveled 28 miles in 30 minutes . how many miles per hour was it traveling ? 28 36 56 58 62 ?'], ['equ : 80 - 52 = x', 'on a 100 question test , 60 questions involve algebra and 20 questions are difficult . if 8 of the difficult questions involve algebra , how many of the questions that are not difficult do not involve algebra ?'], ['equ : x = 1 / 2 * y equ : z = 1 / 3 * y equ : w = 1 / 4 * y equ : x ^ 2 + z ^ 2 + w ^ 2 = 244', '3 positive nos are in the ratio 1 / 2 : 1 / 3 : 1 / 4 . if the sum of their squares is 244 , find the nos .'], ['equ : ( 9 + 15 ) / 2 = x', 'find the median of each set of numbers ? 1 , 4 , 9 , 15 , 25 , 36'], ['equ : x = 3 * y equ : z = 2 * y equ : 3 * y + 2 * y + y = 180', 'the angles of a triangle are in the ratio of 3 : 2 : 1 . find the angles ?'], ['eyu : x = ( 1 / 2 ) * y eyu : x = ( 1 / 2 ) * ( 15 / 4 ) * ( 5 / 2 )', 'find the area of a triangle whose base is 3 3 / 4 and whose height is 2 1 / 2 ?'], ['equ : 21 = ( 14 + x ) / 2', 'if a student gets 14 on a test and needs to have an average of 21 , how many points would he need on 2 n d test ?'], ['equ : tan ( 45 ) = x / 10 equ : x = 10 * tan ( 45 )', 'the base line is 10 c m . one side has an angle of 90 degrees and the other side has a angle of 45 degrees . how can i find out the length of the side with 90 degree angle ?'], ['equ : 60 / 5 = x', 'i want to run 5 km in 25 mins . at what speed , in km / hr , must i run ?'], ['equ : ( 0.99 / 6 ) * 16 = x', 'at the school store , 6 pencils sell for $ . 99 . at this rate , what is the cost of 16 pencils ?'], ['equ : ( 50 / 7 ) = ( 40 / x )', 'if someone runs 50 meters in 7 seconds , how long did it take for them to run 40 yards ?'], ['equ : 45 - 3 * x = 15', 'what is the difference between 45 and three times a number is 15 . what is the number ?'], ['equ : x ^ 2 = 10', 'if a square has the area of 10 cm2 , what is the length of a side ?'], ['equ : 3 + 2 + 2 + 1 = x equ : 3 / 8 * ( 3 - 1 ) / ( 8 - 1 ) = y', 'two marbles are drawn without replacement from a box with 3 white , 2 green , 2 red , and 1 blue marble . find the probability that both marbles are white . in fraction form ?'], ['equ : x + y = 15 equ : 10 * x + y - 10 * y - x = 9', 'find a number whose sum of its digits is 15 and if we change the order of the digits decreases by 9 ? this number is 2 digits .'], ['equ : ( 100 * 0.99 - x ) / ( 100 - x ) = 0.98', 'of the 100 people who are in a room , 99% are men . how many men must leave so that the percentage of men in the pass room to be 98% ?'], ['equ : 2 * x + 3 * x + 4 * x = 180 equ : 2 * x = y equ : 3 * x = z equ : 4 * x = w', 'a right triangle has acute angles whose measures are in the ratio 1 : 2 . find the measures of these angles .'], ['equ : 4 * ( 94 ) + x = 90 * ( 5 )', \"i have a 94 average . i just took a final that is worth 20% of my grade . what ' s the lowest grade i can get on my final and still have a t least a 90 average .\"], ['equ : 4 * 85 = x equ : x - 97 = y equ : y / 3 = z', 'the mean of 4 numbers is 85 . if the largest of these numbers is 97 , then what is the mean of the 3 remaining numbers ?'], ['equ : 10 / 100 = ( x + 8 ) equ : x + 0.8 = 0.4 * x + 3.2', 'how many quarts of pure antifreeze must be added to 8 quarts of a 10% antifreeze solution to obtain a 40% antifreeze solution ?'], ['equ : 2 * ( x - 8 ) = 3 * ( x + 3 )', 'twice the difference of a number and 8 is equal to three times the sum of the number and 3 . what is the number ?'], ['equ : 3 * 2 / 3 = x equ : 4 * 2 / 3 = y', 'what does 3 times by 2 / 3 equal ? also what does 4 times 2 / 3 equal ?'], ['equ : 178 / 76 = x equ : 187 / 83 = y', 'how to calculate percent change between two numbers ? from 76 to 178 and from 83 to 187'], ['equ : 3 / 2 = x / 24', 'the ratio of women to men in a certain club is 3 to 2 . if there are 24 male club members , then how many female club members are there ?'], ['equ : 12.5 / ( 1 / 8 ) = 20 / x', 'what is \" 12.5 is to 1 / 8 as 20 is to _____ \" ?'], ['equ : x + y + z = 10 equ : x - y + z = 6 equ : x - z = y + 2', 'the sum of three numbers is 10 . the first number minus the second number plus the third is 6 . the first minus the third is 2 more than the second . find the numbers .'], ['equ : 18 * x + 3 = y equ : ( 18 - 1 ) * x + 11 = y', 'out of a certain amount , 3 $ are left if each child is given 18 $ . if the same number of children are given a dollar less , 11 $ are left . find the amount .'], ['equ : 23 ^ 2 + x ^ 2 = 28 ^ 2', 'the hypotenuse of a right triangle is 28 cm long and the length of one of the legs is 23 cm . find the length of the other leg .'], ['equ : 2 * ( x + y ) = 240 equ : 2 * ( ( 1 - 0.1 ) x + ( 1 + 0.2 ) y ) = 240', 'the perimeter of a rectangle is 240 cm . if its length is decreased by 10% and its breadth is increased by 20% , we get the same perimeter . find the length and the breadth of the rectangle .'], ['equ : 22 = 2 * x + 2 * y equ : x * y = 30', 'the perimeter and area of a rectangle are 22 c m and 30 c m 2 . find the length and breadth of the rectangle ?'], ['equ : ( x + 25 ) * y = 400 equ : ( x - 25 ) * y = 300', 'an airplane can travel 300 miles against the wind in the same time it travels 400 miles with the wind . if the speed of the wind is 25 mph , what is the speed of the plane in still air ?'], ['equ : ( 1 / 2 ) * x = ( 1 / 2 ) * 21 * 16 equ : x = 7 * 2.5', 'what is the area of each figure : ? triangle > base , 21 ft . , height , 16 ft . parallelogram > base , 7 ft , height , 2.5 ft .'], ['equ : 6 * 6 * 6 * 6 = x equ : 6 * 5 * 4 * 3 = y equ : 6 * z = 6 equ : 6 * 5 / 2 = w', 'how many combinations of 4 numbers can be made from the set of numbers { 2 , 4 , 6 , 7 , 8 , 9 } ?'], ['equ : 19 - ( - 2 ) = x equ : ( - 12 ) - 7 = y equ : x * y = z', 'count \" 19 - ( - 2 ) x [ ( - 12 ) - 7 ] \" ?'], ['equ : x = y - 9 equ : y = z equ : x + y + z = 39', 'the base of an isosceles triangle is 9 in . less than the length of the equal sides . if the perimeter of the triangle is 39 in . , find the length of each of the sides'], ['equ : 14 * x = 2 equ : 2 * 2 = y', 'suppose y varies inversely as x . if y = 2 when x = 14 , find y when x = 7 . a . 1 b . 4 c . 6 d . 8'], ['equ : ( 3 * x - 2 ) = y equ : y / x = 13 / 5', 'the numerator of a fraction is 2 less than 3 times the denominator . if the fraction is equal to 13 / 5 , find the value of the denominator .'], ['equ : 4 / 5 = x / 40', \"in a rectangle , the ratio of the width to the length is 4 : 5 . if the rectangle is 40 centimeters long , find it ' s width .\"], ['equ : 32 = 2 * ( x + y ) equ : x * y = 63', 'a rectangle has perimeter 32 cm and area 63 cm . find the length and width .'], ['equ : 31 * x = 124 equ : 0.4 * y = 92 equ : ( 1 - 0.8 ) * 90 = z', 'percent questions ? thirty - one is what percent of 124 ? 92 is 40% of what number ? what is 80% less than 90 ?'], ['equ : 1 / 2 * 0.1 = x equ : 7 / 20 = y equ : y * 1 / 20 = z equ : y * 0.05 = w', 'how do you change a 7 / 20 into a decimal without using a calculator ?'], ['equ : - 27 / 8 = x', 'find the eighth term of the geometric sequence : 432 , - 216 , 108 . ?'], ['equ : 4 / 8 + 6 / 8 + 7 / 8 = x', 'add 1 / 2 liter , 3 / 4 liter , and 7 / 8 liter .'], ['equ : 2 * 7 + 7 * 4 + 7 * 7 * 4 = x', 'in a bus there are only 7 girls with all of them r 7 bags each bag contains 7 big cats each big cat has 7 small cats so how many legs are there in all in the bus ?'], ['equ : 26 + 21 + 13 + 14 + 23 = x equ : x / 5 = y', 'how do you find the mean of 26 , 21 , 13 , 14 and 23 ?'], ['equ : 405 / 600 = x', 'if i own 405 shares in a company and there is a total of 600 shares in the company what percentage do i hold .'], ['equ : 17 ^ 2 = x ^ 2 + y ^ 2 equ : y = x + 7', 'the hypotenuse of a right triangle is 17 cm long . another side of the triangle is 7 cm longer than the third side . determine the unknown side lengths .'], ['equ : 2 + 4 * x = 45 equ : 7 - 2 = y equ : - 7 - 2 = z', 'the square of a number added to 4 times the number equals 45 . which of the following could be the number ? a . - 9 b . - 5 c . 0 d . 2 e . 4'], ['equ : x - y = 49 equ : 1 / 2 * x + 1 / 7 * y = 56', 'the difference between of two numbers is 49 . one half of the larger number plus one seventh of the smaller number is 56 . find the numbers .'], ['equ : 6 * ( x + 1 ) - 4 * x = 30', '6 times the larger of 2 consecutive whole numbers ( - ) 4 times the smaller number is 30 . what is the smaller # ?'], ['equ : 19 - 3 = x', 'given the set of numbers 19 , 13 , 7 , 5 , 13 , 3 , 16 , find the range'], ['equ : 5 / x = 18 / 27', 'a model park has a length of 5 inches the park has an actual length of 18 feet and a width of 27 feet how wide is the model ?'], ['equ : 8 * 3.5 ^ 5 = x', 'find the 6 t h term of the geometric sequence 8 , 28 , 98 ..'], ['equ : ( 12 + 2 * 2 ) * ( 18 + 2 * 2 ) = x', 'a picture 12 inches by 18 inches has a frame that is 2 inches wide , what is the area of the picture with the frame ?'], ['equ : 2 * x = y equ : 2 * y = z equ : x + 2 * y + 5 * z = 525', 'there are twice as many 2 p as 1 p . twice as many 5 p as 2 p . the total amount is 525 p . how many 1 p , 2 p and 5 p are there .'], ['equ : 10 * x + 50 * ( 40 ) = 40 * ( x + 40 )', 'how many liters of a 10% alcohol solution must be mixed with 40 liters of 50% solution to get a 40% solution ?'], ['equ : 22 / 7 * 3 = x', 'a particular map shows a scale of 3 cm : 7 km . what would the map distance ( in cm ) be if the actual distance is 22 km ?'], ['equ : x = 4 * y equ : x * y = 4 * ( x + y )', 'one number is 4 times another . their product is 4 times their sum . what are the numbers ?'], ['equ : x = 3 * y equ : z = 6 * y - 15 equ : y + x + z = 180', 'find the size of angles . in a triangle abc , angle b is 3 times angle a and angle c is 15 less than 6 times angle a .'], ['equ : 4 * x + 4 * x + 7 * x = 180 equ : 4 * x = y equ : 4 * x = z equ : 7 * x = w', 'the measure of the angles of a triangle in the ratio 4 : 4 : 7 . find the three measures .'], ['equ : 20 = 1 / 2 * x + 12', \"sam is half john ' s age plus 12 years . if sam is 20 , how old is john ?\"], ['equ : 80 * 61 / 20 = x', 'if a boat uses 20 gallons of gas to go 61 miles , how many miles can the boat travel on 80 gallons of gas ?'], ['equ : - 40 * ( - 2 ) = x equ : x * ( - 2 ) = y equ : y * ( - 2 ) = z', 'whats the next three terms in 5 , - 10 , 20 , - 40 ?'], ['equ : 4 * ( x - y ) = 800 equ : 2 * ( x + y ) = 800', 'an airplane travels 800 miles against the wind in 4 hrs and makes the return trip with the same wind in 2 hrs . find the speed of the wind .'], ['equ : 20 * 18 = x equ : x / 12 = y', 'a man packs 20 boxes of apples with 18 apples each box . how many boxes will he use if he places 12 apples only in each box ?'], ['equ : 5 * ( x - y ) = 60 equ : 3 ( x + y ) = 60', 'a boat travels 60 k m upstream ( against current ) in 5 hours . the boat travels the same distance downstream in 3 hours . what is the rate of the boat in still water ? what is the rate of the current ?'], ['equ : 300 - 2 * ( 125 ) = x equ : x / 2 = y', 'the perimeter of a rectangle is to be no greater than 300 in . , and the length must be 125 in . find the maximum width of the rectangle .'], ['equ : 8 * 90 = x * 6', 'a restaurant cuts its large pizza into 8 slices and sells each slice for 90 cents . if the pizzas were cut into 6 slices , how much would the restaurant have to charge for each slice to make the same amount ?'], ['equ : x - y = 10 equ : 1 / 6 * ( x + y ) = 11', 'find two numbers whose difference is 10 and 1 / 6 of whose sum is 11 ?'], ['equ : 2 * x - x = 7', 'the difference between a number and 2 times a number is 7 . the number is greater than 0 . what is the number ?'], ['equ : x + y = 39 equ : x - y = 11', 'two numbers have a sum of 39 . their difference is 11 . what are the 2 numbers ?'], ['equ : 1000 + 1000 = x equ : 2 + 3 = y equ : x / y = z', 'an airplane flies 1000 miles due east in 2 hours and 1000 miles due south in 3 hours . what is the average speed of the airplane ?'], ['equ : 4 * 7 * 7 = x equ : 4 * 7 = y', 'how many 3 - digit numbers less than 500 can be formed from 1 , 2 , 3 , 4 , 5 , 6 and 7 ? two - digit odd nos ?'], ['equ : x = 4 * y - 14 equ : 86 - y = y', 'the larger of the two numbers is 14 less than 4 times the smaller number . the sum of the 2 number is 86 . find the 2 # ?'], ['equ : x + 2 = y equ : x + 4 = z equ : x + x + 2 + x + 4 = 4 * x - 7', '3 consecutive odd integers are such that the sum of the integers is 7 less than 4 times the smallest # ?'], ['equ : x + y = 162 equ : x - y = 34', \"the sum of 2 no ' s is 162 . their difference is 34 . what are the 2 numbers ?\"], ['equ : ( x + y ) / 2 = 65 equ : x * y = 25 ^ 2', 'the arithmetic mean of 2 numbers is 65 . the geometric mean of the same 2 number is 25 . find the numbers .'], ['equ : 3 / 7 = x / 84', 'if 3 out of every 7 students are boys . write equivalent fractions that can be used to determine how many out of 84 are boys'], ['equ : 0.15 * x = 12 equ : x * 0.35 = y', 'what is 35% of a number if 12 is 15% of a number ?'], ['equ : ( 1 + 0.25 ) * x = y equ : ( 1 + 0.6 ) * y = z equ : x + y + z = 170', 'there are 25% more red marbles than blue marbles , and there are 60% more green marbles than red marbles . if the green , red , and blue marbles total 170 , how many are there of each color ?'], ['equ : 10 * 2 ^ 2 = x * 0.5 ^ 2', 'if y varies inversely with the square of x , and y = 10 when x = 2 , find y when x = 0.5'], ['equ : 7 * 2 = x equ : 7 * 7 * 7 * 4 = y equ : 7 * y = z equ : x + y + z = w', 'there are 7 girls in a bus . each girl has 7 backpacks . in each backpack , there are 7 big cats . for every big cat , there are 7 little cats . how many legs are there in the bus .'], ['equ : x = 50 - y equ : 5 * x + 3 * y = 180', 'adult tickets cost 5 dollars . children tickets cost 3 dollars . they sold 50 tickets total and earn $ 180 . how many adult tickets were sold ? how many children tickets were sold ?'], ['equ : y = 3 * y equ : y = 6 * y - 17 equ : y + y + z = 180', 'in triangle abc , angle b is 3 times angle a , and angle c is 17 degrees less than 6 times angle a . find the size of the angles .'], ['equ : 2 * ( 1 / x ) = 4 * ( 1 / 5 )', 'two times the reciprocal of a number equals 4 times the reciprocal of 5 . find the number ..'], ['equ : x + y = 2 * x - 4 equ : x + y = 32', 'the sum of 2 numbers is 4 less twice the first . their sum is 32 . find the number ?'], ['equ : x = _ perm ( 5 , 3 )', 'how many 3 digit numbers can be formed from the five digits 1 , 2 , 3 , 4 , 5 if no digit may be repeated in a n ?'], ['equ : 400 - 320 = x equ : x / 400 = y', 'a toy dog was sold a t $ 200 originally . now 2 toy dogs only cost $ 320 . if peter bought 2 toy dogs , what discount percentage did peter get ?'], ['equ : ( 4 * x + 2 * 7 ) / 6 = 5', 'the average ( arithmetic mean ) of 6 positive numbers is 5 . if the average of the least and the greatest of these numbers is 7 , what is the average of the other 4 numbers ?'], ['equ : ( 64 / 81 ) / ( 64 / 27 ) = x', 'how do you divide fractions like these ? 64 / 81 / 2 10 / 27 .'], ['equ : x ^ 2 = 10 ^ 2 + 3 ^ 2', 'if a ladder leans against a 10 m house and is 3 m away from the house , how tall is the ladder ?'], ['equ : x = 1 + 3 + 5 equ : y = 180 * 1 / x equ : z = 180 * 3 / x equ : w = 180 * 5 / x', 'the three angles in a triangle in the ratio 1 : 3 : 5 . find them ?'], ['equ : ( 17 / 3 ) / x = 17 / 11', 'find the missing term in the given proportion . 5 2 / 3 over x equals 17 over 11 .'], ['equ : 5 * 112 / 4 = x equ : 4 * 112 / 5 = y', 'when we increase 112 in the ratio of 5 : 4 , new number becomes ?'], ['equ : 1 / 6 * x + 7 = 2 / 3 * x', \"sam ' s gas tank is 1 / 6 full . after he buys 7 gallons of gas , it is 2 / 3 full . how many gallons can sam ' s tank hold ?\"], ['equ : 23 / 4 - 17 / 6 = x', 'what is ( 5 3 / 4 ) - ( 2 5 / 6 ) as a mixed number ?'], ['equ : x = ( 10 + 75 + 125 + 150 + 200 ) / 5', 'what is the average of 10 , 75 , 125 , 150 , 200 ?'], ['equ : x = 5 + 7 + 4 equ : y = 5 / x * ( 5 - 1 ) / ( x - 1 ) * ( 5 - 2 ) / ( x - 2 )', 'a bag contains 5 white balls 7 black balls and 4 red ball . the chance that 3 balls drawn a t random are white . finds the probability ?'], ['equ : 3 * 4 * 5 = x', 'what is the least common multiple of 3 , 4 , and 5 ?'], ['equ : x = y + 2 equ : z = y + 4 equ : 3 * y + 2 * x = 4 * z - 5', 'for three consecutive odd integers , the sum of 3 times the first integer and 2 times the second integer is 5 less than 4 times the third integer . what are the three integers ?'], ['equ : 2 * ( - 1 ) + 8 = x', 'what is eight more than twice the greatest negative integer ? a . 6 b . 7 c . 8 d . 9 e . 10'], ['equ : ( 1 / 2 ) * ( 3 + 11 ) * ( 8 ) = x', 'the two bases of a trapezoid are 3 in and 11 in . and the altitude is 8 in . what is the area of the trapezoid ?'], ['equ : 200 * 1 / 4 * 1 / 2 * 32 = x', 'what number is 200 times 1 / 4 of one half of 32 ?'], ['equ : x / y = 20 equ : ( x + 300 ) / y = 35', \"the mean of a set of numbers is 20 . if one number is increased by 300 , the mean increases to 35 . how many # ' s are there ?\"], ['equ : 4 * 0.5 + x = 0.7 * ( 4 + x )', 'how much pure acid should be mixed with 4 gallons of a 50% acid solution in order to get a 70% acid solution ?'], ['equ : 360 / 4 = x', 'what is the measure of each angle formed by two perpendicular lines ? a . 45 b . 90 c . 180 d . 360'], ['equ : 1300 / 40 * 4 = x', 'i need to drive 1300 miles in my car . my car gets 40 miles per gallon , a t $ 4 per gallon , how much would it cost to make the trip ? ?'], ['equ : 0.6 * x + 0.3 * y = 0.5 * 210 equ : x + y = 210', 'a solution that is 60% acid is mixed with a solution that is 30% acid . how many liters of each should be mixed to get 210 liters of a solution that is 50% acid'], ['equ : x + y = 91 equ : x / 2 = 3 * y', 'the sum of 2 numbers is 91 , half of 1 is 3 times the other , what are the numbers ?'], ['equ : x * x = 144 equ : 4 * x * 2 = y', 'a figure is made of 4 small squares . each side of each small square is 2 inches long . what would be the perimeter of a square figure made with 144 of these small squares ?'], ['equ : 5 * x = 7 * y equ : 2 * x + 2 * y = 48', 'find the length and the width ? the length and width of a rectangle have ratio 5 : 7 . the perimeter is 48 m .'], ['equ : 174 / ( 69 - 40 ) = x', 'two cars head in the same direction a t the same time from the same place , one a t 40 kilometers per hour and the other a t 69 kilometers per hour . in how many hours will they be 174 kilometers apart ?'], ['equ : ( 4 x - 1 ) + ( 6 x - 1 ) = 70 / 2', 'the perimeter of a rectangle is 70 cm . the width is ( 4 x - 1 ) cm and the length is ( 6 x - 4 ) cm . what is the value of x ?'], ['equ : 15 / 3.75 = x / 25', 'the diameter of a tree varies directly as its age . a 15 - year old tree is 3.75 in . in diameter . how old will the tree be when it is 25 inches in diameter ?'], ['equ : 8 * x - 4 = 44', '44 is equal to 8 times a number minus 4 . what is the number ?'], ['equ : 192 / 40 = x / 35', 'a machine produces 192 bolts in 40 minutes . at the same rate , how many bolts would be produced in 35 minutes ?'], ['equ : x = 1000 * 0.05 * 3', 'if i = p * r * t , the value of i when p = 1 , 000 , r = 0.05 , and t = 3 is ?'], ['equ : x ^ 2 + ( 10 / 2 ) ^ 2 = 13 ^ 2', 'find the altitude of the triangle . 13 side 13 side 10 base ?'], ['equ : x = ( 18 - ( - 31 ) ) / ( - 13 - 27 )', 'what is the slope of the lines passing through ( - 13 , 18 ) ( 27 , - 31 )'], ['equ : x * y = 48 equ : y = 3 * x - 10', 'find the dimensions of this rectangle of the area is 48 square feet ? the length of the rectangle is 10 feet less than 3 times its width'], ['equ : 0.18 * 300 = x', 'a chemist has 300 milliliters ( ml ) of solution that is 18% acid . how many milliliters of acid are in the solution ?'], ['equ : x = ( 30 - 3 ) * 3 / ( 60 * 60 )', 'a train traveling 30 miles per hour takes 3 seconds to pass a man walking in the same direction a t 3 miles per hour . what is the length of the train ?'], ['equ : 3.14 * x ^ 2 * 13 = 1000', 'how do i find the radius of a cylinder if the height is 13 c m and the volume is 1000 cm3 ?'], ['equ : 7 * 2 + 7 * 7 * 7 * 4 + 7 * 7 * 7 * 7 * 4 = x', 'there are 7 girls on a bus . each girl has 7 backpacks . in each backpack , there are 7 big cats . for every big cat there are 7 little cats . how many legs are there in the bus ?'], ['equ : 3 x = 2 y equ : 2 * ( x + y ) = 60', 'the perimeter of a rectangle is 60 feet . the ratio of the width to the length is 2 : 3 . find the width of the rectangle .'], ['equ : 80 / 60 = 30 / x equ : 80 / 60 = y / 30', 'a rectangle has length 80 c m and width of 60 c m . a second similar rectangle has sides 30 c m and x cm . calculate the two possible values of x .'], ['equ : 48 * ( 3 / 4 ) = x', 'an ice cream shop sells 4 vanilla cones for every 3 chocolate cones . the store sold 48 vanilla cones today . how many chocolate cones did it sell ?'], ['equ : 2 * x = 6 * y equ : 36 - x = y', 'the sum of 2 numbers is 36 . if twice the larger number is 6 times the smaller number , find the numbers .'], ['equ : x * 2 - 8 = - 13', 'a mystery number multiplied by 2 minus 8 is equal to negative 13 . what is the mystery number ?'], ['equ : x / y = 1.75 equ : x - y = 12', 'the ratio of two numbers is 1.75 . the difference of the numbers is 12 . find the two numbers .'], ['equ : x + y = 14 equ : 10 * x + 25 * y = 2.75 * 100', 'i got 14 coins in my pocket , i have dimes and quarters . if the total value is $ 2.75 . how many of each coin do i got ?'], ['equ : 2 * x + 2 * y = 84 equ : x = 2 * y', 'the length of a rectangle is 2 times the width . the perimeter is 84 cm . find the width and length ?'], ['equ : ( - 3 - 5 ) / ( 2 - ( - 3 ) ) = x', 'find the slope of the line containing the pair of points ( - 3 , 5 ) , ( 2 , - 3 )'], ['equ : x = 4 + 2 * y equ : x * y = 30 equ : z = 2 * x + 2 * y', 'a rectangle has a length that is 4 c m longer than twice its width . if its area is 30 c m ( squared ) , what is its perimeter ?'], ['equ : 36000 * 0.12 = x equ : 36000 * 0.25 = y', 'what is 12% for clothing on a salary of $ 36 , 000 ? what is 25% for food on a salary of $ 36 , 000 ?'], ['equ : 14 - 10 = x', 'find the mode and range of the set of number 11 , 13 , 13 , 12 , 11 , 12 , 13 , 10 , 14 ?'], ['equ : 2.5 + ( 5 - 1 / 2 ) / ( 1 / 4 ) * 0.25 = x', 'a taxi ride costs $ 2.50 for the first 1 / 2 mile and $ 0.25 for every 1 / 4 mile after that . how much will a 5 mile trip cost ?'], ['equ : x + y = 10 equ : ( x ^ 2 + y ^ 2 ) + ( x - y ) ^ 2 = 56', 'find 2 numbers whose sum is 10 , if the sum of the squares of the 2 parts & the square of their difference is 56 ?'], ['equ : 0.25 * 10.00 = x equ : 10.00 - x = y equ : z = 10 * ( 1 - 1 / 3 )', 'if something is 10.00 $ and its on sale for 25% off , how much would it cost ? what would it cost if it were on sale for 1 third off ?'], ['equ : x + y = 21 equ : y = 2 * x', 'if john and bob have 21 dollars together and john has twice as many dollars as john . how many does john have ? and how many does bob have ?'], ['equ : x = 3 * 6', 'a parallelogram has a height of 3 m and a base of 6 m . what is its area ?'], ['equ : 3000 / 15000 = x', 'you have made $ 3000 on the sale for your stock . the original cost of the stock was $ 15000 ? find the percentage of increase . a . 20% b . 10% c . 5% d . 3%'], ['equ : 2 + 3 + 4 = x equ : 2 / x * 180 = y equ : 3 / x * 180 = z equ : 4 / x * 180 = w', 'a piece of wood is 180 c m long . tom cuts it into three pieces in the ratio 2 : 3 : 4 ? work out the length of the longest piece ?'], ['equ : ( 9 / 2 ) / ( 8 / 3 ) = x', 'which expression is equivalent to the expression 4 1 / 2 divided by 2 2 / 3 ?'], ['equ : x + y = 51 equ : x - y = 7', 'the sum of two numbers is 51 and the difference is 7 . what are the numbers ?'], ['equ : 10 * 10 * 10 = x', 'how to know all possible combinations of 3 digit numbers ? how to know all possible combinations of 3 - digit numbers from 0 to 9 ?'], ['equ : x = 1 / 5', 'log base ( 2 ) 5 t h root ( 2 ) ? fraction form ?'], ['equ : x = 5 / ( 9 - 0 + 1 )', 'a lottery game has balls numbered 0 through 9 . what is the probability of selecting an even numbered ball or 5 ?'], ['equ : ( - 5 - 7 ) ^ 2 + ( 4 - 4 ) ^ 2 = x ^ 2', 'what is the distance between the points ( 4 , 7 ) and ( 4 , - 5 ) ?'], ['equ : x + y + z = 85 equ : y = x + 7 equ : z = 4 * y + 2', 'the sum of three numbers is 85 . the second is 7 more than the first . the third is 2 more than 4 times the 2 n d . find the numbers .'], ['equ : x / 5 ^ 2 = 4 / 5 equ : x / 8 ^ 2 = y', 'y varies inversely with the square of x . when x is 5 , y is 4 / 5 , find value of y , when x equals 8 ? give answer as a fraction'], ['equ : x = ( 2 - ( - 2 ) ) / ( - 3 - 5 )', 'what is the slope of a line containing these points ? ( 5 , - 2 ) & ( - 3 , 2 ) please show all work .'], ['equ : 1 / 6 + 2 / 3 + 1 / 4 = x', 'what is the sum of 1 / 6 , 2 / 3 , and 1 / 4 ?'], ['equ : x = 20 - y equ : 0.25 * x + 0.05 * y = 20 * 0.06', 'one can juice drink is 25% orange juice and another is 5% orange juice . how many liters of each should be mixed to obtain 20 l that is 6% orange juice .'], ['equ : 7 * 2 = x equ : 7 * 7 * 7 * 4 = y equ : y * 7 = z equ : x + y + z = w', 'there are 7 girls on a bus each girl has 7 book bags each book bag has 7 big cats each big cat has 7 little cats . how many legs are in all including the little girls legs ?'], ['equ : 2 * 24 * 1000 = x', 'suppose you make $ 1 , 000 every time the hands of a clock form a right angle . how much money would you make in 24 hours ?'], ['equ : 25 - 3 = x equ : 11 + 15 = y equ : y - x = z equ : 11 - z = w', 'there are 25 students on the team . 11 play chess , 15 tennis , 3 play neither ? how many students play chess but not tennis ?'], ['equ : ( _ perm ( 6 , 6 ) * _ perm ( 9 , 9 ) ) / ( _ perm ( 4 , 4 ) * _ perm ( 7 , 7 ) ) = x', 'find the value of the following : 6 ! 9 ! / 4 ! 7 !'], ['equ : 100 + 20 = x equ : x / 3 = y', 'the teacher said if you multiply my age by 3 , then subtract 20 , the result is 100 . how old is the teacher ?'], ['equ : 200 * ( 1 / 4 * 1 / 2 * 1 / 5 ) = x', 'choose the number that is 1 / 4 of 1 / 2 of 1 / 5 of 200 : 2 5 10 25 50 ?'], ['equ : ( - 9 ) * ( 5 ) / ( - 3 ) = x', 'how to divide this ( - 9 ) ( 5 ) / - 3 ?'], ['equ : x + y = 45 equ : 4 * x + 9 = 5 * y', 'how can the number 45 be divided into two parts so that 4 times one part is 9 less than 5 times the other ?'], ['equ : 5 + 3 + 12 = x equ : 5 / x * 720 = y equ : 3 / x * 720 = z equ : 12 / x * 720 = w equ : y - z = p', 'a 720 ml container holds a mixture of red , yellow , and white paint in a 5 : 3 : 12 ratio . how much more red paint than yellow is present in the mixture ?'], ['equ : x - 2 = 4 * ( y - 2 ) equ : x + 3 = 3 * ( y + 3 )', 'two years ago i was 4 times as old as my son . in 3 years i will be only 3 times as old as my son . how old are we today ?'], ['equ : 12 = x * 2 ^ 2 equ : y = x * 5 ^ 2', 'if x varies directly as the square of y . if x is 12 when y is 2 , find x , when y is 5 . solve .'], ['equ : 10 ^ 2 = ( x - 3 ) ^ 2 + ( - 1 - 7 ) ^ 2', 'the given distance is 10 . the coordinates are ( 3 , - 1 ) , ( a , 7 ) . using the distance formula can you solve for a ?'], ['equ : 7 * ( 360 / 12 ) = x', 'what degrees do the hands of a clock form when it is 7 : 00 ?'], ['equ : 62 = x * ( y + 6 ) equ : 31 = x * ( y - 6 )', 'the speed of a current is 6 mph . if a boat travels 62 miles downstream in the same time that it takes to travel 31 miles upstream what is the speed of the boat in still water ?'], ['equ : 45 / 60 = x equ : 22 / x = y', 'a car travels 22 miles in 45 minutes , what is the average speed that the car traveled in mph ?'], ['equ : ( x + 1 ) / ( x - 2 ) = 8 / 5 equ : x / ( x - 3 ) = y', 'in a certain fraction , the denominator is 3 less than the numerator . if 1 is added to both the numerator and denominator , the resulting fraction is equal to 8 / 5 . find the original fraction ?'], ['equ : x + y = 53 equ : x - y = 19', 'the sum of two numbers is 53 and their difference is 19 . what are the numbers ?'], ['equ : 70 / 10 - 50 / 10 = x equ : x = 26 / y', 'a can copy 50 papers in 10 hours while both a & b can copy 70 papers in 10 hours . then for how many hours required for b to copy 26 papers'], ['equ : ( 2 * x + 7 ) / 17 = 1', 'what number to u start off with when u have to multiply by 2 , add 7 , divide by 17 , and you result is 1 ?'], ['equ : 3 / 20 = x equ : 2 / 15 = y', 'sally earns 20 dollars a week and saves 3 dollars . matt earns 15 dollars a week an saves 2 dollars . express how much each person saves as a fraction . who saves more money ?'], ['equ : x = y + 1 equ : 2 * y + 7 * x = 88', 'find two consecutive integers such that the sum of 2 times the first integer and 7 times the second integer is 88 . solve using an algebraic equation'], ['equ : - ( - 4 ) ^ 2 / 2 ( - 3 ) = x', 'what is the answer to - ( - 4 ) ^ 2 / 2 ( - 3 ) ?'], ['equ : 2 * x = 5 * y equ : 2 * x + 2 * y = 84', 'the perimeter of a rectangle is 84 feet . the ratio of the width to the length is 2 : 5 . find the length and the width .'], ['equ : ( 1 / ( 125 ) ) ^ ( - 4 / 3 ) = x', 'solve ( ( ( 1 ) / ( 125 ) ) ) ^ ( ( - 4 ) / ( 3 ) )'], ['equ : x = 3 * y - 3 equ : x - y = 11', 'the larger of two numbers is 3 less than 3 times the smaller . the difference between the larger and the smaller number is 11 . find the numbers ?'], ['equ : 2 / 3 * 2 / 5 = x', 'what is the area of a rectangle measuring 2 / 3 m by 2 / 5 m ?'], ['equ : 8 + 12 + 16 = x equ : x / 54 = 8 / y', 'two triangles are similar . the sides of the smaller triangle have lengths of 8 , 12 , and 16 . the perimeter of the larger triangle is 54 centimeters . find the length of the shortest side of the larger triangle .'], ['equ : 4 / 3 * 9 ^ 2 - 2 ^ 9 = x', '4 / 3 times 9 to the 2 power , minus 2 to the 9 power'], ['equ : 360 - ( 98 + 68 + 74 ) = x', 'how do i find the missing angle of a 4 sided shape that have no equal sides ? the angles given are 98 , 68 , and 74 , we must find x .'], ['equ : x + y = 61 equ : y = x + 33', 'one number exceeds another by 33 . the sum of the numbers is 61 . what are the numbers ?'], ['equ : x = 117 * 13 / 60', 'a car travels a t 117 miles per hour for 13 minutes , how far has it traveled ?'], ['equ : x = ( 5 - 15 ) / ( 2 - 7 )', 'find the slope of any line perpendicular to the line through points ( 7 , 15 ) and ( 2 , 5 ) ?'], ['equ : ( 20 + 2 * 2 ) * ( 10 + 2 * 2 ) - 20 * 10 = x', 'there is a 2 - foot - wide deck around a rectangular pool . the pool is 10 feet wide and 20 feet long . what is the area of the deck ?'], ['equ : 49 - 7 = x equ : y = 2 * z equ : y + z = x', 'all but 7 of 49 coins are quarters and nickels . there are 2 x as many quarters as nickels . how many r quarters ?'], ['equ : 60 / ( 15 - x ) = 90 / ( 15 + x )', 'a boat travels 60 km upstream in the same time that it travels 90 km downstream . if the boat travels a t a rate of 15 km per hour in still water , what is the rate of the current ?'], ['equ : 17 * 6.5 = x', 'a parallelogram has a base of 17 cm and a height of 6.5 cm . find the area ?'], ['equ : ( 8 * ( 3 ^ 2 - 4 ) / 2 ) + 5 ^ 2 = x', '[ 8 ( 3 { 2 } - 4 ) / 2 ] + 5 { 2 }'], ['equ : 2 - 4 = x equ : 4 - ( - 2 ) = y equ : z = x / y', 'find the slope of the line passing through the points a ( 4 , 2 ) and b ( - 2 , 4 ) ?'], ['equ : x + 2 * x + x - 10 = 50', 'a triangle has a perimeter of 50 meters . the length of the second side is twice as the length of the first side . the third side is 10 meters shorter than the first side . how long is the first side ?'], ['equ : x + y = 8 equ : ( 10 * x + y ) + 16 = 3 * ( 10 * y + x ) equ : z = 10 * y + x', 'write an equation - the sum of the digits of a 2 digit number is 8 . if 16 is added to the original number , the result is 3 times the original number with its digits reversed . find the original number .'], ['equ : 3 * 5 * 7 * 8 = x', 'what is the lowest common multiple of 3 , 5 , 7 and 8 ?'], ['equ : x - 4 = 8 + x / 5', 'a certain number decreased by 4 is equal to 8 increased by the quotient of the same number and 5 . what the number ?'], ['equ : x = y - 48 equ : y = 5 * x - 8', 'the difference of two numbers is 48 . the second is 8 less than 5 times the first . what are the two numbers ?'], ['equ : ( 5 / 12 ) / ( 1 / 6 ) = x', 'what is 5 over 12 divided by 1 over 6 as a fraction ?'], ['equ : 2 ^ 4 * 3 ^ 2 * 5 = x', 'what is the least common multiple of 15 , 16 , and 18 ?'], ['equ : ( 1 - 1 / 3 - 1 / 4 ) * x = 5 equ : y = 1 / 3 * x equ : z = 1 / 4 * x', '1 / 3 of items are yellow , 1 / 4 of items are green , and 5 are white . how many items are yellow and how many green ?'], ['equ : 5 * ( 5.50 / 2 ) = x', 'a store has t - shirts on sale a t 2 for $ 5.50 . at this rate , what do 5 t - shirts cost ?'], ['equ : 6 / ( x + 9 ) = 9 / ( x - 9 )', 'six divided by the sum of x and 9 equals the quotient of 9 and the difference of x and 9 . find x ?'], ['equ : x * y = 150 equ : ( y + 1 ) * ( x - 5 ) = 150', 'i bought a number of books for $ 150 . if each book would have cost $ 1 more . they would have bought 5 books less with $ 150 . how many books bought and how much it cost each ?'], ['equ : 2 * x - 3 = y equ : z = x + 5 equ : 110 = x + y + z', 'one side of a triangle is 3 inches shorter than twice the length of the shortest side . the third side is 5 inches longer than the shortest side . if the perimeter is 110 inches , find the lengths of all 3 sides .'], ['equ : - 3 - 7 + 5 - 4 = x', 'determine the value of the expression : [ ( - 3 ) - ( 7 ) ] + [ ( + 5 ) - ( + 4 ) ] .'], ['equ : 1806 * ( 1806 + 1 ) = x', 'whats the next number ? 1 , 2 , 6 , 42 , 1806 , ___ ?'], ['equ : 0.5 * 4 / 5 + 1 / 3 = x', 'what is 1 / 2 times 4 / 5 plus 1 / 3 ?'], ['equ : 18 + 12 / 6 * 2 - 5 = x', 'if a means plus , b means minus , c means divided by & d means multiply by , find the value of 18 a 12 c 6 d 2 b 5'], ['equ : x - 0.2 * x = 100', 'if you have a price that is 20% off the original , how would you find the original ?'], ['equ : 16 / ( 12 / 60 ) = x', \"if i ' m traveling 16 miles in 12 min , how can i find my speed in mph without using a calculator ?\"], ['equ : ( 120 + x ) * y = 700 equ : ( 120 - x ) * y = 500', 'a small airplane can travel 120 mph in still air . the plane can fly 700 miles with the wind in the same time that it can travel 500 miles against the wind . find the speed of the wind .'], ['equ : ( 90 * 1 / 12 ) * ( 90 * 1 / 12 ) = x', 'if the space is 90 inches by 90 inches , how many square feet is that ?'], ['equ : 20 * x + 4 * y = 2200 equ : x + y = 190', 'tickets for a play cost $ 20 for an adult and $ 4 for a child . if 190 tickets were sold and the total receipts were $ 2200 , how many of each ticket were sold ?'], ['equ : x = ( - 7 - 3 ) / ( - 5 - 7 )', 'find the slope ( 7 , 3 ) , ( - 5 , - 7 ) ?'], ['equ : 0.3 * 0.45 = x equ : x * 33 = y', 'how many square meters i have if i have 33 floor tiles which are 30 c m x 45 c m each ?'], ['equ : ( 5 + 6 ) / 2 = x equ : 18 - 12 = y', 'find the median for 8 , 4 , 7 , 2 , 8 , 3 , 5 , 6 ? find the range for 16 , 12 , 14 , 18 , 17 , 13 , 17 ?'], ['equ : x - y = 91 equ : y = 5 * x - 5', 'the difference of two numbers is 91 . the second is 5 less than 5 times the first . what are the two numbers ?'], ['equ : 9 * 6 = x', 'find the area of a parallelogram if the base is 9 inches and the height is 6 inches . ( a ) 54 square inches ( b ) 30 square inches ( c ) 27 square inches ( d ) 15 square inches'], ['equ : x + y = 48 equ : x * 3 = y', 'find 2 numbers who sum is 48 and such that one is 3 times as large as the other ?'], ['equ : 4 / 8 = x', 'a box contains the following numbers { 1 , 2 , 3 , 4 , 5 , 6 , 7 , 8 } . you randomly choose one number . find the probability that the number chosen is even or a multiple of 2 .'], ['equ : x / y = 2 / 3 equ : y = 30 + 1 / 2 * x', 'two numbers are in the ratio 2 : 3 . the larger number is 30 more than 1 / 2 o f the smaller number . find the numbers .'], ['equ : 66 * x = y equ : 54 * x = z equ : y - z = 45', 'two cars leave the same town a t the same time going the same direction . one travels 54 miles per hour and the other 66 miles per hour . in how many hours will they be 45 miles apart ?'], ['equ : x = 7 / 16 * 4 / 3 * 1 / 2', 'the product of 7 / 16 , 4 / 3 , and 1 / 2 is a . 2 13 / 48 b . 21 / 32 c . 7 / 24 d . 7 / 12'], ['equ : 18 * 81 * 1 / 3 = x', 'find the volume of a pyramid with height 18 feet and a base are of 81 square feet ?'], ['equ : x * y = 126 equ : x + y + x + y = 46', 'find the dimensions of a rectangle whose perimeter is 46 m and whose area is 126 m ( squared ) .'], ['equ : x = 22 * 77', 'find the area of a parallelogram that is : 22 in . height 77 in . length'], ['equ : ( 3 / 7 + 3 ) * 7 = x', 'can you make 24 out of the numbers 3 , 3 , 7 and 7 ?'], ['equ : x + 5 = y equ : x * y = 336', 'the area of a playground is 336 yd ( squared ) . the width of the playground is 5 yd longer than its length . find the length and width of the playground .'], ['equ : 2 * 4 / 20 * ( 20 - 4 ) / ( 20 - 1 ) = x', 'a box of 20 items contains 4 that are defective , two items are randomly selected from the box without replacement . determine the probability that exactly one item will be defective .'], ['equ : ( x - 5 ) / ( 3 - ( - 1 ) ) = ( 7 - 5 ) / ( 0 - ( - 1 ) )', 'a line passes through the points ( - 1 , 5 ) and ( 3 , k ) and has y - intercept 7 . find the value of k .'], ['equ : x = ( - 5 - 9 ) / 2 equ : y = ( 13 + 21 ) / 2', 'the coordinates for the endpoints of a line segment are ( - 5 , 13 ) and ( - 9 , 21 ) . find the midpoint .'], ['equ : 6 * ( x + 2 ) - 4 = 10', 'what is the answer to this math problem 6 ( y + 2 ) - 4 = 10 .'], ['equ : ( 1 - 0.2 ) * ( 1 + x ) = 1', 'the original price of a television set decreases by 20 percent . by what percent must the price increase to reach its original value ? ( a ) 15% ( b ) 20% ( c ) 25% ( d ) 30% ( e ) 40%'], ['equ : 1 / 4 + 1 / 6 + 1 / 2 = 1 / x', 'one can do a job in 4 days , another in 6 days , a third in 2 days . how long if they worked together on a job ?'], ['equ : y = 4 * y equ : z = 5 * y - 5 equ : y + y + z = 180', 'in a triangle abc angle b is 4 times angle a and angle c is 5 degrees less than 5 times angle a - find the angles .'], ['equ : 210 / ( 2 + 40 / 60 ) = x', \"ann drives 210 k m in 2 hours 40 minutes work out ann ' s average speed\"], ['equ : x + y = 80 equ : x - y = 70', 'a glider can fly 240 kilometers in 3 hours with the wind . but against the wind , the glider can only fly 210 km in 3 hours . find the speed of the glider and the speed of the wind .'], ['equ : x + y = 18 equ : 3 * x + 2 * y = 44', 'the sum of numbers is 18 . the sum of 3 times the smaller and twice the larger is 44 . find the 2 numbers .'], ['equ : x + y = 15 equ : x - y = 17', 'please explain it with the following combinations x + y = 15 x - y = 17'], ['equ : x + y = 8 equ : x - y = 4', 'a boat can travel 24 mi in 3 h when traveling with the current . against the same current it can travel only 16 mi in 4 h . find the rate of the current and the rate of the boat in still water .'], ['equ : x * y + 10 = 16 * x equ : 2 * x - 5 = y', 'the product of 2 numbers is 10 less than 16 times the smaller number . if twice the smaller is 5 more than the larger , what are the 2 numbers ?'], ['equ : 86 / 8 - 47 / 8 = x equ : 4 * x = y', 'what is 4 times the difference of 10 3 / 4 and 5 7 / 8 ?'], ['equ : 0.05 * 256 = x', 'just say my balance is $ 256 , how do i use the calculator to get 5% of this .'], ['equ : 5 - 3 = x', 'how much hours is 3 : 00 p . m to 5 : 00 p . m ?'], ['equ : x = 5 + 3 equ : 5 / x * 3 / ( x - 1 ) = y', 'a bag contains 5 blue and 3 green marbles . marbles are drawn a t random without replacement . which of the following gives the probability of drawing a blue and a green marble ?'], ['equ : y = y + 6 equ : z = 4 * y equ : y + y + z = 18', 'the sum of 3 integers is 18 . the third is four times the second , and the second integer is 6 more than the first . find the integers . show me the equation .'], ['equ : 2 / 3 * 2 / 2 = x equ : 2 / 3 * 3 / 3 = y', 'compare 2 / 3 times 2 / 2 with 2 / 3 times 3 / 3 ?'], ['equ : 7 + 8 + 9 + x = 4 * 10', 'if the average ( arithmetic mean ) of 7 , 8 , 9 , and x is 10 , what is the value of x ?'], ['equ : 2 ^ x = 3 equ : ( 3 ) = x equ : 4 ^ ( 2 * y * ( 3 ) ) = 81', 'if 2 raised to x is equal to 3 , find 4 raised to the power 2 x ?'], ['equ : ( 16 * x ^ 5 ) - ( 144 * x ^ 3 ) = ( x ^ 3 )', '( 16 x to the power of 5 ) - ( 144 x to the power of 3 ) ?'], ['equ : 5 * 5 * 10 = x', 'find the volume of a prism with a square base that is 5 cm by 5 cm and is 10 cm tall .'], ['equ : ( 50 ^ 2 - 14 ^ 2 ) ^ 0.5 = x', 'a right triangle has a hypotenuse of 50 feet and a leg of 14 feet . which is the length of the other leg ? a . 24 feet b . 30 feet c . 42 feet d . 48 feet'], ['equ : ( 1 / 4 ) / ( 1 / 4 ) = x', 'what is 1 / 4 t h divided by 1 / 4 t h ?'], ['equ : x - y = 128 / 4 equ : x + y = 128 / 2', 'a motorboat takes 4 hours to travel 128 k m going upstream . the return trip takes 2 hours going downstream . what is the rate of the boat in still water and what is the rate of the current ?'], ['equ : 5 * 8.2 = x equ : x - ( 6 + 10 + 7 + 12 ) = y', 'if the arithmetic mean of five values is 8.2 and four of the values are 6 , 10 , 7 and 12 . find the fifth value ?'], ['equ : x + y = 147 equ : 5 * x + 3 = y', 'sum of two numbers is 147 . the second is 3 more than 5 times the first . what are the two numbers ?'], ['equ : 187 / ( 5 + 40 / 60 ) = x', 'a copy machine makes 187 copies in 5 minutes and 40 seconds . how many copies does it make per minute ?'], ['equ : 0.6 = ( 50 + x ) / ( 75 + 45 )', 'a basketball team has won 50 games of 75 played . the team still has 45 games to play . how many of the remaining games must the team win in order to win 60% of all games played during the season ?'], ['equ : x + y = 38 equ : y = 2 * x + 5', 'the sum of two numbers is 38 . the second is 5 more than 2 times the first . what are the two numbers ?'], ['equ : 2500 * ( 1.12 ^ 8 ) = x', 'how much interest would i earn if i invested $ 2500 a t 12% for 8 years ?'], ['equ : 3.8 / ( 2 / 3 ) = x / ( 4 / 3 )', 'jack can run 3 4 / 5 km in 2 / 3 hour . how far can he run for 1 1 / 3 hours ?'], ['equ : x ^ 2 + y ^ 2 = 15 ^ 2 equ : 3 * x = 4 * y', 'the legs of a right triangle are in the ratio of 3 : 4 , the hypotenuse is 15 . find the legs .'], ['equ : x = 2 * y - 13 equ : 8 + x + y = 40', 'the measure of one side of a triangle is 8 in . the measure of the second side is 13 inches less than twice the length of the third . if the perimeter is 40 in . find the length of the longest side .'], ['equ : 4 * x + 5 * y = 3.56 equ : 3 * x + 4 * y = 2.76', 'four oranges and five apples cost $ 3.56 . three oranges and four apples cost $ 2.76 . find the cost of an orange and an apple'], ['equ : ( 1 + 25 ) * ( 25 - 1 + 1 ) / 2 = x equ : ( 26 + 50 ) * ( 50 - 26 + 1 ) / 2 = y equ : z = y - x', 'what is the difference of the sum of numbers 1 through 25 and numbers 26 through 50 ?'], ['equ : 98 / 4.2 = x', 'find the length of a rectangle if the width is 4.2 cm and area is 98 c m squared .'], ['equ : 200 / 40 = x equ : ( 230 - 200 ) / ( 1.5 * x ) = y equ : 40 + y = z', 'tom earned $ 200 for working 40 hours and he works overtime , he will be paid 1.5 times his regular income . if tom received a total of $ 230 , what is the total number hours he worked ?'], ['equ : 9 = 72 * x', 'how do i get the answer for 9 is what % of 72 ?'], ['equ : ( 9 + 7 ) * 5 / 2 = x', 'a trapezoid with a height of 5 ft has bases of length 9 ft and 7 ft . find the area of the trapezoid ?'], ['equ : x + 3 = y equ : y + 3 = z equ : z + 3 = w equ : w + 3 = o equ : x + y + z + w + o = 50', 'i read 50 books in 5 months . each month i read 3 more books then the month before . how many books did i read in each of the five months ? show your work how you got the answer'], ['equ : x = 3 + 13 + 1 equ : y = 13 / x * 1 / x', 'a bag of marbles contains 3 blue marbles , 13 red marbles and 1 yellow marble . find the probability of drawing a red then a yellow with replacement .'], ['equ : 5000 * 0.03 = x equ : y * 0.05 = 125', '$ 5 , 000 is invested a t 3% interest . how much money must be invested a t 5% interest so that the total interest from the two investments is $ 275 after one year ?'], ['equ : x + y = 71 equ : x + 7 = 4 * ( y + 7 )', 'in 7 years , jon will be 4 x as old has his dog . the sum of their ages today is 71 . how old is jon ?'], ['equ : 2 ^ 3 = x equ : 2 ^ 3 * 3 * 5 * 7 = o', 'lcm of 2 , 4 , 6 , 7 , 8 , 10 ?'], ['equ : 3 / 5 = 12 / x', 'the ratio of boys to girls in a certain class is 3 : 5 . if the class has 12 boys , how many girls does the class have ?'], ['equ : 1 / 8 * 1 / 2 * 4 = x', 'i just want to know what the probability is that i will have 1 boy and 3 girls when i go to have children chance of having either a boy or a girl is 50% .'], ['equ : 185 / 365 = x', 'teachers are required to be in school a t least 185 days out of the 365 in the school year . about what percent of the year do they spend in school ?'], ['equ : 41 - 27 = x', 'what is the d value of the following arithmetic sequence ? 27 , 41 , 55 , 69 , 83 , 97 -'], ['equ : 2 * 7 * 9 = x', 'what is the least common denominator of 2 , 3 , 7 , and 9 ?'], ['equ : 1 - 1 / 8 - 1 / 4 - 2 / 5 = x', 'the tile will be a mix of 4 inch sq tiles . 1 / 8 is red , 1 / 4 is blue , 2 / 5 is green , the rest will be sand . what fraction will be sand ?'], ['equ : 1.5 / ( 10 + 20 / 60 ) * 60 = x', 'how many miles per hour will i be running if i run 1.5 miles in 10 minutes and 20 seconds ?'], ['equ : ( x + y ) + 5 = 25 equ : x = 3 * y - 4', \"one number is 4 less that 3 times another number . if their sum is increased by 5 the result is 25 . what ' s the two numbers ?\"], ['equ : x = ( - 6 - ( - 6 ) ) / ( - 1 - 1 ) equ : - 6 = 1 * x + y', 'what is the equation of the line that passes through ( - 1 , - 6 ) and ( 1 , - 6 ) ?'], ['equ : 2 * x + 7 * ( x + 1 ) = 88', 'find two consecutive integers such that the sum of 2 times the first integer and 7 times second integer is 88 .'], ['equ : ( 1 - 3 / 5 ) = x equ : x * y = 63 / 4', 'a man sold 3 / 5 of his land . he had 15 3 / 4 hectares left . how much land had he a t first ?'], ['equ : x + y = 53 equ : 3 * x = y - 1', 'the sum of 2 numbers is 53 , 3 times the smaller number is 1 less than the larger number . what are the numbers ?'], ['equ : 3 / 4 + 5 / 8 - 13 / 16 = x', 'add 3 / 4 and 5 / 8 , then from their sum subtract 13 / 16 ? show all work'], ['equ : ( 72 ) * ( 42 ) = x', 'how do i find the volume of a triangular prism if the area of the base is 72 cm2 and the height is 42 cm ? explain .'], ['equ : 6 / 3 = x', 'why is 6 over the square root of 3 the same as 2 times the square root of 3 ?'], ['equ : x + ( x + 1 ) + ( x + 2 ) + ( x + 3 ) = 22 equ : 22 + 2 * 4 = y equ : y + 20 * 4 = z', 'a set of 4 consecutive integers has a sum of 22 . if each integer of the set is increased by 2 and then by 20 . what is the sum of the new set of numbers ? show work .'], ['equ : 2 + 1 ^ 2 = x equ : 3 + 2 ^ 2 = o equ : 7 + 3 ^ 2 = p equ : 16 + 7 ^ 2 = q equ : 65 + 16 ^ 2 = r equ : r + ( 65 ) ^ 2 = s', \"1 , 2 , 3 , 7 , 16 , 65 what ' s the eighth term in this pattern ? show work .\"], ['equ : 75 / ( 1 / 4 ) = x equ : x * 5 = y', 'a train travels 75 feet in 1 / 4 second . at this same speed , how many feet will it travel in 5 seconds ?'], ['equ : x = 50 / 2 equ : y = 3.14 * x ^ 2 equ : z = y / 2', \"i have a half circle , it ' s diameter is 50 m , how do i find out the area ?\"], ['equ : 30.00 * ( 1 - 0.25 ) = x', \"a sweater cost 30.00 it is ' on sale ' for a 25% discount . how much will the sweater cost ?\"], ['equ : y = 170 / 20 equ : 14 * y = x', '20 cds cost $ 170 . how much would you spend for 14 cds ?'], ['equ : x = 2 * y equ : y + 2 * y = 42', 'find two numbers whose sum is 42 and such that one is 2 times as large as the other ?'], ['equ : 800 * 0.15 + x = ( 800 + x ) * 0.2', 'if 800 m l of a juice drink is 15% grape juice , how much grape juice should be added to make a drink that is 20% grape juice'], ['equ : x = ( - 3 - 9 ) / ( - 2 - 6 )', 'what is the slope of ( 6 , 9 ) ( - 2 , - 3 ) .'], ['equ : 32 * ( 1 - 0.3 ) = x equ : 24 * ( 1 - 0.15 ) = y', 'how much is 30 percent off 32 , and 15 % off 24 ? ?'], ['equ : 16 / 28 = x equ : 28 - 16 = y equ : y / 28 = z', 'there are 28 student in a math class . 16 of which are male . write in fraction and percent . what fraction of the class is female ? what percent is female ?'], ['equ : x / 11 = y / 4 equ : 3 * y = x + 14', 'the ratio of clovers to diamonds was 11 to 4 , and three times the number of diamonds was 14 more than the number of clovers . how many were clovers ?'], ['equ : 24 / 6 * 11 = x', 'it takes 24 people 11 days to paint a house . how many days would it take 6 people to paint the same house if they all work a t the same pace ?'], ['equ : 5 / 9 = 15 / x', '5 is to 9 , as 15 is to ? a . 18 . b . 27 . c . 36 . d . not given .'], ['equ : x = 90 / 3 * 60 / 3 equ : ( x / 10 ) * 18 = y', 'what will it cost to cover a rectangular floor measuring 90 feet by 60 feet with square tiles that measure 3 feet on each side if a box of 10 tiles costs $ 18 per box ?'], ['equ : 1 - 3 = x equ : 3 - ( - 5 ) = y equ : z = x / y', 'what is the slope of the line that passes through the points ( - 5 , 3 ) and ( 3 , 1 ) ?'], ['equ : 2 * x + 99 = 6 * x - 5', 'i multiply it by 2 and add 99 . i get the same answer if i multiply . by 6 and subtract 5 . what is my number ?'], ['equ : x = 4 * y - 1 equ : y * x = 60', 'the length of a rectangle is 1 foot less than 4 times its width . area is 60 ft . find the dimensions ?'], ['equ : 3 * x + 5 * y = 60 equ : 2 * x + 3 * y = 39', 'in a certain clothing store , 3 shirts and 5 ties cost $ 60 , and 2 shirts and 3 ties cost $ 39 . what is the cost ?'], ['equ : 2 ^ 2 + x ^ 2 = 8 ^ 2', 'base of an 8 foot ladder is placed 2 feet away from a wall . how high up the wall will the ladder reach ?'], ['equ : 1 / 4 * x + 2 = 1 / 3 * x', 'the bowl is 1 / 4 full with sugar . if 2 cups of sugar are added to the bowl , it becomes 1 / 3 full . how many cups does the bowl have ?'], ['equ : ( 22 + 27 ) / 2 = x', 'what is the median of 8 , 5 , 27 , 19 , 22 , 50 , 37 , 34 ?'], ['equ : 7 * 6 * 5 / ( 3 * 2 ) = x', 'there are 5 boys and 7 girls . how many ways can you pick 4 girls ?'], ['equ : x + y = 34 equ : 26 ^ 2 = x ^ 2 + y ^ 2', 'the sum of the lengths of the two legs of a right triangle is 34 meters . if the length of the hypotenuse is 26 meters , find the length of each leg .'], ['equ : x ^ 2 + 5 ^ 2 = 13 ^ 2', 'if the foot of a 13 meters ladder is placed 5 meters from a building , how far up the building will the top of the ladder be ?'], ['equ : x - y = 10 equ : y ^ 2 = 1 equ : x - ( - 5 ) = 10', 'find two numbers whose difference is 10 and whose product is a maximum .'], ['equ : 1 + ( 18 - 1 ) * ( 5 ) = x', 'find the 18 t h term of the arithmetic sequence whose common difference is 5 and whose first term is 1 .'], ['equ : x = ( - 9 - 5 ) / ( - 4 - 0 )', 'what is the slope of the line that passes through ( - 4 , - 9 ) and ( 0 , 5 ) ?'], ['equ : x + y = 15 equ : 10 * y + x = 10 * x + y + 9', 'the sum of the digits in a two - digit number is 15 . when the digits are reversed , the new number is 9 more than the original number . what is the original number ?'], ['equ : x + y = 30 equ : 2 * x + 3 = 7 * y', 'the sum of two number is 30 . twice the larger number is 3 less than 7 times the smaller number ?'], ['equ : 5 * 8 = x', 'find the area of a rectangle whose vertices are ( 0 , 0 ) , ( 8 , 0 ) , ( 0 , 5 ) and ( 8 , 5 ) ?'], ['equ : x - 0.06 * x = 30.00', 'a calculator is sold a t $ 30 with a loss of 6% . what is the cost price of the calculator to the person who sold it ?'], ['equ : x - y = 16 equ : 5 * y = 2 * x - 8', 'the difference between two numbers is 16 . five times the smaller is the same as 8 less than twice the larger . find the numbers .'], ['equ : ( 13 / 20 ) * ( 12 / 19 ) = x', 'in a second grade class containing 13 girls and 7 boys , 2 students are selected a t random to give out the math papers . what is the probability that both are girls ?'], ['equ : x = ( - 9 - 6 ) / ( - 1 - ( - 9 ) )', 'find the slope of the line through the pair of points ? l ( - 9 , 6 ) , m ( - 1 , - 9 ) .'], ['equ : ( - 5 ) * ( - 6 ) * ( - 7 ) * ( - 8 ) * ( - 9 ) * ( - 10 ) = x', 'multiply ( - 5 ) ( - 6 ) ( - 7 ) ( - 8 ) ( - 9 ) ( - 10 ) ?'], ['equ : x * y = 48 equ : 2 * x + 2 * y = 32', 'a rectangle has an area of 48 square feet and a perimeter of 32 feet . which of the following could be its dimensions ? 6 ft and 8 ft 2 ft and 24 ft 3 ft and 16 ft 12 ft and 4 ft'], ['equ : 2 * x + 40 = 600', \"you paid $ 600 dollars for a new guitar . your guitar cost $ 40 more than twice the cost of your friend ' s guitar . how much did your friend ' s guitar cost ?\"], ['equ : ( 128 ) ^ ( 4 / 7 ) = x', 'which is equal to ( 128 ) ^ 4 / 7 ? a . 3 b . 2 c . 81 d . 16'], ['equ : 4 * 5 = x', 'how many integers greater than 100 and less than 150 can be made using the digits 1 , 2 , 3 , 4 , 5 if no digit is repeated ?'], ['equ : x = 50 / 10 equ : x + y = 70 / 10 equ : y * z = 26', 'a can copy 50 papers in 10 hrs . both a and b can copy 70 in 10 hrs . how many hrs required for b to copy 26 papers ?'], ['equ : x = y + 4 equ : z = 2 * y - 2 equ : 66 = x + y + z', 'side a of a triangle is 4 more than side b . side c is 2 less than twice side b . the perimeter is 66 feet .'], ['equ : 15 * 1 + 20 * 8 + 15 * 28 + 6 * 56 + 1 * 70 = x', 'in how many ways can a group of 10 people be chosen from 6 adults and 8 children if the group must contain a t least 2 adults ?'], ['equ : x + 1 = y equ : x + y = 27', 'the sum of 2 consecutive integers is 27 . what are the 2 integers ?'], ['equ : 125 * 0.45 = ( 125 + x ) * 0.3', 'how many ounces of water must be added to 125 oz of a 45 % of sugar a solution to produce a 30% sugar solution ?'], ['equ : x + y = 12 equ : y = x + 2', 'the sum of the digits of 2 digit # is 12 . if the units is 2 more than the tens digit . find the numbers .'], ['equ : 34 / 53 = x', 'what is my percentage if i got 34 right out of 53 questions ?'], ['equ : 42 / 12 = x equ : 44 / 12 = y equ : 46 / 12 = z equ : 60 / 12 = w', 'place in order from least to greatest if 11 / 3 , 14 / 4 , 15 / 3 and 23 / 6 .'], ['equ : 3 * 3 * 2 * 2 * 2 = x', 'what are all the multiples of 9 , 6 , and 8 to find the lcm ?'], ['equ : 12 / 2 = x equ : x ^ 2 + y ^ 2 = 12 ^ 2 equ : z = 1 / 2 * x * y', 'what is the area of a triangle whose angles are 30 degrees , 60 and 90 degrees and the hypotenuse is 12 ?'], ['equ : 2 * 8 * 11 = x', 'find the volume of a box of cereal that is 2 inches by 8 inches by 11 inches .'], ['equ : 1 + 2 * x = 3 equ : 1 ^ 2 + 2 ^ 2 = z ^ 2 equ : 1 + 3 + 2 * z = y', 'bases of the trapezoid ( top and bottom ) are 1 and 3 inches . the height is 2 inches . what are the side lengths so i can get the perimeter ?'], ['equ : x - 7 = y + 5 equ : 3 * y + 2 = x', \"a rectangle ' s length is 2 more than 3 times its width . if its length is decreased by 7 and its width is increased by 5 , a square is formed . how long is the rectangle ?\"], ['equ : y = y + 1 equ : z = y + 1 equ : 5 * ( y + z ) = 10 + 9 * y', 'five times the sum of the first and third of three consecutive integers is ten more than the product of nine and the second integer . find the third integer ? a . 8 b . 12 c . 11 d . 10'], ['equ : x = 9 * 7 equ : y = 7 * 9 equ : z = ( x + y ) / ( 7 + 9 )', 'the average of 9 numbers is 7 , and the average of 7 numbers is 9 . what is the average of all the numbers ?'], ['equ : 1.75 * 1.96 = x', 'how much does jane pay for 1 l b 12 o z of apples an 1.96 per lb ?'], ['equ : x * y = 200 equ : y = 0.5 * x - 5', 'the area of a rectangular yard is 200 square feet . the width of the yard is 5 feet less than half the length .'], ['equ : x = 80 * 3.14 / 180', 'i need help with this question convert 80 degrees to radians and express as multiply of pi .'], ['equ : ( 9 / 2 ) / ( 9 / 5 ) = x', \"what ' s 4 1 / 2 divided by 1 4 / 5 ?\"], ['equ : 7 * 5 = z equ : 7.5 * 6 = x equ : x - z = p', \"arithmetic mean of five numbers is 7 . the sixth number was added and now arithmetic mean is 7.5 . what ' s the sixth number ?\"], ['equ : 18 / 15 = x equ : x * 10 = y', 'if 15 apples cost 18 cents , how much would be the cost of 10 apples ?'], ['equ : 5.5 * 3.2 * 2.8 = x', 'a water tank is 5.5 m long by 3.2 m wide and 2.8 m deep . calculate the volume of the tank in litres ?'], ['equ : 1 * 8 = x equ : 36 * 8 = y', '1 increases by a factor of 8 , so does that mean it is 9 or 8 ? what if it was 36 ?'], ['equ : 1 + 1 / 2 + 1 / 4 + 1 / 8 + 1 / 16 = x', 'find the sum of the geometric sequence . 1 , 1 / 2 , 1 / 4 , 1 / 8 , 1 / 16 ? 31 / 16 1 / 24 1 / 6 93'], ['equ : y = y + 1 equ : y ^ 2 + y ^ 2 = 4 ^ 2', 'the length of a rectangle is 1 cm longer than its width . if the diagonal for the rectangle is 4 cm , what are the dimensions of the rectangle ?'], ['equ : y = y + 4 equ : 3.14 * y * y - 3.14 * y * y = 72 * 3.14', \"if a circle ' s radius is increased by 4 meters , the area is increased by 72 pie square meters . what are the radius of the original and new circle ?\"], ['equ : 1 / 2 * x * y = 9 equ : y = x + 3', 'a triangle has an area of 9 cm2 . the height of the triangle is three cm longer than the base . find the height and base of the triangle .']]\n",
      "tensor([[   3,    3,    3,    3,    3],\n",
      "        [   4,    4,    4,    4,    4],\n",
      "        [ 126,  721,  655,    5,    5],\n",
      "        [  68,   11,   11,   59,    8],\n",
      "        [  30,   93,    5,   10,   44],\n",
      "        [   8,   44,   59,    6,    6],\n",
      "        [   5,   29,   10,   46,    7],\n",
      "        [   3,  364,   11,    5,    6],\n",
      "        [   4,   95,  188,   29,   13],\n",
      "        [  30,    8,    8, 1152,    3],\n",
      "        [  29,    5,  294,    8,    4],\n",
      "        [ 126,    3,    2,  107,    9],\n",
      "        [   8,    4,    0,    2,    8],\n",
      "        [   9,   82,    0,    0,  460],\n",
      "        [   3,   11,    0,    0,   11],\n",
      "        [   4,   93,    0,    0,   44],\n",
      "        [   9,   44,    0,    0,   68],\n",
      "        [  68,   29,    0,    0,    5],\n",
      "        [  30,  450,    0,    0,    3],\n",
      "        [   8,   95,    0,    0,    4],\n",
      "        [ 136,    8,    0,    0,  136],\n",
      "        [   2,    9,    0,    0,    8],\n",
      "        [   0,    2,    0,    0,  460],\n",
      "        [   0,    0,    0,    0,   11],\n",
      "        [   0,    0,    0,    0,    7],\n",
      "        [   0,    0,    0,    0,   68],\n",
      "        [   0,    0,    0,    0,    5],\n",
      "        [   0,    0,    0,    0,    3],\n",
      "        [   0,    0,    0,    0,    4],\n",
      "        [   0,    0,    0,    0,  168],\n",
      "        [   0,    0,    0,    0,    8],\n",
      "        [   0,    0,    0,    0,  460],\n",
      "        [   0,    0,    0,    0,   11],\n",
      "        [   0,    0,    0,    0,   13],\n",
      "        [   0,    0,    0,    0,   68],\n",
      "        [   0,    0,    0,    0,    5],\n",
      "        [   0,    0,    0,    0,    2]])\n",
      "tensor([22., 23., 12., 13., 37.])\n",
      "tensor([[ 144,  232,  232,    5,   23],\n",
      "        [ 120,  233,  250,  129,   35],\n",
      "        [  30,   16,   72,   23,  833],\n",
      "        [ 534,  199,   26,   10,  207],\n",
      "        [ 207,  314,   23,  200,   19],\n",
      "        [  19,  700,  433,  938,  338],\n",
      "        [ 537,  721,   33, 1153,  207],\n",
      "        [ 964,   36,   19,  135,   23],\n",
      "        [  21,   37,  658,   46,  341],\n",
      "        [ 126,   46,  110,    5,   44],\n",
      "        [  33,  259,   23,   66,    4],\n",
      "        [ 147,  700,  491, 1152,    7],\n",
      "        [ 120,   82,   16,   84,    4],\n",
      "        [1309,   53,  188,  107,   13],\n",
      "        [  21,   53,  174,    2,   21],\n",
      "        [ 648,    2,   96,    0,   26],\n",
      "        [ 207,    0,   37,    0,  587],\n",
      "        [ 267,    0,   23,    0,   53],\n",
      "        [  37,    0,  500,    0,    2],\n",
      "        [ 314,    0,   16,    0,    0],\n",
      "        [  21,    0,  294,    0,    0],\n",
      "        [  49,    0, 1747,    0,    0],\n",
      "        [ 267,    0,   53,    0,    0],\n",
      "        [  33,    0,    2,    0,    0],\n",
      "        [  23,    0,    0,    0,    0],\n",
      "        [ 964,    0,    0,    0,    0],\n",
      "        [  16,    0,    0,    0,    0],\n",
      "        [1347,    0,    0,    0,    0],\n",
      "        [  53,    0,    0,    0,    0],\n",
      "        [  49,    0,    0,    0,    0],\n",
      "        [ 314,    0,    0,    0,    0],\n",
      "        [  16,    0,    0,    0,    0],\n",
      "        [1347,    0,    0,    0,    0],\n",
      "        [  53,    0,    0,    0,    0],\n",
      "        [   2,    0,    0,    0,    0]])\n",
      "tensor([[1, 1, 1, 1, 1],\n",
      "        [1, 1, 1, 1, 1],\n",
      "        [1, 1, 1, 1, 1],\n",
      "        [1, 1, 1, 1, 1],\n",
      "        [1, 1, 1, 1, 1],\n",
      "        [1, 1, 1, 1, 1],\n",
      "        [1, 1, 1, 1, 1],\n",
      "        [1, 1, 1, 1, 1],\n",
      "        [1, 1, 1, 1, 1],\n",
      "        [1, 1, 1, 1, 1],\n",
      "        [1, 1, 1, 1, 1],\n",
      "        [1, 1, 1, 1, 1],\n",
      "        [1, 1, 1, 1, 1],\n",
      "        [1, 1, 1, 1, 1],\n",
      "        [1, 1, 1, 1, 1],\n",
      "        [1, 1, 1, 0, 1],\n",
      "        [1, 0, 1, 0, 1],\n",
      "        [1, 0, 1, 0, 1],\n",
      "        [1, 0, 1, 0, 1],\n",
      "        [1, 0, 1, 0, 0],\n",
      "        [1, 0, 1, 0, 0],\n",
      "        [1, 0, 1, 0, 0],\n",
      "        [1, 0, 1, 0, 0],\n",
      "        [1, 0, 1, 0, 0],\n",
      "        [1, 0, 0, 0, 0],\n",
      "        [1, 0, 0, 0, 0],\n",
      "        [1, 0, 0, 0, 0],\n",
      "        [1, 0, 0, 0, 0],\n",
      "        [1, 0, 0, 0, 0],\n",
      "        [1, 0, 0, 0, 0],\n",
      "        [1, 0, 0, 0, 0],\n",
      "        [1, 0, 0, 0, 0],\n",
      "        [1, 0, 0, 0, 0],\n",
      "        [1, 0, 0, 0, 0],\n",
      "        [1, 0, 0, 0, 0]], dtype=torch.uint8)\n",
      "35\n",
      "word_num,sample_num:1833 639\n"
     ]
    },
    {
     "name": "stdout",
     "output_type": "stream",
     "text": [
      "-------------------data loaded-------------------\n",
      "tensor([[   3,    3,    3,    3,    3,    3,    3,    3,    3,    3,    3,    3,\n",
      "            3,    3,    3,    3],\n",
      "        [   4,    4,    4,    4,    4,    4,    4,    4,    4,    4,    4,    4,\n",
      "            4,    4,    4,    4],\n",
      "        [  13,    5,    5,   94,   93,  151,    5,   44,    5,    5,    5,  790,\n",
      "            5,   93,    5, 1453],\n",
      "        [  11,   68,    6,   11,   93,   11,    6,    6,    6,    6,    8,   11,\n",
      "            8,   29,    6,   68],\n",
      "        [   5,  437,    9,   93,    5,    5,    9,   93,    9,   10,   55,  450,\n",
      "           44,   13,    7,  122],\n",
      "        [   8,    8,    8, 1576,   59,    8,    6,  142,    8,    8,   11,    6,\n",
      "           68,   95,    8,   11],\n",
      "        [ 151,   44,   82,   68,   10,   45,  136,   29,  187,    9,   55,    5,\n",
      "           47,   11,    9,   45],\n",
      "        [  11,   68,    3,   54,    6,   11,    8,   44,    3,    3,   11,    8,\n",
      "           11,   93,    3,    8],\n",
      "        [   9,   10,    4,   95,   44,   47,  122,   95,    4,    4,   55,   93,\n",
      "           93,   29,    4,    5],\n",
      "        [   3,   68,  136,    8,   95,    2,    3,   11,    9,    5,   29,  790,\n",
      "          272,   47,   10,    2],\n",
      "        [   4,   94,    8,    5,   68,    0,    4,   93,    8,    6,   44,    6,\n",
      "            6,   95,   11,    0],\n",
      "        [  10,    3,  464,    3,   93,    0,  136,   13,    5,   45,    2,    5,\n",
      "            5,   11,    9,    0],\n",
      "        [  11,    4,   11,    4,    5,    0,    8,   95,    6,    8,    0,   95,\n",
      "           95,   93,    6,    0],\n",
      "        [   5,    9,    5,    5,   29,    0,    5,    8,  130,  136,    0,   11,\n",
      "            3,   29,   12,    0],\n",
      "        [   6,   68,    6,   11,   44,    0,    6,    5,    2,    3,    0,  563,\n",
      "            4,  151,    8,    0],\n",
      "        [  10,   87,  465, 1576,   95,    0,   13,    2,    0,    4,    0,    2,\n",
      "          272,   95,   13,    0],\n",
      "        [  11,    8,   11,   68,   95,    0,    3,    0,    0,    5,    0,    0,\n",
      "            6,   11,   11,    0],\n",
      "        [   9,   44,    9,   45,    6,    0,    4,    0,    0,    6,    0,    0,\n",
      "           13,   93,    5,    0],\n",
      "        [   8,   68,    3,    8,   44,    0,    9,    0,    0,    5,    0,    0,\n",
      "            8,   29,    2,    0],\n",
      "        [ 132,   10,    4,    9,    6,    0,    6,    0,    0,    6,    0,    0,\n",
      "            9,   54,    0,    0],\n",
      "        [   2,   68,  136,    2,   93,    0,    7,    0,    0,   10,    0,    0,\n",
      "            2,   95,    0,    0],\n",
      "        [   0,   94,    6,    0,   93,    0,    8,    0,    0,    6,    0,    0,\n",
      "            0,   11,    0,    0],\n",
      "        [   0,    2,   10,    0,   44,    0,  136,    0,    0,    5,    0,    0,\n",
      "            0,   93,    0,    0],\n",
      "        [   0,    0,    8,    0,    6,    0,    2,    0,    0,    6,    0,    0,\n",
      "            0,   29,    0,    0],\n",
      "        [   0,    0,   10,    0,    7,    0,    0,    0,    0,   45,    0,    0,\n",
      "            0,   55,    0,    0],\n",
      "        [   0,    0,   11,    0,    5,    0,    0,    0,    0,    8,    0,    0,\n",
      "            0,   95,    0,    0],\n",
      "        [   0,    0,  465,    0,   95,    0,    0,    0,    0,   45,    0,    0,\n",
      "            0,   11,    0,    0],\n",
      "        [   0,    0,   11,    0,   68,    0,    0,    0,    0,   11,    0,    0,\n",
      "            0,   93,    0,    0],\n",
      "        [   0,    0,    9,    0,   93,    0,    0,    0,    0,    5,    0,    0,\n",
      "            0,   29,    0,    0],\n",
      "        [   0,    0,    6,    0,   10,    0,    0,    0,    0,   29,    0,    0,\n",
      "            0,   94,    0,    0],\n",
      "        [   0,    0,  464,    0,   29,    0,    0,    0,    0,  151,    0,    0,\n",
      "            0,   95,    0,    0],\n",
      "        [   0,    0,   11,    0,   10,    0,    0,    0,    0,    2,    0,    0,\n",
      "            0,    8,    0,    0],\n",
      "        [   0,    0,    5,    0,    5,    0,    0,    0,    0,    0,    0,    0,\n",
      "            0,    5,    0,    0],\n",
      "        [   0,    0,   68,    0,   95,    0,    0,    0,    0,    0,    0,    0,\n",
      "            0,    2,    0,    0],\n",
      "        [   0,    0,   10,    0,   95,    0,    0,    0,    0,    0,    0,    0,\n",
      "            0,    0,    0,    0],\n",
      "        [   0,    0,    2,    0,    8,    0,    0,    0,    0,    0,    0,    0,\n",
      "            0,    0,    0,    0],\n",
      "        [   0,    0,    0,    0,  107,    0,    0,    0,    0,    0,    0,    0,\n",
      "            0,    0,    0,    0],\n",
      "        [   0,    0,    0,    0,    2,    0,    0,    0,    0,    0,    0,    0,\n",
      "            0,    0,    0,    0]]) tensor([21., 23., 36., 21., 38., 10., 24., 16., 15., 32., 12., 16., 21., 34.,\n",
      "        19., 10.])\n",
      "torch.Size([38, 16, 256]) torch.Size([16])\n",
      "43\n",
      "step:0 "
     ]
    },
    {
     "name": "stderr",
     "output_type": "stream",
     "text": [
      "c:\\users\\i\\appdata\\local\\programs\\python\\python37\\lib\\site-packages\\torch\\nn\\functional.py:1340: UserWarning: nn.functional.tanh is deprecated. Use torch.tanh instead.\n",
      "  warnings.warn(\"nn.functional.tanh is deprecated. Use torch.tanh instead.\")\n",
      "c:\\users\\i\\appdata\\local\\programs\\python\\python37\\lib\\site-packages\\torch\\nn\\functional.py:1351: UserWarning: nn.functional.sigmoid is deprecated. Use torch.sigmoid instead.\n",
      "  warnings.warn(\"nn.functional.sigmoid is deprecated. Use torch.sigmoid instead.\")\n",
      "..\\aten\\src\\ATen\\native\\LegacyDefinitions.cpp:67: UserWarning: masked_select received a mask with dtype torch.uint8, this behavior is now deprecated,please use a mask with dtype torch.bool instead.\n"
     ]
    },
    {
     "name": "stdout",
     "output_type": "stream",
     "text": [
      "tensor(134.3306, grad_fn=<SumBackward0>)\n",
      "step:1 "
     ]
    },
    {
     "name": "stderr",
     "output_type": "stream",
     "text": [
      "..\\aten\\src\\ATen\\native\\LegacyDefinitions.cpp:67: UserWarning: masked_select received a mask with dtype torch.uint8, this behavior is now deprecated,please use a mask with dtype torch.bool instead.\n"
     ]
    },
    {
     "name": "stdout",
     "output_type": "stream",
     "text": [
      "tensor(117.1015, grad_fn=<SumBackward0>)\n",
      "step:2 "
     ]
    },
    {
     "name": "stderr",
     "output_type": "stream",
     "text": [
      "..\\aten\\src\\ATen\\native\\LegacyDefinitions.cpp:67: UserWarning: masked_select received a mask with dtype torch.uint8, this behavior is now deprecated,please use a mask with dtype torch.bool instead.\n"
     ]
    },
    {
     "name": "stdout",
     "output_type": "stream",
     "text": [
      "tensor(122.4822, grad_fn=<SumBackward0>)\n",
      "step:3 "
     ]
    },
    {
     "name": "stderr",
     "output_type": "stream",
     "text": [
      "..\\aten\\src\\ATen\\native\\LegacyDefinitions.cpp:67: UserWarning: masked_select received a mask with dtype torch.uint8, this behavior is now deprecated,please use a mask with dtype torch.bool instead.\n"
     ]
    },
    {
     "name": "stdout",
     "output_type": "stream",
     "text": [
      "tensor(133.4934, grad_fn=<SumBackward0>)\n",
      "step:4 "
     ]
    },
    {
     "name": "stderr",
     "output_type": "stream",
     "text": [
      "..\\aten\\src\\ATen\\native\\LegacyDefinitions.cpp:67: UserWarning: masked_select received a mask with dtype torch.uint8, this behavior is now deprecated,please use a mask with dtype torch.bool instead.\n"
     ]
    },
    {
     "name": "stdout",
     "output_type": "stream",
     "text": [
      "tensor(117.6361, grad_fn=<SumBackward0>)\n",
      "step:5 "
     ]
    },
    {
     "name": "stderr",
     "output_type": "stream",
     "text": [
      "..\\aten\\src\\ATen\\native\\LegacyDefinitions.cpp:67: UserWarning: masked_select received a mask with dtype torch.uint8, this behavior is now deprecated,please use a mask with dtype torch.bool instead.\n"
     ]
    },
    {
     "name": "stdout",
     "output_type": "stream",
     "text": [
      "tensor(122.8293, grad_fn=<SumBackward0>)\n",
      "step:6 "
     ]
    },
    {
     "name": "stderr",
     "output_type": "stream",
     "text": [
      "..\\aten\\src\\ATen\\native\\LegacyDefinitions.cpp:67: UserWarning: masked_select received a mask with dtype torch.uint8, this behavior is now deprecated,please use a mask with dtype torch.bool instead.\n"
     ]
    },
    {
     "name": "stdout",
     "output_type": "stream",
     "text": [
      "tensor(117.4688, grad_fn=<SumBackward0>)\n",
      "step:7 "
     ]
    },
    {
     "name": "stderr",
     "output_type": "stream",
     "text": [
      "..\\aten\\src\\ATen\\native\\LegacyDefinitions.cpp:67: UserWarning: masked_select received a mask with dtype torch.uint8, this behavior is now deprecated,please use a mask with dtype torch.bool instead.\n"
     ]
    },
    {
     "name": "stdout",
     "output_type": "stream",
     "text": [
      "tensor(128.3195, grad_fn=<SumBackward0>)\n",
      "step:8 "
     ]
    },
    {
     "name": "stderr",
     "output_type": "stream",
     "text": [
      "..\\aten\\src\\ATen\\native\\LegacyDefinitions.cpp:67: UserWarning: masked_select received a mask with dtype torch.uint8, this behavior is now deprecated,please use a mask with dtype torch.bool instead.\n"
     ]
    },
    {
     "name": "stdout",
     "output_type": "stream",
     "text": [
      "tensor(123.4373, grad_fn=<SumBackward0>)\n",
      "step:9 "
     ]
    },
    {
     "name": "stderr",
     "output_type": "stream",
     "text": [
      "..\\aten\\src\\ATen\\native\\LegacyDefinitions.cpp:67: UserWarning: masked_select received a mask with dtype torch.uint8, this behavior is now deprecated,please use a mask with dtype torch.bool instead.\n"
     ]
    },
    {
     "name": "stdout",
     "output_type": "stream",
     "text": [
      "tensor(122.1135, grad_fn=<SumBackward0>)\n",
      "step:10 "
     ]
    },
    {
     "name": "stderr",
     "output_type": "stream",
     "text": [
      "..\\aten\\src\\ATen\\native\\LegacyDefinitions.cpp:67: UserWarning: masked_select received a mask with dtype torch.uint8, this behavior is now deprecated,please use a mask with dtype torch.bool instead.\n"
     ]
    },
    {
     "name": "stdout",
     "output_type": "stream",
     "text": [
      "tensor(122.8287, grad_fn=<SumBackward0>)\n",
      "step:11 "
     ]
    },
    {
     "name": "stderr",
     "output_type": "stream",
     "text": [
      "..\\aten\\src\\ATen\\native\\LegacyDefinitions.cpp:67: UserWarning: masked_select received a mask with dtype torch.uint8, this behavior is now deprecated,please use a mask with dtype torch.bool instead.\n"
     ]
    },
    {
     "name": "stdout",
     "output_type": "stream",
     "text": [
      "tensor(128.8040, grad_fn=<SumBackward0>)\n",
      "step:12 "
     ]
    },
    {
     "name": "stderr",
     "output_type": "stream",
     "text": [
      "..\\aten\\src\\ATen\\native\\LegacyDefinitions.cpp:67: UserWarning: masked_select received a mask with dtype torch.uint8, this behavior is now deprecated,please use a mask with dtype torch.bool instead.\n"
     ]
    },
    {
     "name": "stdout",
     "output_type": "stream",
     "text": [
      "tensor(123.0556, grad_fn=<SumBackward0>)\n",
      "step:13 "
     ]
    },
    {
     "name": "stderr",
     "output_type": "stream",
     "text": [
      "..\\aten\\src\\ATen\\native\\LegacyDefinitions.cpp:67: UserWarning: masked_select received a mask with dtype torch.uint8, this behavior is now deprecated,please use a mask with dtype torch.bool instead.\n"
     ]
    },
    {
     "name": "stdout",
     "output_type": "stream",
     "text": [
      "tensor(122.2999, grad_fn=<SumBackward0>)\n",
      "step:14 "
     ]
    },
    {
     "name": "stderr",
     "output_type": "stream",
     "text": [
      "..\\aten\\src\\ATen\\native\\LegacyDefinitions.cpp:67: UserWarning: masked_select received a mask with dtype torch.uint8, this behavior is now deprecated,please use a mask with dtype torch.bool instead.\n"
     ]
    },
    {
     "name": "stdout",
     "output_type": "stream",
     "text": [
      "tensor(128.1128, grad_fn=<SumBackward0>)\n",
      "step:15 "
     ]
    },
    {
     "name": "stderr",
     "output_type": "stream",
     "text": [
      "..\\aten\\src\\ATen\\native\\LegacyDefinitions.cpp:67: UserWarning: masked_select received a mask with dtype torch.uint8, this behavior is now deprecated,please use a mask with dtype torch.bool instead.\n"
     ]
    },
    {
     "name": "stdout",
     "output_type": "stream",
     "text": [
      "tensor(119.7818, grad_fn=<SumBackward0>)\n",
      "step:16 "
     ]
    },
    {
     "name": "stderr",
     "output_type": "stream",
     "text": [
      "..\\aten\\src\\ATen\\native\\LegacyDefinitions.cpp:67: UserWarning: masked_select received a mask with dtype torch.uint8, this behavior is now deprecated,please use a mask with dtype torch.bool instead.\n"
     ]
    },
    {
     "name": "stdout",
     "output_type": "stream",
     "text": [
      "tensor(109.0431, grad_fn=<SumBackward0>)\n",
      "step:17 "
     ]
    },
    {
     "name": "stderr",
     "output_type": "stream",
     "text": [
      "..\\aten\\src\\ATen\\native\\LegacyDefinitions.cpp:67: UserWarning: masked_select received a mask with dtype torch.uint8, this behavior is now deprecated,please use a mask with dtype torch.bool instead.\n"
     ]
    },
    {
     "name": "stdout",
     "output_type": "stream",
     "text": [
      "tensor(109.2797, grad_fn=<SumBackward0>)\n",
      "step:18 "
     ]
    },
    {
     "name": "stderr",
     "output_type": "stream",
     "text": [
      "..\\aten\\src\\ATen\\native\\LegacyDefinitions.cpp:67: UserWarning: masked_select received a mask with dtype torch.uint8, this behavior is now deprecated,please use a mask with dtype torch.bool instead.\n"
     ]
    },
    {
     "name": "stdout",
     "output_type": "stream",
     "text": [
      "tensor(111.0400, grad_fn=<SumBackward0>)\n",
      "step:19 "
     ]
    },
    {
     "name": "stderr",
     "output_type": "stream",
     "text": [
      "..\\aten\\src\\ATen\\native\\LegacyDefinitions.cpp:67: UserWarning: masked_select received a mask with dtype torch.uint8, this behavior is now deprecated,please use a mask with dtype torch.bool instead.\n"
     ]
    },
    {
     "name": "stdout",
     "output_type": "stream",
     "text": [
      "tensor(111.1794, grad_fn=<SumBackward0>)\n",
      "step:20 "
     ]
    },
    {
     "name": "stderr",
     "output_type": "stream",
     "text": [
      "..\\aten\\src\\ATen\\native\\LegacyDefinitions.cpp:67: UserWarning: masked_select received a mask with dtype torch.uint8, this behavior is now deprecated,please use a mask with dtype torch.bool instead.\n"
     ]
    },
    {
     "name": "stdout",
     "output_type": "stream",
     "text": [
      "tensor(95.8113, grad_fn=<SumBackward0>)\n",
      "step:21 "
     ]
    },
    {
     "name": "stderr",
     "output_type": "stream",
     "text": [
      "..\\aten\\src\\ATen\\native\\LegacyDefinitions.cpp:67: UserWarning: masked_select received a mask with dtype torch.uint8, this behavior is now deprecated,please use a mask with dtype torch.bool instead.\n"
     ]
    },
    {
     "name": "stdout",
     "output_type": "stream",
     "text": [
      "tensor(91.3561, grad_fn=<SumBackward0>)\n",
      "step:22 "
     ]
    },
    {
     "name": "stderr",
     "output_type": "stream",
     "text": [
      "..\\aten\\src\\ATen\\native\\LegacyDefinitions.cpp:67: UserWarning: masked_select received a mask with dtype torch.uint8, this behavior is now deprecated,please use a mask with dtype torch.bool instead.\n"
     ]
    },
    {
     "name": "stdout",
     "output_type": "stream",
     "text": [
      "tensor(97.5003, grad_fn=<SumBackward0>)\n",
      "step:23 "
     ]
    },
    {
     "name": "stderr",
     "output_type": "stream",
     "text": [
      "..\\aten\\src\\ATen\\native\\LegacyDefinitions.cpp:67: UserWarning: masked_select received a mask with dtype torch.uint8, this behavior is now deprecated,please use a mask with dtype torch.bool instead.\n"
     ]
    },
    {
     "name": "stdout",
     "output_type": "stream",
     "text": [
      "tensor(86.5111, grad_fn=<SumBackward0>)\n",
      "step:24 "
     ]
    },
    {
     "name": "stderr",
     "output_type": "stream",
     "text": [
      "..\\aten\\src\\ATen\\native\\LegacyDefinitions.cpp:67: UserWarning: masked_select received a mask with dtype torch.uint8, this behavior is now deprecated,please use a mask with dtype torch.bool instead.\n"
     ]
    },
    {
     "name": "stdout",
     "output_type": "stream",
     "text": [
      "tensor(75.6123, grad_fn=<SumBackward0>)\n",
      "step:25 "
     ]
    },
    {
     "name": "stderr",
     "output_type": "stream",
     "text": [
      "..\\aten\\src\\ATen\\native\\LegacyDefinitions.cpp:67: UserWarning: masked_select received a mask with dtype torch.uint8, this behavior is now deprecated,please use a mask with dtype torch.bool instead.\n"
     ]
    },
    {
     "name": "stdout",
     "output_type": "stream",
     "text": [
      "tensor(82.2428, grad_fn=<SumBackward0>)\n",
      "step:26 "
     ]
    },
    {
     "name": "stderr",
     "output_type": "stream",
     "text": [
      "..\\aten\\src\\ATen\\native\\LegacyDefinitions.cpp:67: UserWarning: masked_select received a mask with dtype torch.uint8, this behavior is now deprecated,please use a mask with dtype torch.bool instead.\n"
     ]
    },
    {
     "name": "stdout",
     "output_type": "stream",
     "text": [
      "tensor(81.1669, grad_fn=<SumBackward0>)\n",
      "step:27 "
     ]
    },
    {
     "name": "stderr",
     "output_type": "stream",
     "text": [
      "..\\aten\\src\\ATen\\native\\LegacyDefinitions.cpp:67: UserWarning: masked_select received a mask with dtype torch.uint8, this behavior is now deprecated,please use a mask with dtype torch.bool instead.\n"
     ]
    },
    {
     "name": "stdout",
     "output_type": "stream",
     "text": [
      "tensor(70.3399, grad_fn=<SumBackward0>)\n",
      "step:28 "
     ]
    },
    {
     "name": "stderr",
     "output_type": "stream",
     "text": [
      "..\\aten\\src\\ATen\\native\\LegacyDefinitions.cpp:67: UserWarning: masked_select received a mask with dtype torch.uint8, this behavior is now deprecated,please use a mask with dtype torch.bool instead.\n"
     ]
    },
    {
     "name": "stdout",
     "output_type": "stream",
     "text": [
      "tensor(70.3586, grad_fn=<SumBackward0>)\n",
      "step:29 "
     ]
    },
    {
     "name": "stderr",
     "output_type": "stream",
     "text": [
      "..\\aten\\src\\ATen\\native\\LegacyDefinitions.cpp:67: UserWarning: masked_select received a mask with dtype torch.uint8, this behavior is now deprecated,please use a mask with dtype torch.bool instead.\n"
     ]
    },
    {
     "name": "stdout",
     "output_type": "stream",
     "text": [
      "tensor(61.7442, grad_fn=<SumBackward0>)\n",
      "step:30 "
     ]
    },
    {
     "name": "stderr",
     "output_type": "stream",
     "text": [
      "..\\aten\\src\\ATen\\native\\LegacyDefinitions.cpp:67: UserWarning: masked_select received a mask with dtype torch.uint8, this behavior is now deprecated,please use a mask with dtype torch.bool instead.\n"
     ]
    },
    {
     "name": "stdout",
     "output_type": "stream",
     "text": [
      "tensor(53.2653, grad_fn=<SumBackward0>)\n",
      "step:31 "
     ]
    },
    {
     "name": "stderr",
     "output_type": "stream",
     "text": [
      "..\\aten\\src\\ATen\\native\\LegacyDefinitions.cpp:67: UserWarning: masked_select received a mask with dtype torch.uint8, this behavior is now deprecated,please use a mask with dtype torch.bool instead.\n"
     ]
    },
    {
     "name": "stdout",
     "output_type": "stream",
     "text": [
      "tensor(52.8156, grad_fn=<SumBackward0>)\n",
      "step:32 "
     ]
    },
    {
     "name": "stderr",
     "output_type": "stream",
     "text": [
      "..\\aten\\src\\ATen\\native\\LegacyDefinitions.cpp:67: UserWarning: masked_select received a mask with dtype torch.uint8, this behavior is now deprecated,please use a mask with dtype torch.bool instead.\n"
     ]
    },
    {
     "name": "stdout",
     "output_type": "stream",
     "text": [
      "tensor(50.0120, grad_fn=<SumBackward0>)\n",
      "step:33 "
     ]
    },
    {
     "name": "stderr",
     "output_type": "stream",
     "text": [
      "..\\aten\\src\\ATen\\native\\LegacyDefinitions.cpp:67: UserWarning: masked_select received a mask with dtype torch.uint8, this behavior is now deprecated,please use a mask with dtype torch.bool instead.\n"
     ]
    },
    {
     "name": "stdout",
     "output_type": "stream",
     "text": [
      "tensor(42.0079, grad_fn=<SumBackward0>)\n",
      "step:34 "
     ]
    },
    {
     "name": "stderr",
     "output_type": "stream",
     "text": [
      "..\\aten\\src\\ATen\\native\\LegacyDefinitions.cpp:67: UserWarning: masked_select received a mask with dtype torch.uint8, this behavior is now deprecated,please use a mask with dtype torch.bool instead.\n"
     ]
    },
    {
     "name": "stdout",
     "output_type": "stream",
     "text": [
      "tensor(41.6614, grad_fn=<SumBackward0>)\n",
      "step:35 "
     ]
    },
    {
     "name": "stderr",
     "output_type": "stream",
     "text": [
      "..\\aten\\src\\ATen\\native\\LegacyDefinitions.cpp:67: UserWarning: masked_select received a mask with dtype torch.uint8, this behavior is now deprecated,please use a mask with dtype torch.bool instead.\n"
     ]
    },
    {
     "name": "stdout",
     "output_type": "stream",
     "text": [
      "tensor(41.5702, grad_fn=<SumBackward0>)\n",
      "step:36 "
     ]
    },
    {
     "name": "stderr",
     "output_type": "stream",
     "text": [
      "..\\aten\\src\\ATen\\native\\LegacyDefinitions.cpp:67: UserWarning: masked_select received a mask with dtype torch.uint8, this behavior is now deprecated,please use a mask with dtype torch.bool instead.\n"
     ]
    },
    {
     "name": "stdout",
     "output_type": "stream",
     "text": [
      "tensor(41.7172, grad_fn=<SumBackward0>)\n",
      "step:37 "
     ]
    },
    {
     "name": "stderr",
     "output_type": "stream",
     "text": [
      "..\\aten\\src\\ATen\\native\\LegacyDefinitions.cpp:67: UserWarning: masked_select received a mask with dtype torch.uint8, this behavior is now deprecated,please use a mask with dtype torch.bool instead.\n"
     ]
    },
    {
     "name": "stdout",
     "output_type": "stream",
     "text": [
      "tensor(19.7756, grad_fn=<SumBackward0>)\n",
      "step:38 "
     ]
    },
    {
     "name": "stderr",
     "output_type": "stream",
     "text": [
      "..\\aten\\src\\ATen\\native\\LegacyDefinitions.cpp:67: UserWarning: masked_select received a mask with dtype torch.uint8, this behavior is now deprecated,please use a mask with dtype torch.bool instead.\n"
     ]
    },
    {
     "name": "stdout",
     "output_type": "stream",
     "text": [
      "tensor(25.0531, grad_fn=<SumBackward0>)\n",
      "step:39 "
     ]
    },
    {
     "name": "stderr",
     "output_type": "stream",
     "text": [
      "..\\aten\\src\\ATen\\native\\LegacyDefinitions.cpp:67: UserWarning: masked_select received a mask with dtype torch.uint8, this behavior is now deprecated,please use a mask with dtype torch.bool instead.\n"
     ]
    },
    {
     "name": "stdout",
     "output_type": "stream",
     "text": [
      "tensor(25.0907, grad_fn=<SumBackward0>)\n",
      "step:40 "
     ]
    },
    {
     "name": "stderr",
     "output_type": "stream",
     "text": [
      "..\\aten\\src\\ATen\\native\\LegacyDefinitions.cpp:67: UserWarning: masked_select received a mask with dtype torch.uint8, this behavior is now deprecated,please use a mask with dtype torch.bool instead.\n"
     ]
    },
    {
     "name": "stdout",
     "output_type": "stream",
     "text": [
      "tensor(8.4398, grad_fn=<SumBackward0>)\n",
      "step:41 "
     ]
    },
    {
     "name": "stderr",
     "output_type": "stream",
     "text": [
      "..\\aten\\src\\ATen\\native\\LegacyDefinitions.cpp:67: UserWarning: masked_select received a mask with dtype torch.uint8, this behavior is now deprecated,please use a mask with dtype torch.bool instead.\n"
     ]
    },
    {
     "name": "stdout",
     "output_type": "stream",
     "text": [
      "tensor(8.3844, grad_fn=<SumBackward0>)\n",
      "step:42 "
     ]
    },
    {
     "name": "stderr",
     "output_type": "stream",
     "text": [
      "..\\aten\\src\\ATen\\native\\LegacyDefinitions.cpp:67: UserWarning: masked_select received a mask with dtype torch.uint8, this behavior is now deprecated,please use a mask with dtype torch.bool instead.\n"
     ]
    },
    {
     "name": "stdout",
     "output_type": "stream",
     "text": [
      "tensor(8.3779, grad_fn=<SumBackward0>)\n"
     ]
    },
    {
     "name": "stderr",
     "output_type": "stream",
     "text": [
      "..\\aten\\src\\ATen\\native\\LegacyDefinitions.cpp:54: UserWarning: masked_scatter_ received a mask with dtype torch.uint8, this behavior is now deprecated,please use a mask with dtype torch.bool instead.\n",
      "..\\aten\\src\\ATen\\native\\LegacyDefinitions.cpp:54: UserWarning: masked_scatter_ received a mask with dtype torch.uint8, this behavior is now deprecated,please use a mask with dtype torch.bool instead.\n",
      "..\\aten\\src\\ATen\\native\\LegacyDefinitions.cpp:54: UserWarning: masked_scatter_ received a mask with dtype torch.uint8, this behavior is now deprecated,please use a mask with dtype torch.bool instead.\n",
      "..\\aten\\src\\ATen\\native\\LegacyDefinitions.cpp:54: UserWarning: masked_scatter_ received a mask with dtype torch.uint8, this behavior is now deprecated,please use a mask with dtype torch.bool instead.\n",
      "..\\aten\\src\\ATen\\native\\LegacyDefinitions.cpp:54: UserWarning: masked_scatter_ received a mask with dtype torch.uint8, this behavior is now deprecated,please use a mask with dtype torch.bool instead.\n",
      "..\\aten\\src\\ATen\\native\\LegacyDefinitions.cpp:54: UserWarning: masked_scatter_ received a mask with dtype torch.uint8, this behavior is now deprecated,please use a mask with dtype torch.bool instead.\n",
      "..\\aten\\src\\ATen\\native\\LegacyDefinitions.cpp:54: UserWarning: masked_scatter_ received a mask with dtype torch.uint8, this behavior is now deprecated,please use a mask with dtype torch.bool instead.\n",
      "..\\aten\\src\\ATen\\native\\LegacyDefinitions.cpp:54: UserWarning: masked_scatter_ received a mask with dtype torch.uint8, this behavior is now deprecated,please use a mask with dtype torch.bool instead.\n",
      "..\\aten\\src\\ATen\\native\\LegacyDefinitions.cpp:54: UserWarning: masked_scatter_ received a mask with dtype torch.uint8, this behavior is now deprecated,please use a mask with dtype torch.bool instead.\n",
      "..\\aten\\src\\ATen\\native\\LegacyDefinitions.cpp:54: UserWarning: masked_scatter_ received a mask with dtype torch.uint8, this behavior is now deprecated,please use a mask with dtype torch.bool instead.\n",
      "..\\aten\\src\\ATen\\native\\LegacyDefinitions.cpp:54: UserWarning: masked_scatter_ received a mask with dtype torch.uint8, this behavior is now deprecated,please use a mask with dtype torch.bool instead.\n",
      "..\\aten\\src\\ATen\\native\\LegacyDefinitions.cpp:54: UserWarning: masked_scatter_ received a mask with dtype torch.uint8, this behavior is now deprecated,please use a mask with dtype torch.bool instead.\n",
      "..\\aten\\src\\ATen\\native\\LegacyDefinitions.cpp:54: UserWarning: masked_scatter_ received a mask with dtype torch.uint8, this behavior is now deprecated,please use a mask with dtype torch.bool instead.\n",
      "..\\aten\\src\\ATen\\native\\LegacyDefinitions.cpp:54: UserWarning: masked_scatter_ received a mask with dtype torch.uint8, this behavior is now deprecated,please use a mask with dtype torch.bool instead.\n",
      "..\\aten\\src\\ATen\\native\\LegacyDefinitions.cpp:54: UserWarning: masked_scatter_ received a mask with dtype torch.uint8, this behavior is now deprecated,please use a mask with dtype torch.bool instead.\n",
      "..\\aten\\src\\ATen\\native\\LegacyDefinitions.cpp:54: UserWarning: masked_scatter_ received a mask with dtype torch.uint8, this behavior is now deprecated,please use a mask with dtype torch.bool instead.\n",
      "..\\aten\\src\\ATen\\native\\LegacyDefinitions.cpp:54: UserWarning: masked_scatter_ received a mask with dtype torch.uint8, this behavior is now deprecated,please use a mask with dtype torch.bool instead.\n",
      "..\\aten\\src\\ATen\\native\\LegacyDefinitions.cpp:54: UserWarning: masked_scatter_ received a mask with dtype torch.uint8, this behavior is now deprecated,please use a mask with dtype torch.bool instead.\n",
      "..\\aten\\src\\ATen\\native\\LegacyDefinitions.cpp:54: UserWarning: masked_scatter_ received a mask with dtype torch.uint8, this behavior is now deprecated,please use a mask with dtype torch.bool instead.\n",
      "..\\aten\\src\\ATen\\native\\LegacyDefinitions.cpp:54: UserWarning: masked_scatter_ received a mask with dtype torch.uint8, this behavior is now deprecated,please use a mask with dtype torch.bool instead.\n",
      "..\\aten\\src\\ATen\\native\\LegacyDefinitions.cpp:54: UserWarning: masked_scatter_ received a mask with dtype torch.uint8, this behavior is now deprecated,please use a mask with dtype torch.bool instead.\n",
      "..\\aten\\src\\ATen\\native\\LegacyDefinitions.cpp:54: UserWarning: masked_scatter_ received a mask with dtype torch.uint8, this behavior is now deprecated,please use a mask with dtype torch.bool instead.\n",
      "..\\aten\\src\\ATen\\native\\LegacyDefinitions.cpp:54: UserWarning: masked_scatter_ received a mask with dtype torch.uint8, this behavior is now deprecated,please use a mask with dtype torch.bool instead.\n",
      "..\\aten\\src\\ATen\\native\\LegacyDefinitions.cpp:54: UserWarning: masked_scatter_ received a mask with dtype torch.uint8, this behavior is now deprecated,please use a mask with dtype torch.bool instead.\n",
      "..\\aten\\src\\ATen\\native\\LegacyDefinitions.cpp:54: UserWarning: masked_scatter_ received a mask with dtype torch.uint8, this behavior is now deprecated,please use a mask with dtype torch.bool instead.\n",
      "..\\aten\\src\\ATen\\native\\LegacyDefinitions.cpp:54: UserWarning: masked_scatter_ received a mask with dtype torch.uint8, this behavior is now deprecated,please use a mask with dtype torch.bool instead.\n",
      "..\\aten\\src\\ATen\\native\\LegacyDefinitions.cpp:54: UserWarning: masked_scatter_ received a mask with dtype torch.uint8, this behavior is now deprecated,please use a mask with dtype torch.bool instead.\n",
      "..\\aten\\src\\ATen\\native\\LegacyDefinitions.cpp:54: UserWarning: masked_scatter_ received a mask with dtype torch.uint8, this behavior is now deprecated,please use a mask with dtype torch.bool instead.\n",
      "..\\aten\\src\\ATen\\native\\LegacyDefinitions.cpp:54: UserWarning: masked_scatter_ received a mask with dtype torch.uint8, this behavior is now deprecated,please use a mask with dtype torch.bool instead.\n",
      "..\\aten\\src\\ATen\\native\\LegacyDefinitions.cpp:54: UserWarning: masked_scatter_ received a mask with dtype torch.uint8, this behavior is now deprecated,please use a mask with dtype torch.bool instead.\n",
      "..\\aten\\src\\ATen\\native\\LegacyDefinitions.cpp:54: UserWarning: masked_scatter_ received a mask with dtype torch.uint8, this behavior is now deprecated,please use a mask with dtype torch.bool instead.\n",
      "..\\aten\\src\\ATen\\native\\LegacyDefinitions.cpp:54: UserWarning: masked_scatter_ received a mask with dtype torch.uint8, this behavior is now deprecated,please use a mask with dtype torch.bool instead.\n",
      "..\\aten\\src\\ATen\\native\\LegacyDefinitions.cpp:54: UserWarning: masked_scatter_ received a mask with dtype torch.uint8, this behavior is now deprecated,please use a mask with dtype torch.bool instead.\n",
      "..\\aten\\src\\ATen\\native\\LegacyDefinitions.cpp:54: UserWarning: masked_scatter_ received a mask with dtype torch.uint8, this behavior is now deprecated,please use a mask with dtype torch.bool instead.\n",
      "..\\aten\\src\\ATen\\native\\LegacyDefinitions.cpp:54: UserWarning: masked_scatter_ received a mask with dtype torch.uint8, this behavior is now deprecated,please use a mask with dtype torch.bool instead.\n",
      "..\\aten\\src\\ATen\\native\\LegacyDefinitions.cpp:54: UserWarning: masked_scatter_ received a mask with dtype torch.uint8, this behavior is now deprecated,please use a mask with dtype torch.bool instead.\n",
      "..\\aten\\src\\ATen\\native\\LegacyDefinitions.cpp:54: UserWarning: masked_scatter_ received a mask with dtype torch.uint8, this behavior is now deprecated,please use a mask with dtype torch.bool instead.\n",
      "..\\aten\\src\\ATen\\native\\LegacyDefinitions.cpp:54: UserWarning: masked_scatter_ received a mask with dtype torch.uint8, this behavior is now deprecated,please use a mask with dtype torch.bool instead.\n",
      "..\\aten\\src\\ATen\\native\\LegacyDefinitions.cpp:54: UserWarning: masked_scatter_ received a mask with dtype torch.uint8, this behavior is now deprecated,please use a mask with dtype torch.bool instead.\n",
      "..\\aten\\src\\ATen\\native\\LegacyDefinitions.cpp:54: UserWarning: masked_scatter_ received a mask with dtype torch.uint8, this behavior is now deprecated,please use a mask with dtype torch.bool instead.\n",
      "..\\aten\\src\\ATen\\native\\LegacyDefinitions.cpp:54: UserWarning: masked_scatter_ received a mask with dtype torch.uint8, this behavior is now deprecated,please use a mask with dtype torch.bool instead.\n"
     ]
    },
    {
     "name": "stderr",
     "output_type": "stream",
     "text": [
      "..\\aten\\src\\ATen\\native\\LegacyDefinitions.cpp:54: UserWarning: masked_scatter_ received a mask with dtype torch.uint8, this behavior is now deprecated,please use a mask with dtype torch.bool instead.\n",
      "..\\aten\\src\\ATen\\native\\LegacyDefinitions.cpp:54: UserWarning: masked_scatter_ received a mask with dtype torch.uint8, this behavior is now deprecated,please use a mask with dtype torch.bool instead.\n"
     ]
    },
    {
     "name": "stdout",
     "output_type": "stream",
     "text": [
      "the 0 th epoch:loss 7.6957\n",
      "-------------------data loaded-------------------\n",
      "tensor([[   3,    3,    3,    3,    3,    3,    3,    3,    3,    3,    3,    3,\n",
      "            3,    3,    3,    3],\n",
      "        [   4,    4,    4,    4,    4,    4,    4,    4,    4,    4,    4,    4,\n",
      "            4,    4,    4,    4],\n",
      "        [  44,   45,    5,    5,   93,    5,    5,    5,   93,   45,    5,    7,\n",
      "            7,    5,   93,    5],\n",
      "        [  68,    5,    6,    8,   92,    6,    8,    6,   44,    5,    8,   11,\n",
      "           11,    8,   45,   68],\n",
      "        [  47,    6,    9,   45,   11,    9,   55,    9,    6,    6,   44,   10,\n",
      "            5,   44,   11,    7],\n",
      "        [  11,   13,    6,    3,  681,    8,   68,    8,  464,   13,   68,   68,\n",
      "            6,   68,    5,   29],\n",
      "        [   5,    5, 1465,    4,   29,   94,   10,   82,   95,    5,   93,    7,\n",
      "           10,   55,    6,   55],\n",
      "        [   6,    8,    8,    9,    5,    3,    3,    3,   11,    8,    7,    8,\n",
      "           11,    6,   10,    8],\n",
      "        [ 151,  460,  460,    8,   95,    4,    4,    4,    5,  460,   11,    5,\n",
      "            9,   10,   11,  142],\n",
      "        [   8,    2,    3,   92,   68,   93,    9,  151,    8,    2,   93,    3,\n",
      "            8,   68,  151,    2],\n",
      "        [  10,    0,    4,   11,   93,    5,    8,   11,    9,    0,   29,    4,\n",
      "          115,    7,   95,    0],\n",
      "        [  68,    0,    9,    5,   92,   59,   13,    5,    3,    0,   10,   45,\n",
      "            3,    6,   68,    0],\n",
      "        [   7,    0,    8,    6,   29,   10,   68,    8,    4,    0,   95,   11,\n",
      "            4,   13,   47,    0],\n",
      "        [  11,    0,    7,   94,    5,    6,   10,   13,   93,    0,   29,   10,\n",
      "           10,   68,    8,    0],\n",
      "        [   5,    0,   11,   11,   95,    9,    2,   11,   44,    0,   10,   68,\n",
      "           11,  142,   13,    0],\n",
      "        [   2,    0,    5,  136,    8,   59,    0,    9,    6,    0,   95,    7,\n",
      "            5,    2,    2,    0],\n",
      "        [   0,    0,    6,    6,  682,   10,    0,    2,  638,    0,    2,    8,\n",
      "            6,    0,    0,    0],\n",
      "        [   0,    0,   13,  168,    2,   95,    0,    0,   95,    0,    0,    9,\n",
      "            7,    0,    0,    0],\n",
      "        [   0,    0,    2,    3,    0,    6,    0,    0,   11,    0,    0,    2,\n",
      "           11,    0,    0,    0],\n",
      "        [   0,    0,    0,    4,    0,   93,    0,    0,    9,    0,    0,    0,\n",
      "            9,    0,    0,    0],\n",
      "        [   0,    0,    0,  168,    0,    5,    0,    0,    8,    0,    0,    0,\n",
      "            8,    0,    0,    0],\n",
      "        [   0,    0,    0,    8,    0,   29,    0,    0,  136,    0,    0,    0,\n",
      "           34,    0,    0,    0],\n",
      "        [   0,    0,    0,  136,    0,    9,    0,    0,    3,    0,    0,    0,\n",
      "            3,    0,    0,    0],\n",
      "        [   0,    0,    0,    6,    0,   95,    0,    0,    4,    0,    0,    0,\n",
      "            4,    0,    0,    0],\n",
      "        [   0,    0,    0,    7,    0,   59,    0,    0,    5,    0,    0,    0,\n",
      "          136,    0,    0,    0],\n",
      "        [   0,    0,    0,    3,    0,   10,    0,    0,    6,    0,    0,    0,\n",
      "            8,    0,    0,    0],\n",
      "        [   0,    0,    0,    4,    0,    8,    0,    0,    9,    0,    0,    0,\n",
      "            5,    0,    0,    0],\n",
      "        [   0,    0,    0,    5,    0,  114,    0,    0,    6,    0,    0,    0,\n",
      "            6,    0,    0,    0],\n",
      "        [   0,    0,    0,    6,    0,    2,    0,    0,  136,    0,    0,    0,\n",
      "            9,    0,    0,    0],\n",
      "        [   0,    0,    0,  136,    0,    0,    0,    0,    8,    0,    0,    0,\n",
      "            2,    0,    0,    0],\n",
      "        [   0,    0,    0,    6,    0,    0,    0,    0, 1636,    0,    0,    0,\n",
      "            0,    0,    0,    0],\n",
      "        [   0,    0,    0,  168,    0,    0,    0,    0,    2,    0,    0,    0,\n",
      "            0,    0,    0,    0],\n",
      "        [   0,    0,    0,    8,    0,    0,    0,    0,    0,    0,    0,    0,\n",
      "            0,    0,    0,    0],\n",
      "        [   0,    0,    0,  188,    0,    0,    0,    0,    0,    0,    0,    0,\n",
      "            0,    0,    0,    0],\n",
      "        [   0,    0,    0,    2,    0,    0,    0,    0,    0,    0,    0,    0,\n",
      "            0,    0,    0,    0]]) tensor([16., 10., 19., 35., 18., 29., 15., 17., 32., 10., 17., 19., 30., 16.,\n",
      "        16., 10.])\n",
      "torch.Size([35, 16, 256]) torch.Size([16])\n",
      "42\n",
      "step:0 "
     ]
    },
    {
     "name": "stderr",
     "output_type": "stream",
     "text": [
      "..\\aten\\src\\ATen\\native\\LegacyDefinitions.cpp:67: UserWarning: masked_select received a mask with dtype torch.uint8, this behavior is now deprecated,please use a mask with dtype torch.bool instead.\n"
     ]
    },
    {
     "name": "stdout",
     "output_type": "stream",
     "text": [
      "tensor(127.7792, grad_fn=<SumBackward0>)\n",
      "step:1 "
     ]
    },
    {
     "name": "stderr",
     "output_type": "stream",
     "text": [
      "..\\aten\\src\\ATen\\native\\LegacyDefinitions.cpp:67: UserWarning: masked_select received a mask with dtype torch.uint8, this behavior is now deprecated,please use a mask with dtype torch.bool instead.\n"
     ]
    },
    {
     "name": "stdout",
     "output_type": "stream",
     "text": [
      "tensor(121.2654, grad_fn=<SumBackward0>)\n",
      "step:2 "
     ]
    },
    {
     "name": "stderr",
     "output_type": "stream",
     "text": [
      "..\\aten\\src\\ATen\\native\\LegacyDefinitions.cpp:67: UserWarning: masked_select received a mask with dtype torch.uint8, this behavior is now deprecated,please use a mask with dtype torch.bool instead.\n"
     ]
    },
    {
     "name": "stdout",
     "output_type": "stream",
     "text": [
      "tensor(120.1672, grad_fn=<SumBackward0>)\n",
      "step:3 "
     ]
    },
    {
     "name": "stderr",
     "output_type": "stream",
     "text": [
      "..\\aten\\src\\ATen\\native\\LegacyDefinitions.cpp:67: UserWarning: masked_select received a mask with dtype torch.uint8, this behavior is now deprecated,please use a mask with dtype torch.bool instead.\n"
     ]
    },
    {
     "name": "stdout",
     "output_type": "stream",
     "text": [
      "tensor(124.5378, grad_fn=<SumBackward0>)\n",
      "step:4 "
     ]
    },
    {
     "name": "stderr",
     "output_type": "stream",
     "text": [
      "..\\aten\\src\\ATen\\native\\LegacyDefinitions.cpp:67: UserWarning: masked_select received a mask with dtype torch.uint8, this behavior is now deprecated,please use a mask with dtype torch.bool instead.\n"
     ]
    },
    {
     "name": "stdout",
     "output_type": "stream",
     "text": [
      "tensor(120.2513, grad_fn=<SumBackward0>)\n",
      "step:5 "
     ]
    },
    {
     "name": "stderr",
     "output_type": "stream",
     "text": [
      "..\\aten\\src\\ATen\\native\\LegacyDefinitions.cpp:67: UserWarning: masked_select received a mask with dtype torch.uint8, this behavior is now deprecated,please use a mask with dtype torch.bool instead.\n"
     ]
    },
    {
     "name": "stdout",
     "output_type": "stream",
     "text": [
      "tensor(123.8974, grad_fn=<SumBackward0>)\n",
      "step:6 "
     ]
    },
    {
     "name": "stderr",
     "output_type": "stream",
     "text": [
      "..\\aten\\src\\ATen\\native\\LegacyDefinitions.cpp:67: UserWarning: masked_select received a mask with dtype torch.uint8, this behavior is now deprecated,please use a mask with dtype torch.bool instead.\n"
     ]
    },
    {
     "name": "stdout",
     "output_type": "stream",
     "text": [
      "tensor(120.0471, grad_fn=<SumBackward0>)\n",
      "step:7 "
     ]
    },
    {
     "name": "stderr",
     "output_type": "stream",
     "text": [
      "..\\aten\\src\\ATen\\native\\LegacyDefinitions.cpp:67: UserWarning: masked_select received a mask with dtype torch.uint8, this behavior is now deprecated,please use a mask with dtype torch.bool instead.\n"
     ]
    },
    {
     "name": "stdout",
     "output_type": "stream",
     "text": [
      "tensor(109.9260, grad_fn=<SumBackward0>)\n",
      "step:8 "
     ]
    },
    {
     "name": "stderr",
     "output_type": "stream",
     "text": [
      "..\\aten\\src\\ATen\\native\\LegacyDefinitions.cpp:67: UserWarning: masked_select received a mask with dtype torch.uint8, this behavior is now deprecated,please use a mask with dtype torch.bool instead.\n"
     ]
    },
    {
     "name": "stdout",
     "output_type": "stream",
     "text": [
      "tensor(118.2563, grad_fn=<SumBackward0>)\n",
      "step:9 "
     ]
    },
    {
     "name": "stderr",
     "output_type": "stream",
     "text": [
      "..\\aten\\src\\ATen\\native\\LegacyDefinitions.cpp:67: UserWarning: masked_select received a mask with dtype torch.uint8, this behavior is now deprecated,please use a mask with dtype torch.bool instead.\n"
     ]
    },
    {
     "name": "stdout",
     "output_type": "stream",
     "text": [
      "tensor(122.9270, grad_fn=<SumBackward0>)\n",
      "step:10 "
     ]
    },
    {
     "name": "stderr",
     "output_type": "stream",
     "text": [
      "..\\aten\\src\\ATen\\native\\LegacyDefinitions.cpp:67: UserWarning: masked_select received a mask with dtype torch.uint8, this behavior is now deprecated,please use a mask with dtype torch.bool instead.\n"
     ]
    },
    {
     "name": "stdout",
     "output_type": "stream",
     "text": [
      "tensor(122.3843, grad_fn=<SumBackward0>)\n",
      "step:11 "
     ]
    },
    {
     "name": "stderr",
     "output_type": "stream",
     "text": [
      "..\\aten\\src\\ATen\\native\\LegacyDefinitions.cpp:67: UserWarning: masked_select received a mask with dtype torch.uint8, this behavior is now deprecated,please use a mask with dtype torch.bool instead.\n"
     ]
    },
    {
     "name": "stdout",
     "output_type": "stream",
     "text": [
      "tensor(119.1289, grad_fn=<SumBackward0>)\n",
      "step:12 "
     ]
    },
    {
     "name": "stderr",
     "output_type": "stream",
     "text": [
      "..\\aten\\src\\ATen\\native\\LegacyDefinitions.cpp:67: UserWarning: masked_select received a mask with dtype torch.uint8, this behavior is now deprecated,please use a mask with dtype torch.bool instead.\n"
     ]
    },
    {
     "name": "stdout",
     "output_type": "stream",
     "text": [
      "tensor(126.3555, grad_fn=<SumBackward0>)\n",
      "step:13 "
     ]
    },
    {
     "name": "stderr",
     "output_type": "stream",
     "text": [
      "..\\aten\\src\\ATen\\native\\LegacyDefinitions.cpp:67: UserWarning: masked_select received a mask with dtype torch.uint8, this behavior is now deprecated,please use a mask with dtype torch.bool instead.\n"
     ]
    },
    {
     "name": "stdout",
     "output_type": "stream",
     "text": [
      "tensor(118.3160, grad_fn=<SumBackward0>)\n",
      "step:14 "
     ]
    },
    {
     "name": "stderr",
     "output_type": "stream",
     "text": [
      "..\\aten\\src\\ATen\\native\\LegacyDefinitions.cpp:67: UserWarning: masked_select received a mask with dtype torch.uint8, this behavior is now deprecated,please use a mask with dtype torch.bool instead.\n"
     ]
    },
    {
     "name": "stdout",
     "output_type": "stream",
     "text": [
      "tensor(126.3049, grad_fn=<SumBackward0>)\n",
      "step:15 "
     ]
    },
    {
     "name": "stderr",
     "output_type": "stream",
     "text": [
      "..\\aten\\src\\ATen\\native\\LegacyDefinitions.cpp:67: UserWarning: masked_select received a mask with dtype torch.uint8, this behavior is now deprecated,please use a mask with dtype torch.bool instead.\n"
     ]
    },
    {
     "name": "stdout",
     "output_type": "stream",
     "text": [
      "tensor(106.6123, grad_fn=<SumBackward0>)\n",
      "step:16 "
     ]
    },
    {
     "name": "stderr",
     "output_type": "stream",
     "text": [
      "..\\aten\\src\\ATen\\native\\LegacyDefinitions.cpp:67: UserWarning: masked_select received a mask with dtype torch.uint8, this behavior is now deprecated,please use a mask with dtype torch.bool instead.\n"
     ]
    },
    {
     "name": "stdout",
     "output_type": "stream",
     "text": [
      "tensor(105.9832, grad_fn=<SumBackward0>)\n",
      "step:17 "
     ]
    },
    {
     "name": "stderr",
     "output_type": "stream",
     "text": [
      "..\\aten\\src\\ATen\\native\\LegacyDefinitions.cpp:67: UserWarning: masked_select received a mask with dtype torch.uint8, this behavior is now deprecated,please use a mask with dtype torch.bool instead.\n"
     ]
    },
    {
     "name": "stdout",
     "output_type": "stream",
     "text": [
      "tensor(110.4325, grad_fn=<SumBackward0>)\n",
      "step:18 "
     ]
    },
    {
     "name": "stderr",
     "output_type": "stream",
     "text": [
      "..\\aten\\src\\ATen\\native\\LegacyDefinitions.cpp:67: UserWarning: masked_select received a mask with dtype torch.uint8, this behavior is now deprecated,please use a mask with dtype torch.bool instead.\n"
     ]
    },
    {
     "name": "stdout",
     "output_type": "stream",
     "text": [
      "tensor(99.6744, grad_fn=<SumBackward0>)\n",
      "step:19 "
     ]
    },
    {
     "name": "stderr",
     "output_type": "stream",
     "text": [
      "..\\aten\\src\\ATen\\native\\LegacyDefinitions.cpp:67: UserWarning: masked_select received a mask with dtype torch.uint8, this behavior is now deprecated,please use a mask with dtype torch.bool instead.\n"
     ]
    },
    {
     "name": "stdout",
     "output_type": "stream",
     "text": [
      "tensor(102.0410, grad_fn=<SumBackward0>)\n",
      "step:20 "
     ]
    },
    {
     "name": "stderr",
     "output_type": "stream",
     "text": [
      "..\\aten\\src\\ATen\\native\\LegacyDefinitions.cpp:67: UserWarning: masked_select received a mask with dtype torch.uint8, this behavior is now deprecated,please use a mask with dtype torch.bool instead.\n"
     ]
    },
    {
     "name": "stdout",
     "output_type": "stream",
     "text": [
      "tensor(101.9817, grad_fn=<SumBackward0>)\n",
      "step:21 "
     ]
    },
    {
     "name": "stderr",
     "output_type": "stream",
     "text": [
      "..\\aten\\src\\ATen\\native\\LegacyDefinitions.cpp:67: UserWarning: masked_select received a mask with dtype torch.uint8, this behavior is now deprecated,please use a mask with dtype torch.bool instead.\n"
     ]
    },
    {
     "name": "stdout",
     "output_type": "stream",
     "text": [
      "tensor(86.8868, grad_fn=<SumBackward0>)\n",
      "step:22 "
     ]
    },
    {
     "name": "stderr",
     "output_type": "stream",
     "text": [
      "..\\aten\\src\\ATen\\native\\LegacyDefinitions.cpp:67: UserWarning: masked_select received a mask with dtype torch.uint8, this behavior is now deprecated,please use a mask with dtype torch.bool instead.\n"
     ]
    },
    {
     "name": "stdout",
     "output_type": "stream",
     "text": [
      "tensor(82.8640, grad_fn=<SumBackward0>)\n",
      "step:23 "
     ]
    },
    {
     "name": "stderr",
     "output_type": "stream",
     "text": [
      "..\\aten\\src\\ATen\\native\\LegacyDefinitions.cpp:67: UserWarning: masked_select received a mask with dtype torch.uint8, this behavior is now deprecated,please use a mask with dtype torch.bool instead.\n"
     ]
    },
    {
     "name": "stdout",
     "output_type": "stream",
     "text": [
      "tensor(88.0327, grad_fn=<SumBackward0>)\n",
      "step:24 "
     ]
    },
    {
     "name": "stderr",
     "output_type": "stream",
     "text": [
      "..\\aten\\src\\ATen\\native\\LegacyDefinitions.cpp:67: UserWarning: masked_select received a mask with dtype torch.uint8, this behavior is now deprecated,please use a mask with dtype torch.bool instead.\n"
     ]
    },
    {
     "name": "stdout",
     "output_type": "stream",
     "text": [
      "tensor(86.8882, grad_fn=<SumBackward0>)\n",
      "step:25 "
     ]
    },
    {
     "name": "stderr",
     "output_type": "stream",
     "text": [
      "..\\aten\\src\\ATen\\native\\LegacyDefinitions.cpp:67: UserWarning: masked_select received a mask with dtype torch.uint8, this behavior is now deprecated,please use a mask with dtype torch.bool instead.\n"
     ]
    },
    {
     "name": "stdout",
     "output_type": "stream",
     "text": [
      "tensor(87.0564, grad_fn=<SumBackward0>)\n",
      "step:26 "
     ]
    },
    {
     "name": "stderr",
     "output_type": "stream",
     "text": [
      "..\\aten\\src\\ATen\\native\\LegacyDefinitions.cpp:67: UserWarning: masked_select received a mask with dtype torch.uint8, this behavior is now deprecated,please use a mask with dtype torch.bool instead.\n"
     ]
    },
    {
     "name": "stdout",
     "output_type": "stream",
     "text": [
      "tensor(86.8380, grad_fn=<SumBackward0>)\n",
      "step:27 "
     ]
    },
    {
     "name": "stderr",
     "output_type": "stream",
     "text": [
      "..\\aten\\src\\ATen\\native\\LegacyDefinitions.cpp:67: UserWarning: masked_select received a mask with dtype torch.uint8, this behavior is now deprecated,please use a mask with dtype torch.bool instead.\n"
     ]
    },
    {
     "name": "stdout",
     "output_type": "stream",
     "text": [
      "tensor(70.9561, grad_fn=<SumBackward0>)\n",
      "step:28 "
     ]
    },
    {
     "name": "stderr",
     "output_type": "stream",
     "text": [
      "..\\aten\\src\\ATen\\native\\LegacyDefinitions.cpp:67: UserWarning: masked_select received a mask with dtype torch.uint8, this behavior is now deprecated,please use a mask with dtype torch.bool instead.\n"
     ]
    },
    {
     "name": "stdout",
     "output_type": "stream",
     "text": [
      "tensor(63.8455, grad_fn=<SumBackward0>)\n",
      "step:29 "
     ]
    },
    {
     "name": "stderr",
     "output_type": "stream",
     "text": [
      "..\\aten\\src\\ATen\\native\\LegacyDefinitions.cpp:67: UserWarning: masked_select received a mask with dtype torch.uint8, this behavior is now deprecated,please use a mask with dtype torch.bool instead.\n"
     ]
    },
    {
     "name": "stdout",
     "output_type": "stream",
     "text": [
      "tensor(55.9719, grad_fn=<SumBackward0>)\n",
      "step:30 "
     ]
    },
    {
     "name": "stderr",
     "output_type": "stream",
     "text": [
      "..\\aten\\src\\ATen\\native\\LegacyDefinitions.cpp:67: UserWarning: masked_select received a mask with dtype torch.uint8, this behavior is now deprecated,please use a mask with dtype torch.bool instead.\n"
     ]
    },
    {
     "name": "stdout",
     "output_type": "stream",
     "text": [
      "tensor(55.3368, grad_fn=<SumBackward0>)\n",
      "step:31 "
     ]
    },
    {
     "name": "stderr",
     "output_type": "stream",
     "text": [
      "..\\aten\\src\\ATen\\native\\LegacyDefinitions.cpp:67: UserWarning: masked_select received a mask with dtype torch.uint8, this behavior is now deprecated,please use a mask with dtype torch.bool instead.\n"
     ]
    },
    {
     "name": "stdout",
     "output_type": "stream",
     "text": [
      "tensor(56.5832, grad_fn=<SumBackward0>)\n",
      "step:32 "
     ]
    },
    {
     "name": "stderr",
     "output_type": "stream",
     "text": [
      "..\\aten\\src\\ATen\\native\\LegacyDefinitions.cpp:67: UserWarning: masked_select received a mask with dtype torch.uint8, this behavior is now deprecated,please use a mask with dtype torch.bool instead.\n"
     ]
    },
    {
     "name": "stdout",
     "output_type": "stream",
     "text": [
      "tensor(55.3054, grad_fn=<SumBackward0>)\n",
      "step:33 "
     ]
    },
    {
     "name": "stderr",
     "output_type": "stream",
     "text": [
      "..\\aten\\src\\ATen\\native\\LegacyDefinitions.cpp:67: UserWarning: masked_select received a mask with dtype torch.uint8, this behavior is now deprecated,please use a mask with dtype torch.bool instead.\n"
     ]
    },
    {
     "name": "stdout",
     "output_type": "stream",
     "text": [
      "tensor(55.6105, grad_fn=<SumBackward0>)\n",
      "step:34 "
     ]
    },
    {
     "name": "stderr",
     "output_type": "stream",
     "text": [
      "..\\aten\\src\\ATen\\native\\LegacyDefinitions.cpp:67: UserWarning: masked_select received a mask with dtype torch.uint8, this behavior is now deprecated,please use a mask with dtype torch.bool instead.\n"
     ]
    },
    {
     "name": "stdout",
     "output_type": "stream",
     "text": [
      "tensor(39.8707, grad_fn=<SumBackward0>)\n",
      "step:35 "
     ]
    },
    {
     "name": "stderr",
     "output_type": "stream",
     "text": [
      "..\\aten\\src\\ATen\\native\\LegacyDefinitions.cpp:67: UserWarning: masked_select received a mask with dtype torch.uint8, this behavior is now deprecated,please use a mask with dtype torch.bool instead.\n"
     ]
    },
    {
     "name": "stdout",
     "output_type": "stream",
     "text": [
      "tensor(39.8123, grad_fn=<SumBackward0>)\n",
      "step:36 "
     ]
    },
    {
     "name": "stderr",
     "output_type": "stream",
     "text": [
      "..\\aten\\src\\ATen\\native\\LegacyDefinitions.cpp:67: UserWarning: masked_select received a mask with dtype torch.uint8, this behavior is now deprecated,please use a mask with dtype torch.bool instead.\n"
     ]
    },
    {
     "name": "stdout",
     "output_type": "stream",
     "text": [
      "tensor(39.6720, grad_fn=<SumBackward0>)\n",
      "step:37 "
     ]
    },
    {
     "name": "stderr",
     "output_type": "stream",
     "text": [
      "..\\aten\\src\\ATen\\native\\LegacyDefinitions.cpp:67: UserWarning: masked_select received a mask with dtype torch.uint8, this behavior is now deprecated,please use a mask with dtype torch.bool instead.\n"
     ]
    },
    {
     "name": "stdout",
     "output_type": "stream",
     "text": [
      "tensor(23.4705, grad_fn=<SumBackward0>)\n",
      "step:38 "
     ]
    },
    {
     "name": "stderr",
     "output_type": "stream",
     "text": [
      "..\\aten\\src\\ATen\\native\\LegacyDefinitions.cpp:67: UserWarning: masked_select received a mask with dtype torch.uint8, this behavior is now deprecated,please use a mask with dtype torch.bool instead.\n"
     ]
    },
    {
     "name": "stdout",
     "output_type": "stream",
     "text": [
      "tensor(23.8014, grad_fn=<SumBackward0>)\n",
      "step:39 "
     ]
    },
    {
     "name": "stderr",
     "output_type": "stream",
     "text": [
      "..\\aten\\src\\ATen\\native\\LegacyDefinitions.cpp:67: UserWarning: masked_select received a mask with dtype torch.uint8, this behavior is now deprecated,please use a mask with dtype torch.bool instead.\n"
     ]
    },
    {
     "name": "stdout",
     "output_type": "stream",
     "text": [
      "tensor(8.1278, grad_fn=<SumBackward0>)\n",
      "step:40 "
     ]
    },
    {
     "name": "stderr",
     "output_type": "stream",
     "text": [
      "..\\aten\\src\\ATen\\native\\LegacyDefinitions.cpp:67: UserWarning: masked_select received a mask with dtype torch.uint8, this behavior is now deprecated,please use a mask with dtype torch.bool instead.\n"
     ]
    },
    {
     "name": "stdout",
     "output_type": "stream",
     "text": [
      "tensor(7.8721, grad_fn=<SumBackward0>)\n",
      "step:41 "
     ]
    },
    {
     "name": "stderr",
     "output_type": "stream",
     "text": [
      "..\\aten\\src\\ATen\\native\\LegacyDefinitions.cpp:67: UserWarning: masked_select received a mask with dtype torch.uint8, this behavior is now deprecated,please use a mask with dtype torch.bool instead.\n"
     ]
    },
    {
     "name": "stdout",
     "output_type": "stream",
     "text": [
      "tensor(7.9188, grad_fn=<SumBackward0>)\n"
     ]
    }
   ],
   "source": [
    "import json\n",
    "import torch as tc\n",
    "from gensim.test.utils import datapath, get_tmpfile\n",
    "from gensim.models import KeyedVectors\n",
    "from itertools import zip_longest\n",
    "import random\n",
    "from torch import nn\n",
    "import torch.nn.functional as F\n",
    "import torch.optim as optim\n",
    "\n",
    "jspath=\"./genrate_math/data/dev_cleaned.json\"\n",
    "#glove_file = datapath('./glove.6B.100d.txt')\n",
    "tmp_file = get_tmpfile(\"./test_word2vec.txt\")\n",
    "\n",
    "'''\n",
    "from gensim.scripts.glove2word2vec import glove2word2vec\n",
    "glove2word2vec(glove_file, tmp_file)\n",
    "\n",
    "\n",
    "model = KeyedVectors.load_word2vec_format(tmp_file)\n",
    "\n",
    "print(model['cat'])\n",
    "'''\n",
    "PAD_token = 0  # Used for padding short sentences\n",
    "SOS_token = 1  # Start-of-sentence token\n",
    "EOS_token = 2  # End-of-sentence token\n",
    "\n",
    "def lam(x):\n",
    "    return len(x[1].split())>=14  and len(x[1].split())<=45\n",
    "class VOC:\n",
    "    def __init__(self,name):\n",
    "        self.name = name\n",
    "        self.trimmed = False\n",
    "        \n",
    "        file = open(name, \"rb\")\n",
    "        self.filejson=json.load(file)\n",
    "        print(self.filejson[0])\n",
    "        \n",
    "        self.pair=[[obj['equations'].lower(),obj['text'].lower()] for obj in self.filejson]\n",
    "        self.textlen=[len(obj['text'].strip().split()) for obj in self.filejson]\n",
    "        self.textlen.sort()\n",
    "        \n",
    "        print(self.textlen[len(self.textlen)//10])\n",
    "        print(self.textlen[len(self.textlen)*7//10])\n",
    "        \n",
    "        self.pair=list(filter(lambda x: lam(x), self.pair))\n",
    "        \n",
    "        self.word2index = {}\n",
    "        self.word2count = {}\n",
    "        self.index2word = {PAD_token: \"PAD\", SOS_token: \"SOS\", EOS_token: \"EOS\"}\n",
    "        self.num_words = 3  # Count SOS, EOS, PAD\n",
    "        \n",
    "        for p in self.pair:\n",
    "            self.addsentence(p[0])\n",
    "            self.addsentence(p[1])\n",
    "            \n",
    "        #print(self.pair)\n",
    "            \n",
    "        \n",
    "        \n",
    "     \n",
    "    def addsentence(self,sen):\n",
    "        for word in sen.strip().split():\n",
    "            self.addWord(word)\n",
    "    def addWord(self, word):\n",
    "        if word not in self.word2index.keys():\n",
    "            self.word2index[word] = self.num_words\n",
    "            self.word2count[word] = 1\n",
    "            self.index2word[self.num_words] = word\n",
    "            self.num_words += 1\n",
    "        else:\n",
    "            self.word2count[word] += 1\n",
    "            \n",
    "            \n",
    "    def trim(self, min_count):\n",
    "        keepwords=[]\n",
    "        \n",
    "        for k,v in self.word2count.items():\n",
    "            if v>=min_count:\n",
    "                keepwords.append(k)\n",
    "                \n",
    "        #print(keepwords)\n",
    "                \n",
    "        self.word2index = {}\n",
    "        self.word2count = {}\n",
    "        self.index2word = {PAD_token: \"PAD\", SOS_token: \"SOS\", EOS_token: \"EOS\"}\n",
    "        self.num_words = 3 # Count default tokens\n",
    "        \n",
    "        for word in keepwords:\n",
    "            self.addWord(word)\n",
    "            \n",
    "    \n",
    "    def getrid(self):\n",
    "        \n",
    "        keep_pair=[]\n",
    "        #print(self.word2count)\n",
    "        #print(self.pair)\n",
    "        for p in self.pair:\n",
    "            inputsen=p[0]\n",
    "            outsen=p[1]\n",
    "            \n",
    "            keepin=True\n",
    "            keepout=True\n",
    "            \n",
    "            for word in inputsen.split(' '):\n",
    "\n",
    "                if word not in self.word2count:\n",
    "                    keepin=False\n",
    "                    break\n",
    "            \n",
    "                    \n",
    "            count=0      \n",
    "            for word in outsen.split(' '):\n",
    "                if  word not in self.word2count:\n",
    "                    count+=1\n",
    "                    keepout=False\n",
    "                    break\n",
    "                \n",
    "            #print(count)  \n",
    "            \n",
    "            if keepin and keepout:\n",
    "                keep_pair.append(p)\n",
    "                \n",
    "        return keep_pair\n",
    "    \n",
    "    \n",
    "    \n",
    "            \n",
    "            \n",
    "        \n",
    "        \n",
    "        \n",
    "        \n",
    "        \n",
    "def getindex(voc,l):\n",
    "    return [voc.word2index[word] for word in l.split(' ')]+[EOS_token]\n",
    "\n",
    "def zeropad(l,fillvalue=PAD_token):\n",
    "    return list(zip_longest(*l,fillvalue=fillvalue))\n",
    "    \n",
    "def binarymat(l):\n",
    "    matrix=[]\n",
    "    for i,seq in enumerate(l):\n",
    "        matrix.append([])\n",
    "        #print(seq)\n",
    "        for token in seq:\n",
    "            #print(token)\n",
    "            if token==PAD_token:\n",
    "                matrix[i].append(0)\n",
    "            else:\n",
    "                matrix[i].append(1)\n",
    "                \n",
    "    return matrix\n",
    "            \n",
    "\n",
    "def inputvar(voc,l):\n",
    "    batch_index=[getindex(voc,sent) for sent in l ]\n",
    "    input_length=tc.Tensor([len(sent) for sent in batch_index])\n",
    "    \n",
    "    padvar=zeropad(batch_index,PAD_token)\n",
    "    padvar=tc.LongTensor(padvar)\n",
    "    \n",
    "    return padvar,input_length\n",
    "    \n",
    "    \n",
    "    \n",
    "            \n",
    "        \n",
    "def outputvar(voc,l):\n",
    "    batch_index=[getindex(voc,sent) for sent in l ]\n",
    "    max_tarlen=max([len(sent) for sent in batch_index])\n",
    "    \n",
    "    padlist=zeropad(batch_index,PAD_token)\n",
    "    #print(padlist)\n",
    "    matrix01=binarymat(padlist)\n",
    "    #print(matrix01)\n",
    "    matrix01=tc.ByteTensor(matrix01)\n",
    "    \n",
    "    padvar=tc.LongTensor(padlist)\n",
    "    \n",
    "    return padvar,matrix01,max_tarlen\n",
    "    \n",
    "    \n",
    "def batchdata(voc,pair):\n",
    "    inputbatch,outbatch=[],[]\n",
    "    for p in pair:\n",
    "        inputbatch.append(p[0])\n",
    "        outbatch.append(p[1])\n",
    "        \n",
    "    padvar,input_len=inputvar(voc,inputbatch)\n",
    "    outvar,mat01,max_tar=outputvar(voc,outbatch)\n",
    "    \n",
    "    \n",
    "    return padvar,input_len,outvar,mat01,max_tar\n",
    "    \n",
    "voc1=VOC(jspath)\n",
    "voc1.trim(3)\n",
    "pairs=voc1.getrid()\n",
    "print(pairs)\n",
    "\n",
    "sm_batch=5\n",
    "sm_pair=[random.choice(pairs) for _ in range(sm_batch)]\n",
    "pvar,inp,otvar,mat,max_tar=batchdata(voc1,sm_pair)\n",
    "\n",
    "print(pvar)\n",
    "print(inp)\n",
    "print(otvar)\n",
    "print(mat)\n",
    "print(max_tar)\n",
    "print(\"word_num,sample_num:%d %d\"%(voc1.num_words,len(pairs)))\n",
    "      \n",
    "\n",
    "class encoder(nn.Module):\n",
    "    def __init__(self,hidden_size,embedding,n_lay,prob=0):\n",
    "        super(encoder,self).__init__()\n",
    "        self.embedding=embedding\n",
    "        self.hidden_size=hidden_size\n",
    "        self.n_lay=n_lay\n",
    "        self.gru=nn.GRU(hidden_size,hidden_size,n_lay,dropout=prob,bidirectional=True)\n",
    "        \n",
    "        \n",
    "    def forward(self,input_sen,input_len,hidden=None):\n",
    "        input_emb=self.embedding(input_sen)\n",
    "        print(input_emb.size(),input_len.size())\n",
    "        packed=nn.utils.rnn.pack_padded_sequence(input_emb, input_len,enforce_sorted=False)\n",
    "        \n",
    "        \n",
    "        output,hid=self.gru(packed,hidden)\n",
    "        \n",
    "        \n",
    "        output,_= nn.utils.rnn.pad_packed_sequence(output)\n",
    "        \n",
    "        output=output[:,:,:hidden_size]+output[:,:,hidden_size:]\n",
    "        \n",
    "        \n",
    "        return output,hid\n",
    "        \n",
    "  \n",
    "\n",
    "class attn(nn.Module):\n",
    "    def __init__(self,hidden_size):\n",
    "        super(attn,self).__init__()\n",
    "        \n",
    "        self.attnlay1=nn.Linear(2*hidden_size,hidden_size)\n",
    "        self.attnlay2=nn.Linear(2*hidden_size,hidden_size)\n",
    "        self.attnlay3=nn.Linear(2*hidden_size,hidden_size)\n",
    "        self.affine=nn.Linear(3*hidden_size,hidden_size)\n",
    "        \n",
    "        self.v=tc.nn.Parameter(tc.FloatTensor(hidden_size))\n",
    "        \n",
    "        \n",
    "    def forward(self,hidden,encoder_output):\n",
    "        maxlen,b,d=encoder_output.size()[0],encoder_output.size()[1],encoder_output.size()[2]\n",
    "        \n",
    "        exphid=hidden.expand(maxlen,b,d)\n",
    "        \n",
    "        energe1=self.attnlay1(tc.cat((exphid,encoder_output),2))\n",
    "        energe2=self.attnlay2(tc.cat((exphid,encoder_output),2))\n",
    "        energe3=self.attnlay3(tc.cat((exphid,encoder_output),2))\n",
    "        \n",
    "        energe=tc.cat((energe1,energe2,energe3),2)\n",
    "        energe=self.affine(energe)\n",
    "        \n",
    "        #print(energe.size())\n",
    "        energe=tc.sum((energe*self.v),dim=2)\n",
    "        \n",
    "        \n",
    "        \n",
    "        score=F.softmax(energe.t(),dim=1).unsqueeze(1)\n",
    "        \n",
    "        return score\n",
    "    \n",
    "\n",
    "    \n",
    "class decoder(nn.Module):\n",
    "    def __init__(self,embedding,hidden_size,output_size,n_lay,prob):\n",
    "        super(decoder,self).__init__()\n",
    "        self.embedding=embedding\n",
    "        self.attmodel=attn(hidden_size)\n",
    "        self.output_size=output_size\n",
    "        self.n_lay=n_lay\n",
    "        \n",
    "        self.drop=nn.Dropout(prob)\n",
    "        \n",
    "        self.gru=nn.GRU(hidden_size,hidden_size,n_lay,dropout=prob,bidirectional=False)\n",
    "        \n",
    "        self.concat=nn.Linear(2*hidden_size,hidden_size)\n",
    "        \n",
    "        self.tran=nn.Linear(hidden_size,output_size)\n",
    "        self.copy=nn.Linear(2*hidden_size+output_size,1,bias=True)\n",
    "        \n",
    "        \n",
    "    def forward(self,input_enc,input_dec,last_hidden,encoder_output):\n",
    "        embed=self.embedding(input_dec)\n",
    "        embed=self.drop(embed)\n",
    "        \n",
    "        #lastembd=self.embedding(lastword)\n",
    "        \n",
    "        rnnout,state=self.gru(embed,last_hidden)\n",
    "        rnnout=rnnout.squeeze(0)\n",
    "        #print(\"rnnout_size\",rnnout.size())\n",
    "        weight=self.attmodel(rnnout,encoder_output)\n",
    "        context=weight.bmm(encoder_output.transpose(1,0))\n",
    "        #print(\"context_size\",context.size())\n",
    "        coninp=tc.cat((rnnout,context.squeeze()),1)\n",
    "        catout=F.tanh(self.concat(coninp))\n",
    "        \n",
    "        genout=F.softmax(self.tran(catout),dim=1)\n",
    "        \n",
    "        copywei=F.sigmoid(self.copy(tc.cat((rnnout,genout,embed.squeeze()),1)))\n",
    "        copywei=copywei.expand(encoder_output.size()[1],self.output_size)\n",
    "        \n",
    "        copyprob=tc.zeros(encoder_output.size()[1],self.output_size)\n",
    "        \n",
    "        for i in range(encoder_output.size()[1]):\n",
    "            for j in range(self.output_size):\n",
    "                dex=(input_enc[:,i]==j).nonzero().squeeze()\n",
    "                try:\n",
    "                    val=tc.sum(weight.squeeze(1)[i].gather(0,tc.LongTensor(dex)))\n",
    "                    copyprob[i,j]=val\n",
    "                except IndexError:\n",
    "                    copyprob[i,j]=0\n",
    "                           \n",
    "        comp=tc.ones(encoder_output.size()[1],self.output_size)\n",
    "        allout=copywei.mul(genout)+(comp-copywei).mul(copyprob)\n",
    "                           \n",
    "        return allout,state\n",
    "                \n",
    "        \n",
    "def nleloss(inp,tar,mask):\n",
    "    crossent=-1*tc.log(inp.gather(1,tar.view(-1,1))).squeeze()\n",
    "    item=tc.sum(mask)\n",
    "    sloss=tc.sum(crossent.masked_select(mask))\n",
    "                           \n",
    "    return sloss,item\n",
    "                           \n",
    "def train(inputvar,inputlen,tarvar,mask,max_tarlen,encoder,decoder,\n",
    "         encoder_opt,decoder_opt,batch_size):\n",
    "    \n",
    "    loss,items=0,0\n",
    "    encoder_opt.zero_grad()\n",
    "    decoder_opt.zero_grad()\n",
    "                           \n",
    "    encoder_output,encoder_hid=encoder(inputvar,inputlen)\n",
    "    \n",
    "    decoder_hid=encoder_hid[:decoder.n_lay]\n",
    "    dec_inp=tc.LongTensor([[SOS_token for _ in range(batch_size)]])\n",
    "    last_out=tc.LongTensor([0 for _ in range(batch_size)])\n",
    "    print(max_tarlen)                    \n",
    "    for t in range(max_tarlen):\n",
    "        print(\"step:%d\"%t,end=\" \")\n",
    "        decoder_out,decoder_hid=decoder(inputvar,dec_inp,decoder_hid,encoder_output)\n",
    "                           \n",
    "        _,decoder_best=decoder_out.topk(3)\n",
    "        dec_inp=tc.LongTensor([[decoder_best[i][0] for i in range(batch_size)]])\n",
    "                           \n",
    "        lossp,itemp=nleloss(decoder_out,tarvar[t],mask[t])\n",
    "        print(lossp)\n",
    "        loss,items=loss+lossp,items+itemp\n",
    "        \n",
    "                           \n",
    "    loss.backward()\n",
    "                           \n",
    "    _=nn.utils.clip_grad_norm_(encoder.parameters(),5)\n",
    "    _=nn.utils.clip_grad_norm_(decoder.parameters(),5)\n",
    "    \n",
    "                           \n",
    "    encoder_opt.step()\n",
    "    decoder_opt.step()\n",
    "    return loss/items\n",
    "                           \n",
    "\n",
    "batch_size=16\n",
    "iternum=20\n",
    "lay=3\n",
    "p=0.1\n",
    "hidden_size=256\n",
    "\n",
    "batchdataes=[batchdata(voc1,[random.choice(pairs) for _ in range(batch_size)]) for _ in range(iternum)]\n",
    "                           \n",
    "emb=nn.Embedding(voc1.num_words,hidden_size)\n",
    "ENC=encoder(hidden_size,emb,lay,p)\n",
    "DEC=decoder(emb,hidden_size,voc1.num_words,lay,p)\n",
    "\n",
    "enc_opt=optim.Adam(ENC.parameters(),lr=0.001)\n",
    "dec_opt=optim.Adam(DEC.parameters(),lr=0.001)\n",
    "                           \n",
    "for epoch in range(iternum):\n",
    "    \n",
    "    pvar,inp,otvar,mat,max_tar=batchdataes[epoch]\n",
    "    print(\"-------------------data loaded-------------------\")\n",
    "    \n",
    "    print(pvar,inp)\n",
    "    \n",
    "    loss=train(pvar,inp,otvar,mat,max_tar,ENC,DEC,enc_opt,dec_opt,batch_size)\n",
    "    #if(epoch%10==0):\n",
    "    print(\"the %d th epoch:loss %.4f\"%(epoch,loss))\n",
    "                \n",
    "\n",
    "                           \n",
    "\n"
   ]
  }
 ],
 "metadata": {
  "kernelspec": {
   "display_name": "Python 2",
   "language": "python",
   "name": "python2"
  },
  "language_info": {
   "codemirror_mode": {
    "name": "ipython",
    "version": 2
   },
   "file_extension": ".py",
   "mimetype": "text/x-python",
   "name": "python",
   "nbconvert_exporter": "python",
   "pygments_lexer": "ipython2",
   "version": "2.7.15"
  },
  "toc": {
   "base_numbering": 1,
   "nav_menu": {},
   "number_sections": true,
   "sideBar": true,
   "skip_h1_title": false,
   "title_cell": "Table of Contents",
   "title_sidebar": "Contents",
   "toc_cell": false,
   "toc_position": {},
   "toc_section_display": true,
   "toc_window_display": false
  }
 },
 "nbformat": 4,
 "nbformat_minor": 2
}
